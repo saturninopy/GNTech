{
 "cells": [
  {
   "cell_type": "code",
   "execution_count": 1,
   "id": "922d5557-bfd6-41f8-9200-9230e34f691b",
   "metadata": {},
   "outputs": [
    {
     "name": "stdout",
     "output_type": "stream",
     "text": [
      "Requirement already satisfied: selenium in c:\\users\\alexa\\anaconda3\\lib\\site-packages (4.1.3)\n",
      "Requirement already satisfied: trio~=0.17 in c:\\users\\alexa\\anaconda3\\lib\\site-packages (from selenium) (0.20.0)\n",
      "Requirement already satisfied: trio-websocket~=0.9 in c:\\users\\alexa\\anaconda3\\lib\\site-packages (from selenium) (0.9.2)\n",
      "Requirement already satisfied: urllib3[secure,socks]~=1.26 in c:\\users\\alexa\\anaconda3\\lib\\site-packages (from selenium) (1.26.7)\n",
      "Requirement already satisfied: idna in c:\\users\\alexa\\anaconda3\\lib\\site-packages (from trio~=0.17->selenium) (3.2)\n",
      "Requirement already satisfied: sniffio in c:\\users\\alexa\\anaconda3\\lib\\site-packages (from trio~=0.17->selenium) (1.2.0)\n",
      "Requirement already satisfied: async-generator>=1.9 in c:\\users\\alexa\\anaconda3\\lib\\site-packages (from trio~=0.17->selenium) (1.10)\n",
      "Requirement already satisfied: attrs>=19.2.0 in c:\\users\\alexa\\anaconda3\\lib\\site-packages (from trio~=0.17->selenium) (21.2.0)\n",
      "Requirement already satisfied: sortedcontainers in c:\\users\\alexa\\anaconda3\\lib\\site-packages (from trio~=0.17->selenium) (2.4.0)\n",
      "Requirement already satisfied: outcome in c:\\users\\alexa\\anaconda3\\lib\\site-packages (from trio~=0.17->selenium) (1.1.0)\n",
      "Requirement already satisfied: cffi>=1.14 in c:\\users\\alexa\\anaconda3\\lib\\site-packages (from trio~=0.17->selenium) (1.14.6)\n",
      "Requirement already satisfied: pycparser in c:\\users\\alexa\\anaconda3\\lib\\site-packages (from cffi>=1.14->trio~=0.17->selenium) (2.20)\n",
      "Requirement already satisfied: wsproto>=0.14 in c:\\users\\alexa\\anaconda3\\lib\\site-packages (from trio-websocket~=0.9->selenium) (1.1.0)\n",
      "Requirement already satisfied: pyOpenSSL>=0.14 in c:\\users\\alexa\\anaconda3\\lib\\site-packages (from urllib3[secure,socks]~=1.26->selenium) (21.0.0)\n",
      "Requirement already satisfied: cryptography>=1.3.4 in c:\\users\\alexa\\anaconda3\\lib\\site-packages (from urllib3[secure,socks]~=1.26->selenium) (3.4.8)\n",
      "Requirement already satisfied: certifi in c:\\users\\alexa\\anaconda3\\lib\\site-packages (from urllib3[secure,socks]~=1.26->selenium) (2021.10.8)\n",
      "Requirement already satisfied: PySocks!=1.5.7,<2.0,>=1.5.6 in c:\\users\\alexa\\anaconda3\\lib\\site-packages (from urllib3[secure,socks]~=1.26->selenium) (1.7.1)\n",
      "Requirement already satisfied: six>=1.5.2 in c:\\users\\alexa\\anaconda3\\lib\\site-packages (from pyOpenSSL>=0.14->urllib3[secure,socks]~=1.26->selenium) (1.16.0)\n",
      "Requirement already satisfied: h11<1,>=0.9.0 in c:\\users\\alexa\\anaconda3\\lib\\site-packages (from wsproto>=0.14->trio-websocket~=0.9->selenium) (0.13.0)\n"
     ]
    }
   ],
   "source": [
    "# EXEMPLO WEB CRAWLING - RI DE EMPRESAS, PRINCIPAIS GESTORAS, PAINEL DE DESEMPENHO (ASSETS, QUANT, BBI)\n",
    "\n",
    "!pip install selenium\n",
    "\n",
    "from selenium import webdriver\n",
    "from selenium.webdriver.common.by import By\n",
    "from selenium.webdriver.chrome.service import Service\n",
    "import time \n",
    "import pandas as pd\n",
    "\n",
    "s = Service('C:\\\\Users\\\\alexa\\\\OneDrive\\\\Área de Trabalho\\\\Area Tech\\\\Aula 2 - Scrapping\\\\msedgedriver')"
   ]
  },
  {
   "cell_type": "code",
   "execution_count": 2,
   "id": "29ff963c-f8c9-44d1-a021-10805ad768ad",
   "metadata": {},
   "outputs": [],
   "source": [
    "def puxar_giant():\n",
    "    df = pd.DataFrame({'Message':[],'Posted':[]}) # GERAÇÃO DO DATAFRAME\n",
    "    wd = webdriver.Edge(service=s) # IMPORTAÇÃO DO WEBDRIVER\n",
    "    \n",
    "    wd.get('https://gscap.com.br/en/zarathustra-darius-funds/') # ABRE O SITE\n",
    "    time.sleep(2)\n",
    "    wd.maximize_window()\n",
    "    time.sleep(1)\n",
    "    \n",
    "    mensagem = wd.find_element(By.XPATH,'/html/body/div/h1')\n",
    "    Mensagem = mensagem.text \n",
    "    \n",
    "    line = {'Message': Mensagem,'Posted': 'Yes'}\n",
    "    df = df.append(line, ignore_index = True)\n",
    "    \n",
    "    df.to_excel('Giant_Stats.xlsx', index=False)\n",
    "    time.sleep(1)\n",
    "    wd.close()\n",
    "    return df.style"
   ]
  },
  {
   "cell_type": "code",
   "execution_count": 3,
   "id": "54a2aab0-be58-465d-a7e4-eb0a6739cf4f",
   "metadata": {},
   "outputs": [
    {
     "data": {
      "text/html": [
       "<style type=\"text/css\">\n",
       "</style>\n",
       "<table id=\"T_948d1_\">\n",
       "  <thead>\n",
       "    <tr>\n",
       "      <th class=\"blank level0\" >&nbsp;</th>\n",
       "      <th class=\"col_heading level0 col0\" >Message</th>\n",
       "      <th class=\"col_heading level0 col1\" >Posted</th>\n",
       "    </tr>\n",
       "  </thead>\n",
       "  <tbody>\n",
       "    <tr>\n",
       "      <th id=\"T_948d1_level0_row0\" class=\"row_heading level0 row0\" >0</th>\n",
       "      <td id=\"T_948d1_row0_col0\" class=\"data row0 col0\" >Erro ao estabelecer uma conexão com o banco de dados</td>\n",
       "      <td id=\"T_948d1_row0_col1\" class=\"data row0 col1\" >Yes</td>\n",
       "    </tr>\n",
       "  </tbody>\n",
       "</table>\n"
      ],
      "text/plain": [
       "<pandas.io.formats.style.Styler at 0x15877e89fa0>"
      ]
     },
     "execution_count": 3,
     "metadata": {},
     "output_type": "execute_result"
    }
   ],
   "source": [
    "puxar_giant()"
   ]
  }
 ],
 "metadata": {
  "kernelspec": {
   "display_name": "Python 3 (ipykernel)",
   "language": "python",
   "name": "python3"
  },
  "language_info": {
   "codemirror_mode": {
    "name": "ipython",
    "version": 3
   },
   "file_extension": ".py",
   "mimetype": "text/x-python",
   "name": "python",
   "nbconvert_exporter": "python",
   "pygments_lexer": "ipython3",
   "version": "3.9.12"
  }
 },
 "nbformat": 4,
 "nbformat_minor": 5
}
