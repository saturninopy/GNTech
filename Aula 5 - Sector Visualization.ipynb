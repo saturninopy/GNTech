{
 "cells": [
  {
   "cell_type": "code",
   "execution_count": null,
   "id": "d82df4ba-200a-4182-b820-298f5fa6b32e",
   "metadata": {},
   "outputs": [],
   "source": [
    "!pip install yfinance\n",
    "!pip install pandas\n",
    "!pip install matplotlib\n",
    "!pip install numpy"
   ]
  },
  {
   "cell_type": "code",
   "execution_count": 3,
   "id": "e578ca1e-1fd5-4e4e-97a2-6e848d881fc5",
   "metadata": {},
   "outputs": [],
   "source": [
    "import yfinance as yf\n",
    "import pandas as pd\n",
    "\n",
    "lista_ativos = ['FLRY3.SA','RENT3.SA','CRFB3.SA','ABEV3.SA','TOTS3.SA','BPAC11.SA','ENJU3.SA','HOME34.SA','ANIM3.SA','HYPE3.SA']\n",
    "sectors = []\n",
    "\n",
    "for i in range(len(lista_ativos)):\n",
    "    ticker = yf.Ticker(lista_ativos[i])\n",
    "    search = ticker.info['sector']\n",
    "    sectors.append(search)\n",
    "\n",
    "df = pd.DataFrame({\"Empresa\": lista_ativos,\"Setor\": sectors})"
   ]
  },
  {
   "cell_type": "code",
   "execution_count": 4,
   "id": "e6baba41-9c34-43ee-8cd2-aa8c87e329c7",
   "metadata": {},
   "outputs": [
    {
     "data": {
      "text/html": [
       "<div>\n",
       "<style scoped>\n",
       "    .dataframe tbody tr th:only-of-type {\n",
       "        vertical-align: middle;\n",
       "    }\n",
       "\n",
       "    .dataframe tbody tr th {\n",
       "        vertical-align: top;\n",
       "    }\n",
       "\n",
       "    .dataframe thead th {\n",
       "        text-align: right;\n",
       "    }\n",
       "</style>\n",
       "<table border=\"1\" class=\"dataframe\">\n",
       "  <thead>\n",
       "    <tr style=\"text-align: right;\">\n",
       "      <th></th>\n",
       "      <th>Empresa</th>\n",
       "      <th>Setor</th>\n",
       "    </tr>\n",
       "  </thead>\n",
       "  <tbody>\n",
       "    <tr>\n",
       "      <th>0</th>\n",
       "      <td>FLRY3.SA</td>\n",
       "      <td>Healthcare</td>\n",
       "    </tr>\n",
       "    <tr>\n",
       "      <th>1</th>\n",
       "      <td>RENT3.SA</td>\n",
       "      <td>Industrials</td>\n",
       "    </tr>\n",
       "    <tr>\n",
       "      <th>2</th>\n",
       "      <td>CRFB3.SA</td>\n",
       "      <td>Consumer Defensive</td>\n",
       "    </tr>\n",
       "    <tr>\n",
       "      <th>3</th>\n",
       "      <td>ABEV3.SA</td>\n",
       "      <td>Consumer Defensive</td>\n",
       "    </tr>\n",
       "    <tr>\n",
       "      <th>4</th>\n",
       "      <td>TOTS3.SA</td>\n",
       "      <td>Technology</td>\n",
       "    </tr>\n",
       "    <tr>\n",
       "      <th>5</th>\n",
       "      <td>BPAC11.SA</td>\n",
       "      <td>Financial Services</td>\n",
       "    </tr>\n",
       "    <tr>\n",
       "      <th>6</th>\n",
       "      <td>ENJU3.SA</td>\n",
       "      <td>Consumer Cyclical</td>\n",
       "    </tr>\n",
       "    <tr>\n",
       "      <th>7</th>\n",
       "      <td>HOME34.SA</td>\n",
       "      <td>Consumer Cyclical</td>\n",
       "    </tr>\n",
       "    <tr>\n",
       "      <th>8</th>\n",
       "      <td>ANIM3.SA</td>\n",
       "      <td>Consumer Defensive</td>\n",
       "    </tr>\n",
       "    <tr>\n",
       "      <th>9</th>\n",
       "      <td>HYPE3.SA</td>\n",
       "      <td>Healthcare</td>\n",
       "    </tr>\n",
       "  </tbody>\n",
       "</table>\n",
       "</div>"
      ],
      "text/plain": [
       "     Empresa               Setor\n",
       "0   FLRY3.SA          Healthcare\n",
       "1   RENT3.SA         Industrials\n",
       "2   CRFB3.SA  Consumer Defensive\n",
       "3   ABEV3.SA  Consumer Defensive\n",
       "4   TOTS3.SA          Technology\n",
       "5  BPAC11.SA  Financial Services\n",
       "6   ENJU3.SA   Consumer Cyclical\n",
       "7  HOME34.SA   Consumer Cyclical\n",
       "8   ANIM3.SA  Consumer Defensive\n",
       "9   HYPE3.SA          Healthcare"
      ]
     },
     "execution_count": 4,
     "metadata": {},
     "output_type": "execute_result"
    }
   ],
   "source": [
    "df"
   ]
  },
  {
   "cell_type": "code",
   "execution_count": 32,
   "id": "28355623-4a38-41ae-876a-aecbcd1d8b99",
   "metadata": {},
   "outputs": [
    {
     "data": {
      "image/png": "[encoded data removed]",
      "text/plain": [
       "<Figure size 432x288 with 1 Axes>"
      ]
     },
     "metadata": {
      "needs_background": "light"
     },
     "output_type": "display_data"
    }
   ],
   "source": [
    "import matplotlib.pyplot as plt\n",
    "import numpy as np\n",
    "\n",
    "df['Setor'].value_counts()\n",
    "\n",
    "plt.title('Portfolio Sectors')\n",
    "plt.ylabel('Quantity')\n",
    "df['Setor'].value_counts().plot(kind='bar', color = 'Green')\n",
    "plt.show()"
   ]
  },
  {
   "cell_type": "code",
   "execution_count": null,
   "id": "b793e66f-56cd-49d7-aba8-d4be1b9a3da5",
   "metadata": {},
   "outputs": [],
   "source": []
  }
 ],
 "metadata": {
  "kernelspec": {
   "display_name": "Python 3 (ipykernel)",
   "language": "python",
   "name": "python3"
  },
  "language_info": {
   "codemirror_mode": {
    "name": "ipython",
    "version": 3
   },
   "file_extension": ".py",
   "mimetype": "text/x-python",
   "name": "python",
   "nbconvert_exporter": "python",
   "pygments_lexer": "ipython3",
   "version": "3.9.12"
  }
 },
 "nbformat": 4,
 "nbformat_minor": 5
}
