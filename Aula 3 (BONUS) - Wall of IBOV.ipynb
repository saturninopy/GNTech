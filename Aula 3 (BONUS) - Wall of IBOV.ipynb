{
 "cells": [
  {
   "cell_type": "code",
   "execution_count": null,
   "id": "e24c5410-9b08-4624-9efb-0b9c41b618a3",
   "metadata": {},
   "outputs": [],
   "source": [
    "!pip install lxml \n",
    "!pip install html5lib\n",
    "!pip install BeautifulSoup4"
   ]
  },
  {
   "cell_type": "code",
   "execution_count": 2,
   "id": "6f1dc183-fb3d-4364-957c-a8af7afc2dbe",
   "metadata": {},
   "outputs": [],
   "source": [
    "import warnings\n",
    "warnings.simplefilter(action='ignore', category=FutureWarning)"
   ]
  },
  {
   "cell_type": "code",
   "execution_count": 3,
   "id": "81453f5f-1539-40dd-b33a-a38e6e0c65ae",
   "metadata": {},
   "outputs": [],
   "source": [
    "import pandas as pd\n",
    "import plotly.express as px\n",
    "import numpy as np\n",
    "import yfinance as yf"
   ]
  },
  {
   "cell_type": "code",
   "execution_count": 4,
   "id": "855cf0ba-277a-4113-aa80-f2eed65bede7",
   "metadata": {},
   "outputs": [],
   "source": [
    "def dados_b3(html):\n",
    "    data = pd.read_html(html)\n",
    "    df = pd.DataFrame(data[0])\n",
    "    df = df[(df['Código']!= 'Quantidade Teórica Total') & (df['Código']!= 'Redutor')]\n",
    "    df['Part. (%)'] = df['Part. (%)'].div(1000)\n",
    "    df.sort_values(by=['Part. (%)'], inplace=True, ascending = False)\n",
    "    df.reset_index(inplace = True)\n",
    "    df.drop('index',axis=1, inplace = True)\n",
    "    return df"
   ]
  },
  {
   "cell_type": "code",
   "execution_count": 5,
   "id": "ffcf0325-a8d7-4882-aae5-058418032c0d",
   "metadata": {},
   "outputs": [],
   "source": [
    "IBOV = dados_b3('<table class=\"table table-responsive-sm table-responsive-md\"><thead><tr><th>Código</th><th>Ação</th><th>Tipo</th><th>Qtde. Teórica</th><th>Part. (%)</th></tr></thead><tbody><tr><td>RRRP3</td><td>3R PETROLEUM</td><td>ON      NM</td><td class=\"text-right\">200.372.163</td><td class=\"text-right\">0,340</td></tr><tr><td>ALPA4</td><td>ALPARGATAS</td><td>PN      N1</td><td class=\"text-right\">201.257.220</td><td class=\"text-right\">0,197</td></tr><tr><td>ABEV3</td><td>AMBEV S/A</td><td>ON</td><td class=\"text-right\">4.380.195.841</td><td class=\"text-right\">3,229</td></tr><tr><td>AMER3</td><td>AMERICANAS</td><td>ON      NM</td><td class=\"text-right\">596.875.824</td><td class=\"text-right\">0,419</td></tr><tr><td>ASAI3</td><td>ASSAI</td><td>ON      NM</td><td class=\"text-right\">794.531.367</td><td class=\"text-right\">0,683</td></tr><tr><td>AZUL4</td><td>AZUL</td><td>PN      N2</td><td class=\"text-right\">327.741.172</td><td class=\"text-right\">0,221</td></tr><tr><td>B3SA3</td><td>B3</td><td>ON      NM</td><td class=\"text-right\">5.987.625.321</td><td class=\"text-right\">3,649</td></tr><tr><td>BPAN4</td><td>BANCO PAN</td><td>PN      N1</td><td class=\"text-right\">341.124.068</td><td class=\"text-right\">0,127</td></tr><tr><td>BBSE3</td><td>BBSEGURIDADE</td><td>ON      NM</td><td class=\"text-right\">671.629.692</td><td class=\"text-right\">0,966</td></tr><tr><td>BRML3</td><td>BR MALLS PAR</td><td>ON      NM</td><td class=\"text-right\">828.273.884</td><td class=\"text-right\">0,362</td></tr><tr><td>BBDC3</td><td>BRADESCO</td><td>ON  EJ  N1</td><td class=\"text-right\">1.516.726.535</td><td class=\"text-right\">1,173</td></tr><tr><td>BBDC4</td><td>BRADESCO</td><td>PN  EJ  N1</td><td class=\"text-right\">5.160.570.290</td><td class=\"text-right\">4,820</td></tr><tr><td>BRAP4</td><td>BRADESPAR</td><td>PN      N1</td><td class=\"text-right\">251.402.249</td><td class=\"text-right\">0,285</td></tr><tr><td>BBAS3</td><td>BRASIL</td><td>ON      NM</td><td class=\"text-right\">1.420.530.937</td><td class=\"text-right\">2,710</td></tr><tr><td>BRKM5</td><td>BRASKEM</td><td>PNA     N1</td><td class=\"text-right\">264.975.728</td><td class=\"text-right\">0,472</td></tr><tr><td>BRFS3</td><td>BRF SA</td><td>ON      NM</td><td class=\"text-right\">1.076.512.610</td><td class=\"text-right\">0,910</td></tr><tr><td>BPAC11</td><td>BTGP BANCO</td><td>UNT EJ  N2</td><td class=\"text-right\">1.301.655.996</td><td class=\"text-right\">1,619</td></tr><tr><td>CRFB3</td><td>CARREFOUR BR</td><td>ON      NM</td><td class=\"text-right\">410.988.561</td><td class=\"text-right\">0,406</td></tr><tr><td>CCRO3</td><td>CCR SA</td><td>ON      NM</td><td class=\"text-right\">1.115.693.556</td><td class=\"text-right\">0,777</td></tr><tr><td>CMIG4</td><td>CEMIG</td><td>PN      N1</td><td class=\"text-right\">1.448.479.060</td><td class=\"text-right\">0,856</td></tr><tr><td>CIEL3</td><td>CIELO</td><td>ON      NM</td><td class=\"text-right\">1.144.359.228</td><td class=\"text-right\">0,286</td></tr><tr><td>COGN3</td><td>COGNA ON</td><td>ON      NM</td><td class=\"text-right\">1.828.106.676</td><td class=\"text-right\">0,234</td></tr><tr><td>CPLE6</td><td>COPEL</td><td>PNB     N2</td><td class=\"text-right\">1.563.365.506</td><td class=\"text-right\">0,570</td></tr><tr><td>CSAN3</td><td>COSAN</td><td>ON      NM</td><td class=\"text-right\">1.171.063.698</td><td class=\"text-right\">1,177</td></tr><tr><td>CPFE3</td><td>CPFL ENERGIA</td><td>ON      NM</td><td class=\"text-right\">187.732.538</td><td class=\"text-right\">0,316</td></tr><tr><td>CMIN3</td><td>CSNMINERACAO</td><td>ON      N2</td><td class=\"text-right\">1.120.593.365</td><td class=\"text-right\">0,209</td></tr><tr><td>CVCB3</td><td>CVC BRASIL</td><td>ON      NM</td><td class=\"text-right\">276.543.929</td><td class=\"text-right\">0,108</td></tr><tr><td>CYRE3</td><td>CYRELA REALT</td><td>ON      NM</td><td class=\"text-right\">281.609.283</td><td class=\"text-right\">0,209</td></tr><tr><td>DXCO3</td><td>DEXCO</td><td>ON      NM</td><td class=\"text-right\">295.712.871</td><td class=\"text-right\">0,158</td></tr><tr><td>ECOR3</td><td>ECORODOVIAS</td><td>ON      NM</td><td class=\"text-right\">339.237.914</td><td class=\"text-right\">0,106</td></tr><tr><td>ELET3</td><td>ELETROBRAS</td><td>ON      N1</td><td class=\"text-right\">985.704.248</td><td class=\"text-right\">2,395</td></tr><tr><td>ELET6</td><td>ELETROBRAS</td><td>PNB     N1</td><td class=\"text-right\">242.987.127</td><td class=\"text-right\">0,616</td></tr><tr><td>EMBR3</td><td>EMBRAER</td><td>ON      NM</td><td class=\"text-right\">734.588.205</td><td class=\"text-right\">0,495</td></tr><tr><td>ENBR3</td><td>ENERGIAS BR</td><td>ON      NM</td><td class=\"text-right\">230.931.405</td><td class=\"text-right\">0,258</td></tr><tr><td>ENGI11</td><td>ENERGISA</td><td>UNT     N2</td><td class=\"text-right\">248.477.689</td><td class=\"text-right\">0,560</td></tr><tr><td>ENEV3</td><td>ENEVA</td><td>ON      NM</td><td class=\"text-right\">1.557.479.978</td><td class=\"text-right\">1,230</td></tr><tr><td>EGIE3</td><td>ENGIE BRASIL</td><td>ON      NM</td><td class=\"text-right\">255.217.329</td><td class=\"text-right\">0,557</td></tr><tr><td>EQTL3</td><td>EQUATORIAL</td><td>ON      NM</td><td class=\"text-right\">1.100.513.485</td><td class=\"text-right\">1,416</td></tr><tr><td>EZTC3</td><td>EZTEC</td><td>ON      NM</td><td class=\"text-right\">101.618.236</td><td class=\"text-right\">0,093</td></tr><tr><td>FLRY3</td><td>FLEURY</td><td>ON      NM</td><td class=\"text-right\">303.373.882</td><td class=\"text-right\">0,237</td></tr><tr><td>GGBR4</td><td>GERDAU</td><td>PN      N1</td><td class=\"text-right\">1.097.534.498</td><td class=\"text-right\">1,366</td></tr><tr><td>GOAU4</td><td>GERDAU MET</td><td>PN      N1</td><td class=\"text-right\">698.275.321</td><td class=\"text-right\">0,362</td></tr><tr><td>GOLL4</td><td>GOL</td><td>PN      N2</td><td class=\"text-right\">167.095.214</td><td class=\"text-right\">0,084</td></tr><tr><td>NTCO3</td><td>GRUPO NATURA</td><td>ON      NM</td><td class=\"text-right\">834.914.221</td><td class=\"text-right\">0,742</td></tr><tr><td>SOMA3</td><td>GRUPO SOMA</td><td>ON      NM</td><td class=\"text-right\">489.316.435</td><td class=\"text-right\">0,283</td></tr><tr><td>HAPV3</td><td>HAPVIDA</td><td>ON      NM</td><td class=\"text-right\">4.454.692.382</td><td class=\"text-right\">1,451</td></tr><tr><td>HYPE3</td><td>HYPERA</td><td>ON      NM</td><td class=\"text-right\">410.253.528</td><td class=\"text-right\">0,885</td></tr><tr><td>IGTI11</td><td>IGUATEMI S.A</td><td>UNT     N1</td><td class=\"text-right\">180.013.980</td><td class=\"text-right\">0,193</td></tr><tr><td>IRBR3</td><td>IRBBRASIL RE</td><td>ON      NM</td><td class=\"text-right\">1.255.286.531</td><td class=\"text-right\">0,144</td></tr><tr><td>ITSA4</td><td>ITAUSA</td><td>PN      N1</td><td class=\"text-right\">4.736.140.654</td><td class=\"text-right\">2,154</td></tr><tr><td>ITUB4</td><td>ITAUUNIBANCO</td><td>PN  EJ  N1</td><td class=\"text-right\">4.781.077.143</td><td class=\"text-right\">6,018</td></tr><tr><td>JBSS3</td><td>JBS</td><td>ON      NM</td><td class=\"text-right\">1.290.736.673</td><td class=\"text-right\">2,025</td></tr><tr><td>JHSF3</td><td>JHSF PART</td><td>ON      NM</td><td class=\"text-right\">305.915.142</td><td class=\"text-right\">0,091</td></tr><tr><td>KLBN11</td><td>KLABIN S/A</td><td>UNT ED  N2</td><td class=\"text-right\">812.994.397</td><td class=\"text-right\">0,805</td></tr><tr><td>RENT3</td><td>LOCALIZA</td><td>ON      NM</td><td class=\"text-right\">735.708.470</td><td class=\"text-right\">2,308</td></tr><tr><td>LWSA3</td><td>LOCAWEB</td><td>ON      NM</td><td class=\"text-right\">418.965.264</td><td class=\"text-right\">0,189</td></tr><tr><td>LREN3</td><td>LOJAS RENNER</td><td>ON      NM</td><td class=\"text-right\">977.821.540</td><td class=\"text-right\">1,356</td></tr><tr><td>MGLU3</td><td>MAGAZ LUIZA</td><td>ON      NM</td><td class=\"text-right\">2.896.234.638</td><td class=\"text-right\">0,462</td></tr><tr><td>MRFG3</td><td>MARFRIG</td><td>ON      NM</td><td class=\"text-right\">348.234.011</td><td class=\"text-right\">0,236</td></tr><tr><td>CASH3</td><td>MELIUZ</td><td>ON      NM</td><td class=\"text-right\">548.153.725</td><td class=\"text-right\">0,036</td></tr><tr><td>BEEF3</td><td>MINERVA</td><td>ON      NM</td><td class=\"text-right\">260.409.710</td><td class=\"text-right\">0,172</td></tr><tr><td>MRVE3</td><td>MRV</td><td>ON      NM</td><td class=\"text-right\">294.647.234</td><td class=\"text-right\">0,169</td></tr><tr><td>MULT3</td><td>MULTIPLAN</td><td>ON      N2</td><td class=\"text-right\">272.718.548</td><td class=\"text-right\">0,341</td></tr><tr><td>PCAR3</td><td>P.ACUCAR-CBD</td><td>ON      NM</td><td class=\"text-right\">156.946.474</td><td class=\"text-right\">0,131</td></tr><tr><td>PETR3</td><td>PETROBRAS</td><td>ON      N2</td><td class=\"text-right\">2.706.334.382</td><td class=\"text-right\">5,127</td></tr><tr><td>PETR4</td><td>PETROBRAS</td><td>PN      N2</td><td class=\"text-right\">4.566.442.248</td><td class=\"text-right\">8,039</td></tr><tr><td>PRIO3</td><td>PETRORIO</td><td>ON      NM</td><td class=\"text-right\">839.159.130</td><td class=\"text-right\">1,020</td></tr><tr><td>PETZ3</td><td>PETZ</td><td>ON      NM</td><td class=\"text-right\">336.154.589</td><td class=\"text-right\">0,194</td></tr><tr><td>POSI3</td><td>POSITIVO TEC</td><td>ON      NM</td><td class=\"text-right\">78.053.723</td><td class=\"text-right\">0,030</td></tr><tr><td>QUAL3</td><td>QUALICORP</td><td>ON      NM</td><td class=\"text-right\">277.027.077</td><td class=\"text-right\">0,158</td></tr><tr><td>RADL3</td><td>RAIADROGASIL</td><td>ON      NM</td><td class=\"text-right\">1.071.076.905</td><td class=\"text-right\">1,200</td></tr><tr><td>RDOR3</td><td>REDE D OR</td><td>ON      NM</td><td class=\"text-right\">772.010.260</td><td class=\"text-right\">1,315</td></tr><tr><td>RAIL3</td><td>RUMO S.A.</td><td>ON      NM</td><td class=\"text-right\">1.216.056.103</td><td class=\"text-right\">1,124</td></tr><tr><td>SBSP3</td><td>SABESP</td><td>ON      NM</td><td class=\"text-right\">340.001.934</td><td class=\"text-right\">0,798</td></tr><tr><td>SANB11</td><td>SANTANDER BR</td><td>UNT</td><td class=\"text-right\">362.703.399</td><td class=\"text-right\">0,535</td></tr><tr><td>CSNA3</td><td>SID NACIONAL</td><td>ON</td><td class=\"text-right\">642.398.790</td><td class=\"text-right\">0,499</td></tr><tr><td>SLCE3</td><td>SLC AGRICOLA</td><td>ON      NM</td><td class=\"text-right\">96.270.946</td><td class=\"text-right\">0,207</td></tr><tr><td>SULA11</td><td>SUL AMERICA</td><td>UNT     N2</td><td class=\"text-right\">283.167.854</td><td class=\"text-right\">0,352</td></tr><tr><td>SUZB3</td><td>SUZANO S.A.</td><td>ON      NM</td><td class=\"text-right\">726.779.281</td><td class=\"text-right\">1,754</td></tr><tr><td>TAEE11</td><td>TAESA</td><td>UNT     N2</td><td class=\"text-right\">218.568.234</td><td class=\"text-right\">0,465</td></tr><tr><td>VIVT3</td><td>TELEF BRASIL</td><td>ON</td><td class=\"text-right\">413.890.875</td><td class=\"text-right\">0,950</td></tr><tr><td>TIMS3</td><td>TIM</td><td>ON      NM</td><td class=\"text-right\">808.619.532</td><td class=\"text-right\">0,517</td></tr><tr><td>TOTS3</td><td>TOTVS</td><td>ON  EJ  NM</td><td class=\"text-right\">519.851.955</td><td class=\"text-right\">0,707</td></tr><tr><td>UGPA3</td><td>ULTRAPAR</td><td>ON      NM</td><td class=\"text-right\">1.086.067.887</td><td class=\"text-right\">0,729</td></tr><tr><td>USIM5</td><td>USIMINAS</td><td>PNA     N1</td><td class=\"text-right\">514.680.651</td><td class=\"text-right\">0,228</td></tr><tr><td>VALE3</td><td>VALE</td><td>ON      NM</td><td class=\"text-right\">3.768.748.489</td><td class=\"text-right\">12,939</td></tr><tr><td>VIIA3</td><td>VIA</td><td>ON      NM</td><td class=\"text-right\">1.596.295.753</td><td class=\"text-right\">0,230</td></tr><tr><td>VBBR3</td><td>VIBRA</td><td>ON      NM</td><td class=\"text-right\">1.131.883.365</td><td class=\"text-right\">1,039</td></tr><tr><td>WEGE3</td><td>WEG</td><td>ON      NM</td><td class=\"text-right\">1.484.859.030</td><td class=\"text-right\">2,161</td></tr><tr><td>YDUQ3</td><td>YDUQS PART</td><td>ON      NM</td><td class=\"text-right\">300.833.122</td><td class=\"text-right\">0,229</td></tr><!----></tbody><tfoot><tr><td colspan=\"3\"> Quantidade Teórica Total </td><td class=\"text-right\">96.848.399.913</td><td class=\"text-right\">100,000</td></tr><tr><td colspan=\"3\"> Redutor </td><td class=\"text-right\">18.603.162,55976551</td><td></td></tr></tfoot><!----></table>')"
   ]
  },
  {
   "cell_type": "code",
   "execution_count": 6,
   "id": "471c552b-f7d4-48b3-8936-b0bd3ff1cad1",
   "metadata": {},
   "outputs": [
    {
     "data": {
      "text/html": [
       "<div>\n",
       "<style scoped>\n",
       "    .dataframe tbody tr th:only-of-type {\n",
       "        vertical-align: middle;\n",
       "    }\n",
       "\n",
       "    .dataframe tbody tr th {\n",
       "        vertical-align: top;\n",
       "    }\n",
       "\n",
       "    .dataframe thead th {\n",
       "        text-align: right;\n",
       "    }\n",
       "</style>\n",
       "<table border=\"1\" class=\"dataframe\">\n",
       "  <thead>\n",
       "    <tr style=\"text-align: right;\">\n",
       "      <th></th>\n",
       "      <th>Código</th>\n",
       "      <th>Ação</th>\n",
       "      <th>Tipo</th>\n",
       "      <th>Qtde. Teórica</th>\n",
       "      <th>Part. (%)</th>\n",
       "    </tr>\n",
       "  </thead>\n",
       "  <tbody>\n",
       "    <tr>\n",
       "      <th>0</th>\n",
       "      <td>VALE3</td>\n",
       "      <td>VALE</td>\n",
       "      <td>ON NM</td>\n",
       "      <td>3.768.748.489</td>\n",
       "      <td>12.939</td>\n",
       "    </tr>\n",
       "    <tr>\n",
       "      <th>1</th>\n",
       "      <td>PETR4</td>\n",
       "      <td>PETROBRAS</td>\n",
       "      <td>PN N2</td>\n",
       "      <td>4.566.442.248</td>\n",
       "      <td>8.039</td>\n",
       "    </tr>\n",
       "    <tr>\n",
       "      <th>2</th>\n",
       "      <td>ITUB4</td>\n",
       "      <td>ITAUUNIBANCO</td>\n",
       "      <td>PN EJ N1</td>\n",
       "      <td>4.781.077.143</td>\n",
       "      <td>6.018</td>\n",
       "    </tr>\n",
       "    <tr>\n",
       "      <th>3</th>\n",
       "      <td>PETR3</td>\n",
       "      <td>PETROBRAS</td>\n",
       "      <td>ON N2</td>\n",
       "      <td>2.706.334.382</td>\n",
       "      <td>5.127</td>\n",
       "    </tr>\n",
       "    <tr>\n",
       "      <th>4</th>\n",
       "      <td>BBDC4</td>\n",
       "      <td>BRADESCO</td>\n",
       "      <td>PN EJ N1</td>\n",
       "      <td>5.160.570.290</td>\n",
       "      <td>4.820</td>\n",
       "    </tr>\n",
       "  </tbody>\n",
       "</table>\n",
       "</div>"
      ],
      "text/plain": [
       "  Código          Ação      Tipo  Qtde. Teórica  Part. (%)\n",
       "0  VALE3          VALE     ON NM  3.768.748.489     12.939\n",
       "1  PETR4     PETROBRAS     PN N2  4.566.442.248      8.039\n",
       "2  ITUB4  ITAUUNIBANCO  PN EJ N1  4.781.077.143      6.018\n",
       "3  PETR3     PETROBRAS     ON N2  2.706.334.382      5.127\n",
       "4  BBDC4      BRADESCO  PN EJ N1  5.160.570.290      4.820"
      ]
     },
     "execution_count": 6,
     "metadata": {},
     "output_type": "execute_result"
    }
   ],
   "source": [
    "IBOV.head()"
   ]
  },
  {
   "cell_type": "code",
   "execution_count": 7,
   "id": "0505ff62-91d4-4c22-9e0f-8f16721fa121",
   "metadata": {},
   "outputs": [
    {
     "name": "stdout",
     "output_type": "stream",
     "text": [
      "[*********************100%***********************]  1 of 1 completed\n",
      "[*********************100%***********************]  1 of 1 completed\n",
      "[*********************100%***********************]  1 of 1 completed\n",
      "[*********************100%***********************]  1 of 1 completed\n",
      "[*********************100%***********************]  1 of 1 completed\n",
      "[*********************100%***********************]  1 of 1 completed\n",
      "[*********************100%***********************]  1 of 1 completed\n",
      "[*********************100%***********************]  1 of 1 completed\n",
      "[*********************100%***********************]  1 of 1 completed\n",
      "[*********************100%***********************]  1 of 1 completed\n",
      "[*********************100%***********************]  1 of 1 completed\n",
      "[*********************100%***********************]  1 of 1 completed\n",
      "[*********************100%***********************]  1 of 1 completed\n",
      "[*********************100%***********************]  1 of 1 completed\n",
      "[*********************100%***********************]  1 of 1 completed\n",
      "[*********************100%***********************]  1 of 1 completed\n",
      "[*********************100%***********************]  1 of 1 completed\n",
      "[*********************100%***********************]  1 of 1 completed\n",
      "[*********************100%***********************]  1 of 1 completed\n",
      "[*********************100%***********************]  1 of 1 completed\n",
      "[*********************100%***********************]  1 of 1 completed\n",
      "[*********************100%***********************]  1 of 1 completed\n",
      "[*********************100%***********************]  1 of 1 completed\n",
      "[*********************100%***********************]  1 of 1 completed\n",
      "[*********************100%***********************]  1 of 1 completed\n",
      "[*********************100%***********************]  1 of 1 completed\n",
      "[*********************100%***********************]  1 of 1 completed\n",
      "[*********************100%***********************]  1 of 1 completed\n",
      "[*********************100%***********************]  1 of 1 completed\n",
      "[*********************100%***********************]  1 of 1 completed\n",
      "[*********************100%***********************]  1 of 1 completed\n",
      "[*********************100%***********************]  1 of 1 completed\n",
      "[*********************100%***********************]  1 of 1 completed\n",
      "[*********************100%***********************]  1 of 1 completed\n",
      "[*********************100%***********************]  1 of 1 completed\n",
      "[*********************100%***********************]  1 of 1 completed\n",
      "[*********************100%***********************]  1 of 1 completed\n",
      "[*********************100%***********************]  1 of 1 completed\n",
      "[*********************100%***********************]  1 of 1 completed\n",
      "[*********************100%***********************]  1 of 1 completed\n",
      "[*********************100%***********************]  1 of 1 completed\n",
      "[*********************100%***********************]  1 of 1 completed\n",
      "[*********************100%***********************]  1 of 1 completed\n",
      "[*********************100%***********************]  1 of 1 completed\n",
      "[*********************100%***********************]  1 of 1 completed\n",
      "[*********************100%***********************]  1 of 1 completed\n",
      "[*********************100%***********************]  1 of 1 completed\n",
      "[*********************100%***********************]  1 of 1 completed\n",
      "[*********************100%***********************]  1 of 1 completed\n",
      "[*********************100%***********************]  1 of 1 completed\n",
      "[*********************100%***********************]  1 of 1 completed\n",
      "[*********************100%***********************]  1 of 1 completed\n",
      "[*********************100%***********************]  1 of 1 completed\n",
      "[*********************100%***********************]  1 of 1 completed\n",
      "[*********************100%***********************]  1 of 1 completed\n",
      "[*********************100%***********************]  1 of 1 completed\n",
      "[*********************100%***********************]  1 of 1 completed\n",
      "[*********************100%***********************]  1 of 1 completed\n",
      "[*********************100%***********************]  1 of 1 completed\n",
      "[*********************100%***********************]  1 of 1 completed\n",
      "[*********************100%***********************]  1 of 1 completed\n",
      "[*********************100%***********************]  1 of 1 completed\n",
      "[*********************100%***********************]  1 of 1 completed\n",
      "[*********************100%***********************]  1 of 1 completed\n",
      "[*********************100%***********************]  1 of 1 completed\n",
      "[*********************100%***********************]  1 of 1 completed\n",
      "[*********************100%***********************]  1 of 1 completed\n",
      "[*********************100%***********************]  1 of 1 completed\n",
      "[*********************100%***********************]  1 of 1 completed\n",
      "[*********************100%***********************]  1 of 1 completed\n",
      "[*********************100%***********************]  1 of 1 completed\n",
      "[*********************100%***********************]  1 of 1 completed\n",
      "[*********************100%***********************]  1 of 1 completed\n",
      "[*********************100%***********************]  1 of 1 completed\n",
      "[*********************100%***********************]  1 of 1 completed\n",
      "[*********************100%***********************]  1 of 1 completed\n",
      "[*********************100%***********************]  1 of 1 completed\n",
      "[*********************100%***********************]  1 of 1 completed\n",
      "[*********************100%***********************]  1 of 1 completed\n",
      "[*********************100%***********************]  1 of 1 completed\n",
      "[*********************100%***********************]  1 of 1 completed\n",
      "[*********************100%***********************]  1 of 1 completed\n",
      "[*********************100%***********************]  1 of 1 completed\n",
      "[*********************100%***********************]  1 of 1 completed\n",
      "[*********************100%***********************]  1 of 1 completed\n",
      "[*********************100%***********************]  1 of 1 completed\n",
      "[*********************100%***********************]  1 of 1 completed\n",
      "[*********************100%***********************]  1 of 1 completed\n",
      "[*********************100%***********************]  1 of 1 completed\n",
      "[*********************100%***********************]  1 of 1 completed\n"
     ]
    }
   ],
   "source": [
    "df = pd.DataFrame()\n",
    "\n",
    "lista_ativos = IBOV['Código'] + '.SA'\n",
    "lista_ativos = lista_ativos.values.tolist()\n",
    "\n",
    "for acoes in lista_ativos:\n",
    "    df[acoes] = yf.download(acoes,\n",
    "                            start = '2022-01-01')['Close']"
   ]
  },
  {
   "cell_type": "code",
   "execution_count": 8,
   "id": "13966670-58c8-41a4-b5a0-d5896a33cdfd",
   "metadata": {},
   "outputs": [
    {
     "data": {
      "text/html": [
       "<div>\n",
       "<style scoped>\n",
       "    .dataframe tbody tr th:only-of-type {\n",
       "        vertical-align: middle;\n",
       "    }\n",
       "\n",
       "    .dataframe tbody tr th {\n",
       "        vertical-align: top;\n",
       "    }\n",
       "\n",
       "    .dataframe thead th {\n",
       "        text-align: right;\n",
       "    }\n",
       "</style>\n",
       "<table border=\"1\" class=\"dataframe\">\n",
       "  <thead>\n",
       "    <tr style=\"text-align: right;\">\n",
       "      <th></th>\n",
       "      <th>VALE3.SA</th>\n",
       "      <th>PETR4.SA</th>\n",
       "      <th>ITUB4.SA</th>\n",
       "      <th>PETR3.SA</th>\n",
       "      <th>BBDC4.SA</th>\n",
       "      <th>B3SA3.SA</th>\n",
       "      <th>ABEV3.SA</th>\n",
       "      <th>BBAS3.SA</th>\n",
       "      <th>ELET3.SA</th>\n",
       "      <th>RENT3.SA</th>\n",
       "      <th>...</th>\n",
       "      <th>IRBR3.SA</th>\n",
       "      <th>PCAR3.SA</th>\n",
       "      <th>BPAN4.SA</th>\n",
       "      <th>CVCB3.SA</th>\n",
       "      <th>ECOR3.SA</th>\n",
       "      <th>EZTC3.SA</th>\n",
       "      <th>JHSF3.SA</th>\n",
       "      <th>GOLL4.SA</th>\n",
       "      <th>CASH3.SA</th>\n",
       "      <th>POSI3.SA</th>\n",
       "    </tr>\n",
       "    <tr>\n",
       "      <th>Date</th>\n",
       "      <th></th>\n",
       "      <th></th>\n",
       "      <th></th>\n",
       "      <th></th>\n",
       "      <th></th>\n",
       "      <th></th>\n",
       "      <th></th>\n",
       "      <th></th>\n",
       "      <th></th>\n",
       "      <th></th>\n",
       "      <th></th>\n",
       "      <th></th>\n",
       "      <th></th>\n",
       "      <th></th>\n",
       "      <th></th>\n",
       "      <th></th>\n",
       "      <th></th>\n",
       "      <th></th>\n",
       "      <th></th>\n",
       "      <th></th>\n",
       "      <th></th>\n",
       "    </tr>\n",
       "  </thead>\n",
       "  <tbody>\n",
       "    <tr>\n",
       "      <th>2022-08-08</th>\n",
       "      <td>68.580002</td>\n",
       "      <td>36.630001</td>\n",
       "      <td>25.240000</td>\n",
       "      <td>39.330002</td>\n",
       "      <td>18.559999</td>\n",
       "      <td>12.45</td>\n",
       "      <td>14.80</td>\n",
       "      <td>38.980000</td>\n",
       "      <td>48.290001</td>\n",
       "      <td>63.400002</td>\n",
       "      <td>...</td>\n",
       "      <td>2.32</td>\n",
       "      <td>16.910000</td>\n",
       "      <td>7.28</td>\n",
       "      <td>7.94</td>\n",
       "      <td>6.32</td>\n",
       "      <td>18.500000</td>\n",
       "      <td>6.02</td>\n",
       "      <td>10.62</td>\n",
       "      <td>1.34</td>\n",
       "      <td>7.95</td>\n",
       "    </tr>\n",
       "    <tr>\n",
       "      <th>2022-08-09</th>\n",
       "      <td>70.000000</td>\n",
       "      <td>37.230000</td>\n",
       "      <td>25.900000</td>\n",
       "      <td>39.849998</td>\n",
       "      <td>18.830000</td>\n",
       "      <td>12.25</td>\n",
       "      <td>14.74</td>\n",
       "      <td>39.630001</td>\n",
       "      <td>48.330002</td>\n",
       "      <td>61.799999</td>\n",
       "      <td>...</td>\n",
       "      <td>2.24</td>\n",
       "      <td>16.559999</td>\n",
       "      <td>6.87</td>\n",
       "      <td>7.07</td>\n",
       "      <td>6.16</td>\n",
       "      <td>17.559999</td>\n",
       "      <td>5.90</td>\n",
       "      <td>9.90</td>\n",
       "      <td>1.22</td>\n",
       "      <td>7.92</td>\n",
       "    </tr>\n",
       "    <tr>\n",
       "      <th>2022-08-10</th>\n",
       "      <td>70.050003</td>\n",
       "      <td>37.110001</td>\n",
       "      <td>26.379999</td>\n",
       "      <td>39.709999</td>\n",
       "      <td>19.129999</td>\n",
       "      <td>12.37</td>\n",
       "      <td>15.16</td>\n",
       "      <td>39.970001</td>\n",
       "      <td>47.980000</td>\n",
       "      <td>63.849998</td>\n",
       "      <td>...</td>\n",
       "      <td>2.44</td>\n",
       "      <td>17.370001</td>\n",
       "      <td>7.43</td>\n",
       "      <td>7.03</td>\n",
       "      <td>6.44</td>\n",
       "      <td>18.980000</td>\n",
       "      <td>6.37</td>\n",
       "      <td>10.58</td>\n",
       "      <td>1.29</td>\n",
       "      <td>8.48</td>\n",
       "    </tr>\n",
       "    <tr>\n",
       "      <th>2022-08-11</th>\n",
       "      <td>72.489998</td>\n",
       "      <td>36.250000</td>\n",
       "      <td>26.420000</td>\n",
       "      <td>38.959999</td>\n",
       "      <td>19.290001</td>\n",
       "      <td>12.15</td>\n",
       "      <td>15.13</td>\n",
       "      <td>41.740002</td>\n",
       "      <td>46.959999</td>\n",
       "      <td>62.910000</td>\n",
       "      <td>...</td>\n",
       "      <td>2.30</td>\n",
       "      <td>17.780001</td>\n",
       "      <td>7.36</td>\n",
       "      <td>6.94</td>\n",
       "      <td>6.26</td>\n",
       "      <td>18.209999</td>\n",
       "      <td>6.33</td>\n",
       "      <td>10.32</td>\n",
       "      <td>1.25</td>\n",
       "      <td>9.35</td>\n",
       "    </tr>\n",
       "    <tr>\n",
       "      <th>2022-08-12</th>\n",
       "      <td>69.800003</td>\n",
       "      <td>31.709999</td>\n",
       "      <td>26.740000</td>\n",
       "      <td>34.880001</td>\n",
       "      <td>19.530001</td>\n",
       "      <td>13.10</td>\n",
       "      <td>15.21</td>\n",
       "      <td>44.099998</td>\n",
       "      <td>46.900002</td>\n",
       "      <td>63.490002</td>\n",
       "      <td>...</td>\n",
       "      <td>2.31</td>\n",
       "      <td>18.580000</td>\n",
       "      <td>7.65</td>\n",
       "      <td>7.15</td>\n",
       "      <td>6.53</td>\n",
       "      <td>18.889999</td>\n",
       "      <td>6.65</td>\n",
       "      <td>10.97</td>\n",
       "      <td>1.34</td>\n",
       "      <td>9.80</td>\n",
       "    </tr>\n",
       "  </tbody>\n",
       "</table>\n",
       "<p>5 rows × 90 columns</p>\n",
       "</div>"
      ],
      "text/plain": [
       "             VALE3.SA   PETR4.SA   ITUB4.SA   PETR3.SA   BBDC4.SA  B3SA3.SA  \\\n",
       "Date                                                                          \n",
       "2022-08-08  68.580002  36.630001  25.240000  39.330002  18.559999     12.45   \n",
       "2022-08-09  70.000000  37.230000  25.900000  39.849998  18.830000     12.25   \n",
       "2022-08-10  70.050003  37.110001  26.379999  39.709999  19.129999     12.37   \n",
       "2022-08-11  72.489998  36.250000  26.420000  38.959999  19.290001     12.15   \n",
       "2022-08-12  69.800003  31.709999  26.740000  34.880001  19.530001     13.10   \n",
       "\n",
       "            ABEV3.SA   BBAS3.SA   ELET3.SA   RENT3.SA  ...  IRBR3.SA  \\\n",
       "Date                                                   ...             \n",
       "2022-08-08     14.80  38.980000  48.290001  63.400002  ...      2.32   \n",
       "2022-08-09     14.74  39.630001  48.330002  61.799999  ...      2.24   \n",
       "2022-08-10     15.16  39.970001  47.980000  63.849998  ...      2.44   \n",
       "2022-08-11     15.13  41.740002  46.959999  62.910000  ...      2.30   \n",
       "2022-08-12     15.21  44.099998  46.900002  63.490002  ...      2.31   \n",
       "\n",
       "             PCAR3.SA  BPAN4.SA  CVCB3.SA  ECOR3.SA   EZTC3.SA  JHSF3.SA  \\\n",
       "Date                                                                       \n",
       "2022-08-08  16.910000      7.28      7.94      6.32  18.500000      6.02   \n",
       "2022-08-09  16.559999      6.87      7.07      6.16  17.559999      5.90   \n",
       "2022-08-10  17.370001      7.43      7.03      6.44  18.980000      6.37   \n",
       "2022-08-11  17.780001      7.36      6.94      6.26  18.209999      6.33   \n",
       "2022-08-12  18.580000      7.65      7.15      6.53  18.889999      6.65   \n",
       "\n",
       "            GOLL4.SA  CASH3.SA  POSI3.SA  \n",
       "Date                                      \n",
       "2022-08-08     10.62      1.34      7.95  \n",
       "2022-08-09      9.90      1.22      7.92  \n",
       "2022-08-10     10.58      1.29      8.48  \n",
       "2022-08-11     10.32      1.25      9.35  \n",
       "2022-08-12     10.97      1.34      9.80  \n",
       "\n",
       "[5 rows x 90 columns]"
      ]
     },
     "execution_count": 8,
     "metadata": {},
     "output_type": "execute_result"
    }
   ],
   "source": [
    "df.tail()"
   ]
  },
  {
   "cell_type": "code",
   "execution_count": 9,
   "id": "f5d9b596-4318-4538-81a2-44b1ca737713",
   "metadata": {},
   "outputs": [
    {
     "data": {
      "text/html": [
       "<div>\n",
       "<style scoped>\n",
       "    .dataframe tbody tr th:only-of-type {\n",
       "        vertical-align: middle;\n",
       "    }\n",
       "\n",
       "    .dataframe tbody tr th {\n",
       "        vertical-align: top;\n",
       "    }\n",
       "\n",
       "    .dataframe thead th {\n",
       "        text-align: right;\n",
       "    }\n",
       "</style>\n",
       "<table border=\"1\" class=\"dataframe\">\n",
       "  <thead>\n",
       "    <tr style=\"text-align: right;\">\n",
       "      <th></th>\n",
       "      <th>Código</th>\n",
       "      <th>Ação</th>\n",
       "      <th>Tipo</th>\n",
       "      <th>Qtde. Teórica</th>\n",
       "      <th>Part. (%)</th>\n",
       "    </tr>\n",
       "  </thead>\n",
       "  <tbody>\n",
       "    <tr>\n",
       "      <th>0</th>\n",
       "      <td>VALE3</td>\n",
       "      <td>VALE</td>\n",
       "      <td>ON NM</td>\n",
       "      <td>3.768.748.489</td>\n",
       "      <td>12.939</td>\n",
       "    </tr>\n",
       "    <tr>\n",
       "      <th>1</th>\n",
       "      <td>PETR4</td>\n",
       "      <td>PETROBRAS</td>\n",
       "      <td>PN N2</td>\n",
       "      <td>4.566.442.248</td>\n",
       "      <td>8.039</td>\n",
       "    </tr>\n",
       "    <tr>\n",
       "      <th>2</th>\n",
       "      <td>ITUB4</td>\n",
       "      <td>ITAUUNIBANCO</td>\n",
       "      <td>PN EJ N1</td>\n",
       "      <td>4.781.077.143</td>\n",
       "      <td>6.018</td>\n",
       "    </tr>\n",
       "    <tr>\n",
       "      <th>3</th>\n",
       "      <td>PETR3</td>\n",
       "      <td>PETROBRAS</td>\n",
       "      <td>ON N2</td>\n",
       "      <td>2.706.334.382</td>\n",
       "      <td>5.127</td>\n",
       "    </tr>\n",
       "    <tr>\n",
       "      <th>4</th>\n",
       "      <td>BBDC4</td>\n",
       "      <td>BRADESCO</td>\n",
       "      <td>PN EJ N1</td>\n",
       "      <td>5.160.570.290</td>\n",
       "      <td>4.820</td>\n",
       "    </tr>\n",
       "  </tbody>\n",
       "</table>\n",
       "</div>"
      ],
      "text/plain": [
       "  Código          Ação      Tipo  Qtde. Teórica  Part. (%)\n",
       "0  VALE3          VALE     ON NM  3.768.748.489     12.939\n",
       "1  PETR4     PETROBRAS     PN N2  4.566.442.248      8.039\n",
       "2  ITUB4  ITAUUNIBANCO  PN EJ N1  4.781.077.143      6.018\n",
       "3  PETR3     PETROBRAS     ON N2  2.706.334.382      5.127\n",
       "4  BBDC4      BRADESCO  PN EJ N1  5.160.570.290      4.820"
      ]
     },
     "execution_count": 9,
     "metadata": {},
     "output_type": "execute_result"
    }
   ],
   "source": [
    "IBOV.head()"
   ]
  },
  {
   "cell_type": "code",
   "execution_count": 10,
   "id": "e43a89bd-64b9-41eb-9e62-f3ef6b74aae0",
   "metadata": {},
   "outputs": [],
   "source": [
    "df = df.reset_index()"
   ]
  },
  {
   "cell_type": "code",
   "execution_count": 11,
   "id": "082fe0e0-9616-43ac-b0ab-9ea5e8ef4702",
   "metadata": {},
   "outputs": [
    {
     "data": {
      "text/html": [
       "<div>\n",
       "<style scoped>\n",
       "    .dataframe tbody tr th:only-of-type {\n",
       "        vertical-align: middle;\n",
       "    }\n",
       "\n",
       "    .dataframe tbody tr th {\n",
       "        vertical-align: top;\n",
       "    }\n",
       "\n",
       "    .dataframe thead th {\n",
       "        text-align: right;\n",
       "    }\n",
       "</style>\n",
       "<table border=\"1\" class=\"dataframe\">\n",
       "  <thead>\n",
       "    <tr style=\"text-align: right;\">\n",
       "      <th></th>\n",
       "      <th>Código</th>\n",
       "      <th>Ação</th>\n",
       "      <th>Part. (%)</th>\n",
       "      <th>PcChangeDay</th>\n",
       "    </tr>\n",
       "  </thead>\n",
       "  <tbody>\n",
       "    <tr>\n",
       "      <th>0</th>\n",
       "      <td>VALE3</td>\n",
       "      <td>VALE</td>\n",
       "      <td>12.939</td>\n",
       "      <td>3.85</td>\n",
       "    </tr>\n",
       "    <tr>\n",
       "      <th>1</th>\n",
       "      <td>PETR4</td>\n",
       "      <td>PETROBRAS</td>\n",
       "      <td>8.039</td>\n",
       "      <td>14.32</td>\n",
       "    </tr>\n",
       "    <tr>\n",
       "      <th>2</th>\n",
       "      <td>ITUB4</td>\n",
       "      <td>ITAUUNIBANCO</td>\n",
       "      <td>6.018</td>\n",
       "      <td>-1.2</td>\n",
       "    </tr>\n",
       "    <tr>\n",
       "      <th>3</th>\n",
       "      <td>PETR3</td>\n",
       "      <td>PETROBRAS</td>\n",
       "      <td>5.127</td>\n",
       "      <td>11.7</td>\n",
       "    </tr>\n",
       "    <tr>\n",
       "      <th>4</th>\n",
       "      <td>BBDC4</td>\n",
       "      <td>BRADESCO</td>\n",
       "      <td>4.820</td>\n",
       "      <td>-1.23</td>\n",
       "    </tr>\n",
       "  </tbody>\n",
       "</table>\n",
       "</div>"
      ],
      "text/plain": [
       "  Código          Ação  Part. (%) PcChangeDay\n",
       "0  VALE3          VALE     12.939        3.85\n",
       "1  PETR4     PETROBRAS      8.039       14.32\n",
       "2  ITUB4  ITAUUNIBANCO      6.018        -1.2\n",
       "3  PETR3     PETROBRAS      5.127        11.7\n",
       "4  BBDC4      BRADESCO      4.820       -1.23"
      ]
     },
     "execution_count": 11,
     "metadata": {},
     "output_type": "execute_result"
    }
   ],
   "source": [
    "pd.options.mode.chained_assignment = None  # default='warn'\n",
    "IBOV['PcChangeDay'] = IBOV['Ação']\n",
    "\n",
    "for i in range(len(IBOV)):\n",
    "    ticker = IBOV['Código'][i] + '.SA'\n",
    "    yest = df.iloc[-2, df.columns.get_loc(ticker)]\n",
    "    today = df.iloc[-1, df.columns.get_loc(ticker)]\n",
    "    IBOV['PcChangeDay'][i] = round((yest*100/today)-100,2) \n",
    "    \n",
    "IBOV = IBOV.drop(['Qtde. Teórica','Tipo'],axis = 1)\n",
    "IBOV.head()"
   ]
  },
  {
   "cell_type": "code",
   "execution_count": 48,
   "id": "e6f5d511-df07-4453-9313-3ab834f3abbc",
   "metadata": {},
   "outputs": [
    {
     "data": {
      "text/html": [
       "<div>\n",
       "<style scoped>\n",
       "    .dataframe tbody tr th:only-of-type {\n",
       "        vertical-align: middle;\n",
       "    }\n",
       "\n",
       "    .dataframe tbody tr th {\n",
       "        vertical-align: top;\n",
       "    }\n",
       "\n",
       "    .dataframe thead th {\n",
       "        text-align: right;\n",
       "    }\n",
       "</style>\n",
       "<table border=\"1\" class=\"dataframe\">\n",
       "  <thead>\n",
       "    <tr style=\"text-align: right;\">\n",
       "      <th></th>\n",
       "      <th>Empresa</th>\n",
       "      <th>Setor</th>\n",
       "    </tr>\n",
       "  </thead>\n",
       "  <tbody>\n",
       "    <tr>\n",
       "      <th>0</th>\n",
       "      <td>VALE3.SA</td>\n",
       "      <td>Basic Materials</td>\n",
       "    </tr>\n",
       "    <tr>\n",
       "      <th>1</th>\n",
       "      <td>PETR4.SA</td>\n",
       "      <td>Energy</td>\n",
       "    </tr>\n",
       "    <tr>\n",
       "      <th>2</th>\n",
       "      <td>ITUB4.SA</td>\n",
       "      <td>Financial Services</td>\n",
       "    </tr>\n",
       "    <tr>\n",
       "      <th>3</th>\n",
       "      <td>PETR3.SA</td>\n",
       "      <td>Energy</td>\n",
       "    </tr>\n",
       "    <tr>\n",
       "      <th>4</th>\n",
       "      <td>BBDC4.SA</td>\n",
       "      <td>Financial Services</td>\n",
       "    </tr>\n",
       "    <tr>\n",
       "      <th>...</th>\n",
       "      <td>...</td>\n",
       "      <td>...</td>\n",
       "    </tr>\n",
       "    <tr>\n",
       "      <th>85</th>\n",
       "      <td>EZTC3.SA</td>\n",
       "      <td>Real Estate</td>\n",
       "    </tr>\n",
       "    <tr>\n",
       "      <th>86</th>\n",
       "      <td>JHSF3.SA</td>\n",
       "      <td>Real Estate</td>\n",
       "    </tr>\n",
       "    <tr>\n",
       "      <th>87</th>\n",
       "      <td>GOLL4.SA</td>\n",
       "      <td>Industrials</td>\n",
       "    </tr>\n",
       "    <tr>\n",
       "      <th>88</th>\n",
       "      <td>CASH3.SA</td>\n",
       "      <td>Communication Services</td>\n",
       "    </tr>\n",
       "    <tr>\n",
       "      <th>89</th>\n",
       "      <td>POSI3.SA</td>\n",
       "      <td>Technology</td>\n",
       "    </tr>\n",
       "  </tbody>\n",
       "</table>\n",
       "<p>90 rows × 2 columns</p>\n",
       "</div>"
      ],
      "text/plain": [
       "     Empresa                   Setor\n",
       "0   VALE3.SA         Basic Materials\n",
       "1   PETR4.SA                  Energy\n",
       "2   ITUB4.SA      Financial Services\n",
       "3   PETR3.SA                  Energy\n",
       "4   BBDC4.SA      Financial Services\n",
       "..       ...                     ...\n",
       "85  EZTC3.SA             Real Estate\n",
       "86  JHSF3.SA             Real Estate\n",
       "87  GOLL4.SA             Industrials\n",
       "88  CASH3.SA  Communication Services\n",
       "89  POSI3.SA              Technology\n",
       "\n",
       "[90 rows x 2 columns]"
      ]
     },
     "execution_count": 48,
     "metadata": {},
     "output_type": "execute_result"
    }
   ],
   "source": [
    "sectors = []\n",
    "\n",
    "for i in range(len(lista_ativos)):\n",
    "    ticker = yf.Ticker(lista_ativos[i])\n",
    "    search = ticker.info['sector']\n",
    "    sectors.append(search)\n",
    "\n",
    "df_sectors = pd.DataFrame({\"Empresa\": lista_ativos,\"Setor\": sectors})\n",
    "df_sectors"
   ]
  },
  {
   "cell_type": "code",
   "execution_count": 52,
   "id": "8c3b48df-0279-4c3b-aa68-6a0191938004",
   "metadata": {},
   "outputs": [],
   "source": [
    "df_sectors.to_csv('C:\\\\Users\\\\alexa\\\\OneDrive\\\\Área de Trabalho\\\\Quant\\\\IBOV_Sectors.csv')"
   ]
  },
  {
   "cell_type": "code",
   "execution_count": 15,
   "id": "012c65b3-2147-4a67-9390-1f8912c621b7",
   "metadata": {},
   "outputs": [
    {
     "data": {
      "text/html": [
       "<div>\n",
       "<style scoped>\n",
       "    .dataframe tbody tr th:only-of-type {\n",
       "        vertical-align: middle;\n",
       "    }\n",
       "\n",
       "    .dataframe tbody tr th {\n",
       "        vertical-align: top;\n",
       "    }\n",
       "\n",
       "    .dataframe thead th {\n",
       "        text-align: right;\n",
       "    }\n",
       "</style>\n",
       "<table border=\"1\" class=\"dataframe\">\n",
       "  <thead>\n",
       "    <tr style=\"text-align: right;\">\n",
       "      <th></th>\n",
       "      <th>Código</th>\n",
       "      <th>Ação</th>\n",
       "      <th>Part. (%)</th>\n",
       "      <th>PcChangeDay</th>\n",
       "      <th>Sector</th>\n",
       "    </tr>\n",
       "  </thead>\n",
       "  <tbody>\n",
       "    <tr>\n",
       "      <th>0</th>\n",
       "      <td>VALE3</td>\n",
       "      <td>VALE</td>\n",
       "      <td>12.939</td>\n",
       "      <td>3.85</td>\n",
       "      <td>Basic Materials</td>\n",
       "    </tr>\n",
       "    <tr>\n",
       "      <th>1</th>\n",
       "      <td>PETR4</td>\n",
       "      <td>PETROBRAS</td>\n",
       "      <td>8.039</td>\n",
       "      <td>14.32</td>\n",
       "      <td>Energy</td>\n",
       "    </tr>\n",
       "    <tr>\n",
       "      <th>2</th>\n",
       "      <td>ITUB4</td>\n",
       "      <td>ITAUUNIBANCO</td>\n",
       "      <td>6.018</td>\n",
       "      <td>-1.2</td>\n",
       "      <td>Financial Services</td>\n",
       "    </tr>\n",
       "    <tr>\n",
       "      <th>3</th>\n",
       "      <td>PETR3</td>\n",
       "      <td>PETROBRAS</td>\n",
       "      <td>5.127</td>\n",
       "      <td>11.7</td>\n",
       "      <td>Energy</td>\n",
       "    </tr>\n",
       "    <tr>\n",
       "      <th>4</th>\n",
       "      <td>BBDC4</td>\n",
       "      <td>BRADESCO</td>\n",
       "      <td>4.820</td>\n",
       "      <td>-1.23</td>\n",
       "      <td>Financial Services</td>\n",
       "    </tr>\n",
       "  </tbody>\n",
       "</table>\n",
       "</div>"
      ],
      "text/plain": [
       "  Código          Ação  Part. (%) PcChangeDay              Sector\n",
       "0  VALE3          VALE     12.939        3.85     Basic Materials\n",
       "1  PETR4     PETROBRAS      8.039       14.32              Energy\n",
       "2  ITUB4  ITAUUNIBANCO      6.018        -1.2  Financial Services\n",
       "3  PETR3     PETROBRAS      5.127        11.7              Energy\n",
       "4  BBDC4      BRADESCO      4.820       -1.23  Financial Services"
      ]
     },
     "execution_count": 15,
     "metadata": {},
     "output_type": "execute_result"
    }
   ],
   "source": [
    "df_sectors = pd.read_csv('C:\\\\Users\\\\alexa\\\\OneDrive\\\\Área de Trabalho\\\\Quant\\\\IBOV_Sectors.csv')\n",
    "IBOV['Sector'] = df_sectors['Setor']\n",
    "IBOV.head()"
   ]
  },
  {
   "cell_type": "code",
   "execution_count": 16,
   "id": "6f07c4e7-f8b3-4598-a37b-3ba7da7c0e2a",
   "metadata": {},
   "outputs": [
    {
     "data": {
      "text/html": [
       "<div>\n",
       "<style scoped>\n",
       "    .dataframe tbody tr th:only-of-type {\n",
       "        vertical-align: middle;\n",
       "    }\n",
       "\n",
       "    .dataframe tbody tr th {\n",
       "        vertical-align: top;\n",
       "    }\n",
       "\n",
       "    .dataframe thead th {\n",
       "        text-align: right;\n",
       "    }\n",
       "</style>\n",
       "<table border=\"1\" class=\"dataframe\">\n",
       "  <thead>\n",
       "    <tr style=\"text-align: right;\">\n",
       "      <th></th>\n",
       "      <th>Código</th>\n",
       "      <th>Ação</th>\n",
       "      <th>Part. (%)</th>\n",
       "      <th>PcChangeDay</th>\n",
       "      <th>Sector</th>\n",
       "    </tr>\n",
       "  </thead>\n",
       "  <tbody>\n",
       "    <tr>\n",
       "      <th>0</th>\n",
       "      <td>VALE3</td>\n",
       "      <td>VALE</td>\n",
       "      <td>12.939</td>\n",
       "      <td>3.85</td>\n",
       "      <td>Basic Materials</td>\n",
       "    </tr>\n",
       "    <tr>\n",
       "      <th>1</th>\n",
       "      <td>PETR4</td>\n",
       "      <td>PETROBRAS</td>\n",
       "      <td>8.039</td>\n",
       "      <td>14.32</td>\n",
       "      <td>Energy</td>\n",
       "    </tr>\n",
       "    <tr>\n",
       "      <th>2</th>\n",
       "      <td>ITUB4</td>\n",
       "      <td>ITAUUNIBANCO</td>\n",
       "      <td>6.018</td>\n",
       "      <td>-1.2</td>\n",
       "      <td>Financial Services</td>\n",
       "    </tr>\n",
       "    <tr>\n",
       "      <th>3</th>\n",
       "      <td>PETR3</td>\n",
       "      <td>PETROBRAS</td>\n",
       "      <td>5.127</td>\n",
       "      <td>11.7</td>\n",
       "      <td>Energy</td>\n",
       "    </tr>\n",
       "    <tr>\n",
       "      <th>4</th>\n",
       "      <td>BBDC4</td>\n",
       "      <td>BRADESCO</td>\n",
       "      <td>4.820</td>\n",
       "      <td>-1.23</td>\n",
       "      <td>Financial Services</td>\n",
       "    </tr>\n",
       "    <tr>\n",
       "      <th>...</th>\n",
       "      <td>...</td>\n",
       "      <td>...</td>\n",
       "      <td>...</td>\n",
       "      <td>...</td>\n",
       "      <td>...</td>\n",
       "    </tr>\n",
       "    <tr>\n",
       "      <th>85</th>\n",
       "      <td>EZTC3</td>\n",
       "      <td>EZTEC</td>\n",
       "      <td>0.093</td>\n",
       "      <td>-3.6</td>\n",
       "      <td>Real Estate</td>\n",
       "    </tr>\n",
       "    <tr>\n",
       "      <th>86</th>\n",
       "      <td>JHSF3</td>\n",
       "      <td>JHSF PART</td>\n",
       "      <td>0.091</td>\n",
       "      <td>-4.81</td>\n",
       "      <td>Real Estate</td>\n",
       "    </tr>\n",
       "    <tr>\n",
       "      <th>87</th>\n",
       "      <td>GOLL4</td>\n",
       "      <td>GOL</td>\n",
       "      <td>0.084</td>\n",
       "      <td>-5.93</td>\n",
       "      <td>Industrials</td>\n",
       "    </tr>\n",
       "    <tr>\n",
       "      <th>88</th>\n",
       "      <td>CASH3</td>\n",
       "      <td>MELIUZ</td>\n",
       "      <td>0.036</td>\n",
       "      <td>-6.72</td>\n",
       "      <td>Communication Services</td>\n",
       "    </tr>\n",
       "    <tr>\n",
       "      <th>89</th>\n",
       "      <td>POSI3</td>\n",
       "      <td>POSITIVO TEC</td>\n",
       "      <td>0.030</td>\n",
       "      <td>-4.59</td>\n",
       "      <td>Technology</td>\n",
       "    </tr>\n",
       "  </tbody>\n",
       "</table>\n",
       "<p>90 rows × 5 columns</p>\n",
       "</div>"
      ],
      "text/plain": [
       "   Código          Ação  Part. (%) PcChangeDay                  Sector\n",
       "0   VALE3          VALE     12.939        3.85         Basic Materials\n",
       "1   PETR4     PETROBRAS      8.039       14.32                  Energy\n",
       "2   ITUB4  ITAUUNIBANCO      6.018        -1.2      Financial Services\n",
       "3   PETR3     PETROBRAS      5.127        11.7                  Energy\n",
       "4   BBDC4      BRADESCO      4.820       -1.23      Financial Services\n",
       "..    ...           ...        ...         ...                     ...\n",
       "85  EZTC3         EZTEC      0.093        -3.6             Real Estate\n",
       "86  JHSF3     JHSF PART      0.091       -4.81             Real Estate\n",
       "87  GOLL4           GOL      0.084       -5.93             Industrials\n",
       "88  CASH3        MELIUZ      0.036       -6.72  Communication Services\n",
       "89  POSI3  POSITIVO TEC      0.030       -4.59              Technology\n",
       "\n",
       "[90 rows x 5 columns]"
      ]
     },
     "execution_count": 16,
     "metadata": {},
     "output_type": "execute_result"
    }
   ],
   "source": [
    "IBOV"
   ]
  },
  {
   "cell_type": "code",
   "execution_count": 27,
   "id": "b432bfa8-2939-4b7b-a033-c1f4cb79753e",
   "metadata": {},
   "outputs": [],
   "source": [
    "for i in range(len(IBOV['PcChangeDay'])):\n",
    "    IBOV['PcChangeDay'][i] = float(IBOV['PcChangeDay'][i])"
   ]
  },
  {
   "cell_type": "code",
   "execution_count": 36,
   "id": "a13fb2d7-ddcc-455b-90f4-0155aa624f8f",
   "metadata": {},
   "outputs": [],
   "source": [
    "IBOV['PcChangeDay'] = IBOV['PcChangeDay'].astype(str).astype(float)"
   ]
  },
  {
   "cell_type": "code",
   "execution_count": 37,
   "id": "f41fb5f0-48e0-4ce3-bf20-abe0b5ac6382",
   "metadata": {},
   "outputs": [
    {
     "data": {
      "text/plain": [
       "Código          object\n",
       "Ação            object\n",
       "Part. (%)      float64\n",
       "PcChangeDay    float64\n",
       "Sector          object\n",
       "dtype: object"
      ]
     },
     "execution_count": 37,
     "metadata": {},
     "output_type": "execute_result"
    }
   ],
   "source": [
    "IBOV.dtypes"
   ]
  },
  {
   "cell_type": "code",
   "execution_count": 40,
   "id": "728720ef-e10d-4a9c-9d1f-c1784d325c55",
   "metadata": {},
   "outputs": [
    {
     "data": {
      "application/vnd.plotly.v1+json": {
       "config": {
        "plotlyServerURL": "https://plot.ly"
       },
       "data": [
        {
         "branchvalues": "total",
         "customdata": [
          -0.53,
          -2.03,
          2.47,
          -2,
          -9.69,
          -7.25,
          -5.35,
          -1.79,
          -1.23,
          -0.95,
          -2.13,
          -0.34,
          -3.79,
          -0.77,
          -3.85,
          -1.39,
          -2.49,
          -6.72,
          -6.33,
          -3.04,
          -1.85,
          -1.52,
          -3.33,
          -3.56,
          0.14,
          -1.18,
          -3.47,
          -3,
          -2.94,
          -0.82,
          0.44,
          -4.13,
          -0.23,
          0.13,
          -0.2,
          -2.65,
          -0.7,
          -0.06,
          -2.4,
          -1.14,
          -3.6,
          -0.74,
          -1.99,
          -1.65,
          -5.93,
          -14.51,
          -2.12,
          0.19,
          -0.43,
          -1.27,
          -1.2,
          2.7,
          -4.81,
          -2.61,
          -1.63,
          -9.47,
          -15.08,
          -4.55,
          -2.6,
          -1.55,
          11.55,
          -4.31,
          11.7,
          14.32,
          -6.38,
          -4.59,
          -1.97,
          -5.11,
          -0.8,
          -4.95,
          -4.36,
          -0.91,
          -0.4,
          -0.98,
          4.63,
          -3.61,
          -5.66,
          -4.36,
          -1.44,
          -1.2,
          1.18,
          -2.39,
          -3.95,
          -1.68,
          3.85,
          -5.64,
          -12.26,
          0.2,
          -2.49,
          -0.64
         ],
         "domain": {
          "x": [
           0,
           1
          ],
          "y": [
           0,
           1
          ]
         },
         "hovertemplate": "labels=%{label}<br>Part. (%)=%{value}<br>parent=%{parent}<br>id=%{id}<br>PcChangeDay=%{color}<extra></extra>",
         "ids": [
          "Stocks/Consumer Defensive/ABEV3",
          "Stocks/Consumer Cyclical/ALPA4",
          "Stocks/Consumer Cyclical/AMER3",
          "Stocks/Consumer Defensive/ASAI3",
          "Stocks/Industrials/AZUL4",
          "Stocks/Financial Services/B3SA3",
          "Stocks/Financial Services/BBAS3",
          "Stocks/Financial Services/BBDC3",
          "Stocks/Financial Services/BBDC4",
          "Stocks/Financial Services/BBSE3",
          "Stocks/Consumer Defensive/BEEF3",
          "Stocks/Financial Services/BPAC11",
          "Stocks/Financial Services/BPAN4",
          "Stocks/Financial Services/BRAP4",
          "Stocks/Consumer Defensive/BRFS3",
          "Stocks/Basic Materials/BRKM5",
          "Stocks/Real Estate/BRML3",
          "Stocks/Communication Services/CASH3",
          "Stocks/Industrials/CCRO3",
          "Stocks/Technology/CIEL3",
          "Stocks/Utilities/CMIG4",
          "Stocks/Basic Materials/CMIN3",
          "Stocks/Consumer Defensive/COGN3",
          "Stocks/Utilities/CPFE3",
          "Stocks/Utilities/CPLE6",
          "Stocks/Consumer Defensive/CRFB3",
          "Stocks/Energy/CSAN3",
          "Stocks/Basic Materials/CSNA3",
          "Stocks/Consumer Cyclical/CVCB3",
          "Stocks/Consumer Cyclical/CYRE3",
          "Stocks/Basic Materials/DXCO3",
          "Stocks/Industrials/ECOR3",
          "Stocks/Utilities/EGIE3",
          "Stocks/Utilities/ELET3",
          "Stocks/Utilities/ELET6",
          "Stocks/Industrials/EMBR3",
          "Stocks/Utilities/ENBR3",
          "Stocks/Utilities/ENEV3",
          "Stocks/Utilities/ENGI11",
          "Stocks/Utilities/EQTL3",
          "Stocks/Real Estate/EZTC3",
          "Stocks/Healthcare/FLRY3",
          "Stocks/Basic Materials/GGBR4",
          "Stocks/Basic Materials/GOAU4",
          "Stocks/Industrials/GOLL4",
          "Stocks/Financial Services/HAPV3",
          "Stocks/Healthcare/HYPE3",
          "Stocks/Industrials/IGTI11",
          "Stocks/Financial Services/IRBR3",
          "Stocks/Financial Services/ITSA4",
          "Stocks/Financial Services/ITUB4",
          "Stocks/Consumer Defensive/JBSS3",
          "Stocks/Real Estate/JHSF3",
          "Stocks/Basic Materials/KLBN11",
          "Stocks/Consumer Cyclical/LREN3",
          "Stocks/Technology/LWSA3",
          "Stocks/Consumer Cyclical/MGLU3",
          "Stocks/Consumer Defensive/MRFG3",
          "Stocks/Consumer Cyclical/MRVE3",
          "Stocks/Real Estate/MULT3",
          "Stocks/Consumer Defensive/NTCO3",
          "Stocks/Consumer Cyclical/PCAR3",
          "Stocks/Energy/PETR3",
          "Stocks/Energy/PETR4",
          "Stocks/Consumer Cyclical/PETZ3",
          "Stocks/Technology/POSI3",
          "Stocks/Energy/PRIO3",
          "Stocks/Healthcare/QUAL3",
          "Stocks/Healthcare/RADL3",
          "Stocks/Industrials/RAIL3",
          "Stocks/Healthcare/RDOR3",
          "Stocks/Industrials/RENT3",
          "Stocks/Energy/RRRP3",
          "Stocks/Financial Services/SANB11",
          "Stocks/Utilities/SBSP3",
          "Stocks/Consumer Defensive/SLCE3",
          "Stocks/Consumer Cyclical/SOMA3",
          "Stocks/Financial Services/SULA11",
          "Stocks/Basic Materials/SUZB3",
          "Stocks/Utilities/TAEE11",
          "Stocks/Communication Services/TIMS3",
          "Stocks/Technology/TOTS3",
          "Stocks/Energy/UGPA3",
          "Stocks/Basic Materials/USIM5",
          "Stocks/Basic Materials/VALE3",
          "Stocks/Consumer Cyclical/VBBR3",
          "Stocks/Consumer Cyclical/VIIA3",
          "Stocks/Communication Services/VIVT3",
          "Stocks/Industrials/WEGE3",
          "Stocks/Consumer Defensive/YDUQ3",
          "Stocks/Basic Materials",
          "Stocks/Communication Services",
          "Stocks/Consumer Cyclical",
          "Stocks/Consumer Defensive",
          "Stocks/Energy",
          "Stocks/Financial Services",
          "Stocks/Healthcare",
          "Stocks/Industrials",
          "Stocks/Real Estate",
          "Stocks/Technology",
          "Stocks/Utilities",
          "Stocks"
         ],
         "labels": [
          "ABEV3",
          "ALPA4",
          "AMER3",
          "ASAI3",
          "AZUL4",
          "B3SA3",
          "BBAS3",
          "BBDC3",
          "BBDC4",
          "BBSE3",
          "BEEF3",
          "BPAC11",
          "BPAN4",
          "BRAP4",
          "BRFS3",
          "BRKM5",
          "BRML3",
          "CASH3",
          "CCRO3",
          "CIEL3",
          "CMIG4",
          "CMIN3",
          "COGN3",
          "CPFE3",
          "CPLE6",
          "CRFB3",
          "CSAN3",
          "CSNA3",
          "CVCB3",
          "CYRE3",
          "DXCO3",
          "ECOR3",
          "EGIE3",
          "ELET3",
          "ELET6",
          "EMBR3",
          "ENBR3",
          "ENEV3",
          "ENGI11",
          "EQTL3",
          "EZTC3",
          "FLRY3",
          "GGBR4",
          "GOAU4",
          "GOLL4",
          "HAPV3",
          "HYPE3",
          "IGTI11",
          "IRBR3",
          "ITSA4",
          "ITUB4",
          "JBSS3",
          "JHSF3",
          "KLBN11",
          "LREN3",
          "LWSA3",
          "MGLU3",
          "MRFG3",
          "MRVE3",
          "MULT3",
          "NTCO3",
          "PCAR3",
          "PETR3",
          "PETR4",
          "PETZ3",
          "POSI3",
          "PRIO3",
          "QUAL3",
          "RADL3",
          "RAIL3",
          "RDOR3",
          "RENT3",
          "RRRP3",
          "SANB11",
          "SBSP3",
          "SLCE3",
          "SOMA3",
          "SULA11",
          "SUZB3",
          "TAEE11",
          "TIMS3",
          "TOTS3",
          "UGPA3",
          "USIM5",
          "VALE3",
          "VBBR3",
          "VIIA3",
          "VIVT3",
          "WEGE3",
          "YDUQ3",
          "Basic Materials",
          "Communication Services",
          "Consumer Cyclical",
          "Consumer Defensive",
          "Energy",
          "Financial Services",
          "Healthcare",
          "Industrials",
          "Real Estate",
          "Technology",
          "Utilities",
          "Stocks"
         ],
         "level": "Stocks/Energy",
         "marker": {
          "coloraxis": "coloraxis",
          "colors": [
           -0.53,
           -2.03,
           2.47,
           -2,
           -9.690000000000001,
           -7.25,
           -5.35,
           -1.79,
           -1.23,
           -0.95,
           -2.13,
           -0.34,
           -3.79,
           -0.77,
           -3.85,
           -1.39,
           -2.49,
           -6.72,
           -6.330000000000001,
           -3.04,
           -1.85,
           -1.5200000000000002,
           -3.33,
           -3.56,
           0.14,
           -1.18,
           -3.47,
           -2.9999999999999996,
           -2.94,
           -0.82,
           0.44,
           -4.13,
           -0.23000000000000004,
           0.13,
           -0.2,
           -2.65,
           -0.7,
           -0.05999999999999999,
           -2.4,
           -1.14,
           -3.6,
           -0.74,
           -1.9899999999999998,
           -1.65,
           -5.93,
           -14.51,
           -2.12,
           0.19,
           -0.43,
           -1.27,
           -1.2,
           2.7,
           -4.81,
           -2.61,
           -1.63,
           -9.47,
           -15.08,
           -4.55,
           -2.6,
           -1.55,
           11.55,
           -4.31,
           11.7,
           14.32,
           -6.38,
           -4.59,
           -1.9699999999999998,
           -5.11,
           -0.8,
           -4.95,
           -4.36,
           -0.9099999999999999,
           -0.4,
           -0.9799999999999999,
           4.63,
           -3.6100000000000003,
           -5.66,
           -4.36,
           -1.44,
           -1.2,
           1.18,
           -2.39,
           -3.95,
           -1.68,
           3.85,
           -5.64,
           -12.259999999999998,
           0.2,
           -2.49,
           -0.6399999999999999,
           2.0800564069816945,
           0.3713506320691949,
           -4.493306233062331,
           0.425927477129946,
           10.101949853943525,
           -3.2412833134638306,
           -2.5170909090909093,
           -2.9877962243941627,
           -2.483021420518602,
           -3.7018976897689777,
           -0.2634870977383681,
           0.6246678999999999
          ]
         },
         "name": "",
         "parents": [
          "Stocks/Consumer Defensive",
          "Stocks/Consumer Cyclical",
          "Stocks/Consumer Cyclical",
          "Stocks/Consumer Defensive",
          "Stocks/Industrials",
          "Stocks/Financial Services",
          "Stocks/Financial Services",
          "Stocks/Financial Services",
          "Stocks/Financial Services",
          "Stocks/Financial Services",
          "Stocks/Consumer Defensive",
          "Stocks/Financial Services",
          "Stocks/Financial Services",
          "Stocks/Financial Services",
          "Stocks/Consumer Defensive",
          "Stocks/Basic Materials",
          "Stocks/Real Estate",
          "Stocks/Communication Services",
          "Stocks/Industrials",
          "Stocks/Technology",
          "Stocks/Utilities",
          "Stocks/Basic Materials",
          "Stocks/Consumer Defensive",
          "Stocks/Utilities",
          "Stocks/Utilities",
          "Stocks/Consumer Defensive",
          "Stocks/Energy",
          "Stocks/Basic Materials",
          "Stocks/Consumer Cyclical",
          "Stocks/Consumer Cyclical",
          "Stocks/Basic Materials",
          "Stocks/Industrials",
          "Stocks/Utilities",
          "Stocks/Utilities",
          "Stocks/Utilities",
          "Stocks/Industrials",
          "Stocks/Utilities",
          "Stocks/Utilities",
          "Stocks/Utilities",
          "Stocks/Utilities",
          "Stocks/Real Estate",
          "Stocks/Healthcare",
          "Stocks/Basic Materials",
          "Stocks/Basic Materials",
          "Stocks/Industrials",
          "Stocks/Financial Services",
          "Stocks/Healthcare",
          "Stocks/Industrials",
          "Stocks/Financial Services",
          "Stocks/Financial Services",
          "Stocks/Financial Services",
          "Stocks/Consumer Defensive",
          "Stocks/Real Estate",
          "Stocks/Basic Materials",
          "Stocks/Consumer Cyclical",
          "Stocks/Technology",
          "Stocks/Consumer Cyclical",
          "Stocks/Consumer Defensive",
          "Stocks/Consumer Cyclical",
          "Stocks/Real Estate",
          "Stocks/Consumer Defensive",
          "Stocks/Consumer Cyclical",
          "Stocks/Energy",
          "Stocks/Energy",
          "Stocks/Consumer Cyclical",
          "Stocks/Technology",
          "Stocks/Energy",
          "Stocks/Healthcare",
          "Stocks/Healthcare",
          "Stocks/Industrials",
          "Stocks/Healthcare",
          "Stocks/Industrials",
          "Stocks/Energy",
          "Stocks/Financial Services",
          "Stocks/Utilities",
          "Stocks/Consumer Defensive",
          "Stocks/Consumer Cyclical",
          "Stocks/Financial Services",
          "Stocks/Basic Materials",
          "Stocks/Utilities",
          "Stocks/Communication Services",
          "Stocks/Technology",
          "Stocks/Energy",
          "Stocks/Basic Materials",
          "Stocks/Basic Materials",
          "Stocks/Consumer Cyclical",
          "Stocks/Consumer Cyclical",
          "Stocks/Communication Services",
          "Stocks/Industrials",
          "Stocks/Consumer Defensive",
          "Stocks",
          "Stocks",
          "Stocks",
          "Stocks",
          "Stocks",
          "Stocks",
          "Stocks",
          "Stocks",
          "Stocks",
          "Stocks",
          "Stocks",
          ""
         ],
         "textposition": "middle center",
         "texttemplate": "%{label}<br>%{customdata}",
         "type": "treemap",
         "values": [
          3.229,
          0.197,
          0.419,
          0.683,
          0.221,
          3.649,
          2.71,
          1.173,
          4.82,
          0.966,
          0.172,
          1.619,
          0.127,
          0.285,
          0.91,
          0.472,
          0.362,
          0.036,
          0.777,
          0.286,
          0.856,
          0.209,
          0.234,
          0.316,
          0.57,
          0.406,
          1.177,
          0.499,
          0.108,
          0.209,
          0.158,
          0.106,
          0.557,
          2.395,
          0.616,
          0.495,
          0.258,
          1.23,
          0.56,
          1.416,
          0.093,
          0.237,
          1.366,
          0.362,
          0.084,
          1.451,
          0.885,
          0.193,
          0.144,
          2.154,
          6.018,
          2.025,
          0.091,
          0.805,
          1.356,
          0.189,
          0.462,
          0.236,
          0.169,
          0.341,
          0.742,
          0.131,
          5.127,
          8.039,
          0.194,
          0.03,
          1.02,
          0.158,
          1.2,
          1.124,
          1.315,
          2.308,
          0.34,
          0.535,
          0.798,
          0.207,
          0.283,
          0.352,
          1.754,
          0.465,
          0.517,
          0.707,
          0.729,
          0.228,
          12.939,
          1.039,
          0.23,
          0.95,
          2.161,
          0.229,
          18.792,
          1.5030000000000001,
          4.797000000000001,
          9.073,
          16.432,
          26.003,
          3.795,
          7.468999999999999,
          0.887,
          1.212,
          10.037,
          100
         ]
        }
       ],
       "layout": {
        "autosize": true,
        "coloraxis": {
         "colorbar": {
          "title": {
           "text": "PcChangeDay"
          }
         },
         "colorscale": [
          [
           0,
           "Red"
          ],
          [
           0.5,
           "#8b0000"
          ],
          [
           1,
           "Green"
          ]
         ],
         "showscale": false
        },
        "legend": {
         "tracegroupgap": 0
        },
        "margin": {
         "b": 10,
         "l": 10,
         "r": 10,
         "t": 30
        },
        "template": {
         "data": {
          "bar": [
           {
            "error_x": {
             "color": "#2a3f5f"
            },
            "error_y": {
             "color": "#2a3f5f"
            },
            "marker": {
             "line": {
              "color": "#E5ECF6",
              "width": 0.5
             },
             "pattern": {
              "fillmode": "overlay",
              "size": 10,
              "solidity": 0.2
             }
            },
            "type": "bar"
           }
          ],
          "barpolar": [
           {
            "marker": {
             "line": {
              "color": "#E5ECF6",
              "width": 0.5
             },
             "pattern": {
              "fillmode": "overlay",
              "size": 10,
              "solidity": 0.2
             }
            },
            "type": "barpolar"
           }
          ],
          "carpet": [
           {
            "aaxis": {
             "endlinecolor": "#2a3f5f",
             "gridcolor": "white",
             "linecolor": "white",
             "minorgridcolor": "white",
             "startlinecolor": "#2a3f5f"
            },
            "baxis": {
             "endlinecolor": "#2a3f5f",
             "gridcolor": "white",
             "linecolor": "white",
             "minorgridcolor": "white",
             "startlinecolor": "#2a3f5f"
            },
            "type": "carpet"
           }
          ],
          "choropleth": [
           {
            "colorbar": {
             "outlinewidth": 0,
             "ticks": ""
            },
            "type": "choropleth"
           }
          ],
          "contour": [
           {
            "colorbar": {
             "outlinewidth": 0,
             "ticks": ""
            },
            "colorscale": [
             [
              0,
              "#0d0887"
             ],
             [
              0.1111111111111111,
              "#46039f"
             ],
             [
              0.2222222222222222,
              "#7201a8"
             ],
             [
              0.3333333333333333,
              "#9c179e"
             ],
             [
              0.4444444444444444,
              "#bd3786"
             ],
             [
              0.5555555555555556,
              "#d8576b"
             ],
             [
              0.6666666666666666,
              "#ed7953"
             ],
             [
              0.7777777777777778,
              "#fb9f3a"
             ],
             [
              0.8888888888888888,
              "#fdca26"
             ],
             [
              1,
              "#f0f921"
             ]
            ],
            "type": "contour"
           }
          ],
          "contourcarpet": [
           {
            "colorbar": {
             "outlinewidth": 0,
             "ticks": ""
            },
            "type": "contourcarpet"
           }
          ],
          "heatmap": [
           {
            "colorbar": {
             "outlinewidth": 0,
             "ticks": ""
            },
            "colorscale": [
             [
              0,
              "#0d0887"
             ],
             [
              0.1111111111111111,
              "#46039f"
             ],
             [
              0.2222222222222222,
              "#7201a8"
             ],
             [
              0.3333333333333333,
              "#9c179e"
             ],
             [
              0.4444444444444444,
              "#bd3786"
             ],
             [
              0.5555555555555556,
              "#d8576b"
             ],
             [
              0.6666666666666666,
              "#ed7953"
             ],
             [
              0.7777777777777778,
              "#fb9f3a"
             ],
             [
              0.8888888888888888,
              "#fdca26"
             ],
             [
              1,
              "#f0f921"
             ]
            ],
            "type": "heatmap"
           }
          ],
          "heatmapgl": [
           {
            "colorbar": {
             "outlinewidth": 0,
             "ticks": ""
            },
            "colorscale": [
             [
              0,
              "#0d0887"
             ],
             [
              0.1111111111111111,
              "#46039f"
             ],
             [
              0.2222222222222222,
              "#7201a8"
             ],
             [
              0.3333333333333333,
              "#9c179e"
             ],
             [
              0.4444444444444444,
              "#bd3786"
             ],
             [
              0.5555555555555556,
              "#d8576b"
             ],
             [
              0.6666666666666666,
              "#ed7953"
             ],
             [
              0.7777777777777778,
              "#fb9f3a"
             ],
             [
              0.8888888888888888,
              "#fdca26"
             ],
             [
              1,
              "#f0f921"
             ]
            ],
            "type": "heatmapgl"
           }
          ],
          "histogram": [
           {
            "marker": {
             "pattern": {
              "fillmode": "overlay",
              "size": 10,
              "solidity": 0.2
             }
            },
            "type": "histogram"
           }
          ],
          "histogram2d": [
           {
            "colorbar": {
             "outlinewidth": 0,
             "ticks": ""
            },
            "colorscale": [
             [
              0,
              "#0d0887"
             ],
             [
              0.1111111111111111,
              "#46039f"
             ],
             [
              0.2222222222222222,
              "#7201a8"
             ],
             [
              0.3333333333333333,
              "#9c179e"
             ],
             [
              0.4444444444444444,
              "#bd3786"
             ],
             [
              0.5555555555555556,
              "#d8576b"
             ],
             [
              0.6666666666666666,
              "#ed7953"
             ],
             [
              0.7777777777777778,
              "#fb9f3a"
             ],
             [
              0.8888888888888888,
              "#fdca26"
             ],
             [
              1,
              "#f0f921"
             ]
            ],
            "type": "histogram2d"
           }
          ],
          "histogram2dcontour": [
           {
            "colorbar": {
             "outlinewidth": 0,
             "ticks": ""
            },
            "colorscale": [
             [
              0,
              "#0d0887"
             ],
             [
              0.1111111111111111,
              "#46039f"
             ],
             [
              0.2222222222222222,
              "#7201a8"
             ],
             [
              0.3333333333333333,
              "#9c179e"
             ],
             [
              0.4444444444444444,
              "#bd3786"
             ],
             [
              0.5555555555555556,
              "#d8576b"
             ],
             [
              0.6666666666666666,
              "#ed7953"
             ],
             [
              0.7777777777777778,
              "#fb9f3a"
             ],
             [
              0.8888888888888888,
              "#fdca26"
             ],
             [
              1,
              "#f0f921"
             ]
            ],
            "type": "histogram2dcontour"
           }
          ],
          "mesh3d": [
           {
            "colorbar": {
             "outlinewidth": 0,
             "ticks": ""
            },
            "type": "mesh3d"
           }
          ],
          "parcoords": [
           {
            "line": {
             "colorbar": {
              "outlinewidth": 0,
              "ticks": ""
             }
            },
            "type": "parcoords"
           }
          ],
          "pie": [
           {
            "automargin": true,
            "type": "pie"
           }
          ],
          "scatter": [
           {
            "marker": {
             "colorbar": {
              "outlinewidth": 0,
              "ticks": ""
             }
            },
            "type": "scatter"
           }
          ],
          "scatter3d": [
           {
            "line": {
             "colorbar": {
              "outlinewidth": 0,
              "ticks": ""
             }
            },
            "marker": {
             "colorbar": {
              "outlinewidth": 0,
              "ticks": ""
             }
            },
            "type": "scatter3d"
           }
          ],
          "scattercarpet": [
           {
            "marker": {
             "colorbar": {
              "outlinewidth": 0,
              "ticks": ""
             }
            },
            "type": "scattercarpet"
           }
          ],
          "scattergeo": [
           {
            "marker": {
             "colorbar": {
              "outlinewidth": 0,
              "ticks": ""
             }
            },
            "type": "scattergeo"
           }
          ],
          "scattergl": [
           {
            "marker": {
             "colorbar": {
              "outlinewidth": 0,
              "ticks": ""
             }
            },
            "type": "scattergl"
           }
          ],
          "scattermapbox": [
           {
            "marker": {
             "colorbar": {
              "outlinewidth": 0,
              "ticks": ""
             }
            },
            "type": "scattermapbox"
           }
          ],
          "scatterpolar": [
           {
            "marker": {
             "colorbar": {
              "outlinewidth": 0,
              "ticks": ""
             }
            },
            "type": "scatterpolar"
           }
          ],
          "scatterpolargl": [
           {
            "marker": {
             "colorbar": {
              "outlinewidth": 0,
              "ticks": ""
             }
            },
            "type": "scatterpolargl"
           }
          ],
          "scatterternary": [
           {
            "marker": {
             "colorbar": {
              "outlinewidth": 0,
              "ticks": ""
             }
            },
            "type": "scatterternary"
           }
          ],
          "surface": [
           {
            "colorbar": {
             "outlinewidth": 0,
             "ticks": ""
            },
            "colorscale": [
             [
              0,
              "#0d0887"
             ],
             [
              0.1111111111111111,
              "#46039f"
             ],
             [
              0.2222222222222222,
              "#7201a8"
             ],
             [
              0.3333333333333333,
              "#9c179e"
             ],
             [
              0.4444444444444444,
              "#bd3786"
             ],
             [
              0.5555555555555556,
              "#d8576b"
             ],
             [
              0.6666666666666666,
              "#ed7953"
             ],
             [
              0.7777777777777778,
              "#fb9f3a"
             ],
             [
              0.8888888888888888,
              "#fdca26"
             ],
             [
              1,
              "#f0f921"
             ]
            ],
            "type": "surface"
           }
          ],
          "table": [
           {
            "cells": {
             "fill": {
              "color": "#EBF0F8"
             },
             "line": {
              "color": "white"
             }
            },
            "header": {
             "fill": {
              "color": "#C8D4E3"
             },
             "line": {
              "color": "white"
             }
            },
            "type": "table"
           }
          ]
         },
         "layout": {
          "annotationdefaults": {
           "arrowcolor": "#2a3f5f",
           "arrowhead": 0,
           "arrowwidth": 1
          },
          "autotypenumbers": "strict",
          "coloraxis": {
           "colorbar": {
            "outlinewidth": 0,
            "ticks": ""
           }
          },
          "colorscale": {
           "diverging": [
            [
             0,
             "#8e0152"
            ],
            [
             0.1,
             "#c51b7d"
            ],
            [
             0.2,
             "#de77ae"
            ],
            [
             0.3,
             "#f1b6da"
            ],
            [
             0.4,
             "#fde0ef"
            ],
            [
             0.5,
             "#f7f7f7"
            ],
            [
             0.6,
             "#e6f5d0"
            ],
            [
             0.7,
             "#b8e186"
            ],
            [
             0.8,
             "#7fbc41"
            ],
            [
             0.9,
             "#4d9221"
            ],
            [
             1,
             "#276419"
            ]
           ],
           "sequential": [
            [
             0,
             "#0d0887"
            ],
            [
             0.1111111111111111,
             "#46039f"
            ],
            [
             0.2222222222222222,
             "#7201a8"
            ],
            [
             0.3333333333333333,
             "#9c179e"
            ],
            [
             0.4444444444444444,
             "#bd3786"
            ],
            [
             0.5555555555555556,
             "#d8576b"
            ],
            [
             0.6666666666666666,
             "#ed7953"
            ],
            [
             0.7777777777777778,
             "#fb9f3a"
            ],
            [
             0.8888888888888888,
             "#fdca26"
            ],
            [
             1,
             "#f0f921"
            ]
           ],
           "sequentialminus": [
            [
             0,
             "#0d0887"
            ],
            [
             0.1111111111111111,
             "#46039f"
            ],
            [
             0.2222222222222222,
             "#7201a8"
            ],
            [
             0.3333333333333333,
             "#9c179e"
            ],
            [
             0.4444444444444444,
             "#bd3786"
            ],
            [
             0.5555555555555556,
             "#d8576b"
            ],
            [
             0.6666666666666666,
             "#ed7953"
            ],
            [
             0.7777777777777778,
             "#fb9f3a"
            ],
            [
             0.8888888888888888,
             "#fdca26"
            ],
            [
             1,
             "#f0f921"
            ]
           ]
          },
          "colorway": [
           "#636efa",
           "#EF553B",
           "#00cc96",
           "#ab63fa",
           "#FFA15A",
           "#19d3f3",
           "#FF6692",
           "#B6E880",
           "#FF97FF",
           "#FECB52"
          ],
          "font": {
           "color": "#2a3f5f"
          },
          "geo": {
           "bgcolor": "white",
           "lakecolor": "white",
           "landcolor": "#E5ECF6",
           "showlakes": true,
           "showland": true,
           "subunitcolor": "white"
          },
          "hoverlabel": {
           "align": "left"
          },
          "hovermode": "closest",
          "mapbox": {
           "style": "light"
          },
          "paper_bgcolor": "white",
          "plot_bgcolor": "#E5ECF6",
          "polar": {
           "angularaxis": {
            "gridcolor": "white",
            "linecolor": "white",
            "ticks": ""
           },
           "bgcolor": "#E5ECF6",
           "radialaxis": {
            "gridcolor": "white",
            "linecolor": "white",
            "ticks": ""
           }
          },
          "scene": {
           "xaxis": {
            "backgroundcolor": "#E5ECF6",
            "gridcolor": "white",
            "gridwidth": 2,
            "linecolor": "white",
            "showbackground": true,
            "ticks": "",
            "zerolinecolor": "white"
           },
           "yaxis": {
            "backgroundcolor": "#E5ECF6",
            "gridcolor": "white",
            "gridwidth": 2,
            "linecolor": "white",
            "showbackground": true,
            "ticks": "",
            "zerolinecolor": "white"
           },
           "zaxis": {
            "backgroundcolor": "#E5ECF6",
            "gridcolor": "white",
            "gridwidth": 2,
            "linecolor": "white",
            "showbackground": true,
            "ticks": "",
            "zerolinecolor": "white"
           }
          },
          "shapedefaults": {
           "line": {
            "color": "#2a3f5f"
           }
          },
          "ternary": {
           "aaxis": {
            "gridcolor": "white",
            "linecolor": "white",
            "ticks": ""
           },
           "baxis": {
            "gridcolor": "white",
            "linecolor": "white",
            "ticks": ""
           },
           "bgcolor": "#E5ECF6",
           "caxis": {
            "gridcolor": "white",
            "linecolor": "white",
            "ticks": ""
           }
          },
          "title": {
           "x": 0.05
          },
          "xaxis": {
           "automargin": true,
           "gridcolor": "white",
           "linecolor": "white",
           "ticks": "",
           "title": {
            "standoff": 15
           },
           "zerolinecolor": "white",
           "zerolinewidth": 2
          },
          "yaxis": {
           "automargin": true,
           "gridcolor": "white",
           "linecolor": "white",
           "ticks": "",
           "title": {
            "standoff": 15
           },
           "zerolinecolor": "white",
           "zerolinewidth": 2
          }
         }
        }
       }
      },
      "image/png": "[encoded data removed]",
      "text/html": [
       "<div>                            <div id=\"c62aa193-8544-4bf8-a1e3-c4a803d1737f\" class=\"plotly-graph-div\" style=\"height:525px; width:100%;\"></div>            <script type=\"text/javascript\">                require([\"plotly\"], function(Plotly) {                    window.PLOTLYENV=window.PLOTLYENV || {};                                    if (document.getElementById(\"c62aa193-8544-4bf8-a1e3-c4a803d1737f\")) {                    Plotly.newPlot(                        \"c62aa193-8544-4bf8-a1e3-c4a803d1737f\",                        [{\"branchvalues\":\"total\",\"customdata\":[-0.53,-2.03,2.47,-2.0,-9.69,-7.25,-5.35,-1.79,-1.23,-0.95,-2.13,-0.34,-3.79,-0.77,-3.85,-1.39,-2.49,-6.72,-6.33,-3.04,-1.85,-1.52,-3.33,-3.56,0.14,-1.18,-3.47,-3.0,-2.94,-0.82,0.44,-4.13,-0.23,0.13,-0.2,-2.65,-0.7,-0.06,-2.4,-1.14,-3.6,-0.74,-1.99,-1.65,-5.93,-14.51,-2.12,0.19,-0.43,-1.27,-1.2,2.7,-4.81,-2.61,-1.63,-9.47,-15.08,-4.55,-2.6,-1.55,11.55,-4.31,11.7,14.32,-6.38,-4.59,-1.97,-5.11,-0.8,-4.95,-4.36,-0.91,-0.4,-0.98,4.63,-3.61,-5.66,-4.36,-1.44,-1.2,1.18,-2.39,-3.95,-1.68,3.85,-5.64,-12.26,0.2,-2.49,-0.64],\"domain\":{\"x\":[0.0,1.0],\"y\":[0.0,1.0]},\"hovertemplate\":\"labels=%{label}<br>Part. (%)=%{value}<br>parent=%{parent}<br>id=%{id}<br>PcChangeDay=%{color}<extra></extra>\",\"ids\":[\"Stocks/Consumer Defensive/ABEV3\",\"Stocks/Consumer Cyclical/ALPA4\",\"Stocks/Consumer Cyclical/AMER3\",\"Stocks/Consumer Defensive/ASAI3\",\"Stocks/Industrials/AZUL4\",\"Stocks/Financial Services/B3SA3\",\"Stocks/Financial Services/BBAS3\",\"Stocks/Financial Services/BBDC3\",\"Stocks/Financial Services/BBDC4\",\"Stocks/Financial Services/BBSE3\",\"Stocks/Consumer Defensive/BEEF3\",\"Stocks/Financial Services/BPAC11\",\"Stocks/Financial Services/BPAN4\",\"Stocks/Financial Services/BRAP4\",\"Stocks/Consumer Defensive/BRFS3\",\"Stocks/Basic Materials/BRKM5\",\"Stocks/Real Estate/BRML3\",\"Stocks/Communication Services/CASH3\",\"Stocks/Industrials/CCRO3\",\"Stocks/Technology/CIEL3\",\"Stocks/Utilities/CMIG4\",\"Stocks/Basic Materials/CMIN3\",\"Stocks/Consumer Defensive/COGN3\",\"Stocks/Utilities/CPFE3\",\"Stocks/Utilities/CPLE6\",\"Stocks/Consumer Defensive/CRFB3\",\"Stocks/Energy/CSAN3\",\"Stocks/Basic Materials/CSNA3\",\"Stocks/Consumer Cyclical/CVCB3\",\"Stocks/Consumer Cyclical/CYRE3\",\"Stocks/Basic Materials/DXCO3\",\"Stocks/Industrials/ECOR3\",\"Stocks/Utilities/EGIE3\",\"Stocks/Utilities/ELET3\",\"Stocks/Utilities/ELET6\",\"Stocks/Industrials/EMBR3\",\"Stocks/Utilities/ENBR3\",\"Stocks/Utilities/ENEV3\",\"Stocks/Utilities/ENGI11\",\"Stocks/Utilities/EQTL3\",\"Stocks/Real Estate/EZTC3\",\"Stocks/Healthcare/FLRY3\",\"Stocks/Basic Materials/GGBR4\",\"Stocks/Basic Materials/GOAU4\",\"Stocks/Industrials/GOLL4\",\"Stocks/Financial Services/HAPV3\",\"Stocks/Healthcare/HYPE3\",\"Stocks/Industrials/IGTI11\",\"Stocks/Financial Services/IRBR3\",\"Stocks/Financial Services/ITSA4\",\"Stocks/Financial Services/ITUB4\",\"Stocks/Consumer Defensive/JBSS3\",\"Stocks/Real Estate/JHSF3\",\"Stocks/Basic Materials/KLBN11\",\"Stocks/Consumer Cyclical/LREN3\",\"Stocks/Technology/LWSA3\",\"Stocks/Consumer Cyclical/MGLU3\",\"Stocks/Consumer Defensive/MRFG3\",\"Stocks/Consumer Cyclical/MRVE3\",\"Stocks/Real Estate/MULT3\",\"Stocks/Consumer Defensive/NTCO3\",\"Stocks/Consumer Cyclical/PCAR3\",\"Stocks/Energy/PETR3\",\"Stocks/Energy/PETR4\",\"Stocks/Consumer Cyclical/PETZ3\",\"Stocks/Technology/POSI3\",\"Stocks/Energy/PRIO3\",\"Stocks/Healthcare/QUAL3\",\"Stocks/Healthcare/RADL3\",\"Stocks/Industrials/RAIL3\",\"Stocks/Healthcare/RDOR3\",\"Stocks/Industrials/RENT3\",\"Stocks/Energy/RRRP3\",\"Stocks/Financial Services/SANB11\",\"Stocks/Utilities/SBSP3\",\"Stocks/Consumer Defensive/SLCE3\",\"Stocks/Consumer Cyclical/SOMA3\",\"Stocks/Financial Services/SULA11\",\"Stocks/Basic Materials/SUZB3\",\"Stocks/Utilities/TAEE11\",\"Stocks/Communication Services/TIMS3\",\"Stocks/Technology/TOTS3\",\"Stocks/Energy/UGPA3\",\"Stocks/Basic Materials/USIM5\",\"Stocks/Basic Materials/VALE3\",\"Stocks/Consumer Cyclical/VBBR3\",\"Stocks/Consumer Cyclical/VIIA3\",\"Stocks/Communication Services/VIVT3\",\"Stocks/Industrials/WEGE3\",\"Stocks/Consumer Defensive/YDUQ3\",\"Stocks/Basic Materials\",\"Stocks/Communication Services\",\"Stocks/Consumer Cyclical\",\"Stocks/Consumer Defensive\",\"Stocks/Energy\",\"Stocks/Financial Services\",\"Stocks/Healthcare\",\"Stocks/Industrials\",\"Stocks/Real Estate\",\"Stocks/Technology\",\"Stocks/Utilities\",\"Stocks\"],\"labels\":[\"ABEV3\",\"ALPA4\",\"AMER3\",\"ASAI3\",\"AZUL4\",\"B3SA3\",\"BBAS3\",\"BBDC3\",\"BBDC4\",\"BBSE3\",\"BEEF3\",\"BPAC11\",\"BPAN4\",\"BRAP4\",\"BRFS3\",\"BRKM5\",\"BRML3\",\"CASH3\",\"CCRO3\",\"CIEL3\",\"CMIG4\",\"CMIN3\",\"COGN3\",\"CPFE3\",\"CPLE6\",\"CRFB3\",\"CSAN3\",\"CSNA3\",\"CVCB3\",\"CYRE3\",\"DXCO3\",\"ECOR3\",\"EGIE3\",\"ELET3\",\"ELET6\",\"EMBR3\",\"ENBR3\",\"ENEV3\",\"ENGI11\",\"EQTL3\",\"EZTC3\",\"FLRY3\",\"GGBR4\",\"GOAU4\",\"GOLL4\",\"HAPV3\",\"HYPE3\",\"IGTI11\",\"IRBR3\",\"ITSA4\",\"ITUB4\",\"JBSS3\",\"JHSF3\",\"KLBN11\",\"LREN3\",\"LWSA3\",\"MGLU3\",\"MRFG3\",\"MRVE3\",\"MULT3\",\"NTCO3\",\"PCAR3\",\"PETR3\",\"PETR4\",\"PETZ3\",\"POSI3\",\"PRIO3\",\"QUAL3\",\"RADL3\",\"RAIL3\",\"RDOR3\",\"RENT3\",\"RRRP3\",\"SANB11\",\"SBSP3\",\"SLCE3\",\"SOMA3\",\"SULA11\",\"SUZB3\",\"TAEE11\",\"TIMS3\",\"TOTS3\",\"UGPA3\",\"USIM5\",\"VALE3\",\"VBBR3\",\"VIIA3\",\"VIVT3\",\"WEGE3\",\"YDUQ3\",\"Basic Materials\",\"Communication Services\",\"Consumer Cyclical\",\"Consumer Defensive\",\"Energy\",\"Financial Services\",\"Healthcare\",\"Industrials\",\"Real Estate\",\"Technology\",\"Utilities\",\"Stocks\"],\"marker\":{\"coloraxis\":\"coloraxis\",\"colors\":[-0.53,-2.03,2.47,-2.0,-9.690000000000001,-7.25,-5.35,-1.79,-1.23,-0.95,-2.13,-0.34,-3.79,-0.77,-3.85,-1.39,-2.49,-6.72,-6.330000000000001,-3.04,-1.85,-1.5200000000000002,-3.33,-3.56,0.14,-1.18,-3.47,-2.9999999999999996,-2.94,-0.82,0.44,-4.13,-0.23000000000000004,0.13,-0.2,-2.65,-0.7,-0.05999999999999999,-2.4,-1.14,-3.6,-0.74,-1.9899999999999998,-1.65,-5.93,-14.51,-2.12,0.19,-0.43,-1.27,-1.2,2.7,-4.81,-2.61,-1.63,-9.47,-15.08,-4.55,-2.6,-1.55,11.55,-4.31,11.7,14.32,-6.38,-4.59,-1.9699999999999998,-5.11,-0.8,-4.95,-4.36,-0.9099999999999999,-0.4,-0.9799999999999999,4.63,-3.6100000000000003,-5.66,-4.36,-1.44,-1.2,1.18,-2.39,-3.95,-1.68,3.85,-5.64,-12.259999999999998,0.2,-2.49,-0.6399999999999999,2.0800564069816945,0.3713506320691949,-4.493306233062331,0.425927477129946,10.101949853943525,-3.2412833134638306,-2.5170909090909093,-2.9877962243941627,-2.483021420518602,-3.7018976897689777,-0.2634870977383681,0.6246678999999999]},\"name\":\"\",\"parents\":[\"Stocks/Consumer Defensive\",\"Stocks/Consumer Cyclical\",\"Stocks/Consumer Cyclical\",\"Stocks/Consumer Defensive\",\"Stocks/Industrials\",\"Stocks/Financial Services\",\"Stocks/Financial Services\",\"Stocks/Financial Services\",\"Stocks/Financial Services\",\"Stocks/Financial Services\",\"Stocks/Consumer Defensive\",\"Stocks/Financial Services\",\"Stocks/Financial Services\",\"Stocks/Financial Services\",\"Stocks/Consumer Defensive\",\"Stocks/Basic Materials\",\"Stocks/Real Estate\",\"Stocks/Communication Services\",\"Stocks/Industrials\",\"Stocks/Technology\",\"Stocks/Utilities\",\"Stocks/Basic Materials\",\"Stocks/Consumer Defensive\",\"Stocks/Utilities\",\"Stocks/Utilities\",\"Stocks/Consumer Defensive\",\"Stocks/Energy\",\"Stocks/Basic Materials\",\"Stocks/Consumer Cyclical\",\"Stocks/Consumer Cyclical\",\"Stocks/Basic Materials\",\"Stocks/Industrials\",\"Stocks/Utilities\",\"Stocks/Utilities\",\"Stocks/Utilities\",\"Stocks/Industrials\",\"Stocks/Utilities\",\"Stocks/Utilities\",\"Stocks/Utilities\",\"Stocks/Utilities\",\"Stocks/Real Estate\",\"Stocks/Healthcare\",\"Stocks/Basic Materials\",\"Stocks/Basic Materials\",\"Stocks/Industrials\",\"Stocks/Financial Services\",\"Stocks/Healthcare\",\"Stocks/Industrials\",\"Stocks/Financial Services\",\"Stocks/Financial Services\",\"Stocks/Financial Services\",\"Stocks/Consumer Defensive\",\"Stocks/Real Estate\",\"Stocks/Basic Materials\",\"Stocks/Consumer Cyclical\",\"Stocks/Technology\",\"Stocks/Consumer Cyclical\",\"Stocks/Consumer Defensive\",\"Stocks/Consumer Cyclical\",\"Stocks/Real Estate\",\"Stocks/Consumer Defensive\",\"Stocks/Consumer Cyclical\",\"Stocks/Energy\",\"Stocks/Energy\",\"Stocks/Consumer Cyclical\",\"Stocks/Technology\",\"Stocks/Energy\",\"Stocks/Healthcare\",\"Stocks/Healthcare\",\"Stocks/Industrials\",\"Stocks/Healthcare\",\"Stocks/Industrials\",\"Stocks/Energy\",\"Stocks/Financial Services\",\"Stocks/Utilities\",\"Stocks/Consumer Defensive\",\"Stocks/Consumer Cyclical\",\"Stocks/Financial Services\",\"Stocks/Basic Materials\",\"Stocks/Utilities\",\"Stocks/Communication Services\",\"Stocks/Technology\",\"Stocks/Energy\",\"Stocks/Basic Materials\",\"Stocks/Basic Materials\",\"Stocks/Consumer Cyclical\",\"Stocks/Consumer Cyclical\",\"Stocks/Communication Services\",\"Stocks/Industrials\",\"Stocks/Consumer Defensive\",\"Stocks\",\"Stocks\",\"Stocks\",\"Stocks\",\"Stocks\",\"Stocks\",\"Stocks\",\"Stocks\",\"Stocks\",\"Stocks\",\"Stocks\",\"\"],\"textposition\":\"middle center\",\"texttemplate\":\"%{label}<br>%{customdata}\",\"type\":\"treemap\",\"values\":[3.229,0.197,0.419,0.683,0.221,3.649,2.71,1.173,4.82,0.966,0.172,1.619,0.127,0.285,0.91,0.472,0.362,0.036,0.777,0.286,0.856,0.209,0.234,0.316,0.57,0.406,1.177,0.499,0.108,0.209,0.158,0.106,0.557,2.395,0.616,0.495,0.258,1.23,0.56,1.416,0.093,0.237,1.366,0.362,0.084,1.451,0.885,0.193,0.144,2.154,6.018,2.025,0.091,0.805,1.356,0.189,0.462,0.236,0.169,0.341,0.742,0.131,5.127,8.039,0.194,0.03,1.02,0.158,1.2,1.124,1.315,2.308,0.34,0.535,0.798,0.207,0.283,0.352,1.754,0.465,0.517,0.707,0.729,0.228,12.939,1.039,0.23,0.95,2.161,0.229,18.792,1.5030000000000001,4.797000000000001,9.073,16.432,26.003,3.795,7.468999999999999,0.887,1.212,10.037,100.0]}],                        {\"coloraxis\":{\"colorbar\":{\"title\":{\"text\":\"PcChangeDay\"}},\"colorscale\":[[0.0,\"Red\"],[0.5,\"#8b0000\"],[1.0,\"Green\"]],\"showscale\":false},\"legend\":{\"tracegroupgap\":0},\"margin\":{\"b\":10,\"l\":10,\"r\":10,\"t\":30},\"template\":{\"data\":{\"bar\":[{\"error_x\":{\"color\":\"#2a3f5f\"},\"error_y\":{\"color\":\"#2a3f5f\"},\"marker\":{\"line\":{\"color\":\"#E5ECF6\",\"width\":0.5},\"pattern\":{\"fillmode\":\"overlay\",\"size\":10,\"solidity\":0.2}},\"type\":\"bar\"}],\"barpolar\":[{\"marker\":{\"line\":{\"color\":\"#E5ECF6\",\"width\":0.5},\"pattern\":{\"fillmode\":\"overlay\",\"size\":10,\"solidity\":0.2}},\"type\":\"barpolar\"}],\"carpet\":[{\"aaxis\":{\"endlinecolor\":\"#2a3f5f\",\"gridcolor\":\"white\",\"linecolor\":\"white\",\"minorgridcolor\":\"white\",\"startlinecolor\":\"#2a3f5f\"},\"baxis\":{\"endlinecolor\":\"#2a3f5f\",\"gridcolor\":\"white\",\"linecolor\":\"white\",\"minorgridcolor\":\"white\",\"startlinecolor\":\"#2a3f5f\"},\"type\":\"carpet\"}],\"choropleth\":[{\"colorbar\":{\"outlinewidth\":0,\"ticks\":\"\"},\"type\":\"choropleth\"}],\"contour\":[{\"colorbar\":{\"outlinewidth\":0,\"ticks\":\"\"},\"colorscale\":[[0.0,\"#0d0887\"],[0.1111111111111111,\"#46039f\"],[0.2222222222222222,\"#7201a8\"],[0.3333333333333333,\"#9c179e\"],[0.4444444444444444,\"#bd3786\"],[0.5555555555555556,\"#d8576b\"],[0.6666666666666666,\"#ed7953\"],[0.7777777777777778,\"#fb9f3a\"],[0.8888888888888888,\"#fdca26\"],[1.0,\"#f0f921\"]],\"type\":\"contour\"}],\"contourcarpet\":[{\"colorbar\":{\"outlinewidth\":0,\"ticks\":\"\"},\"type\":\"contourcarpet\"}],\"heatmap\":[{\"colorbar\":{\"outlinewidth\":0,\"ticks\":\"\"},\"colorscale\":[[0.0,\"#0d0887\"],[0.1111111111111111,\"#46039f\"],[0.2222222222222222,\"#7201a8\"],[0.3333333333333333,\"#9c179e\"],[0.4444444444444444,\"#bd3786\"],[0.5555555555555556,\"#d8576b\"],[0.6666666666666666,\"#ed7953\"],[0.7777777777777778,\"#fb9f3a\"],[0.8888888888888888,\"#fdca26\"],[1.0,\"#f0f921\"]],\"type\":\"heatmap\"}],\"heatmapgl\":[{\"colorbar\":{\"outlinewidth\":0,\"ticks\":\"\"},\"colorscale\":[[0.0,\"#0d0887\"],[0.1111111111111111,\"#46039f\"],[0.2222222222222222,\"#7201a8\"],[0.3333333333333333,\"#9c179e\"],[0.4444444444444444,\"#bd3786\"],[0.5555555555555556,\"#d8576b\"],[0.6666666666666666,\"#ed7953\"],[0.7777777777777778,\"#fb9f3a\"],[0.8888888888888888,\"#fdca26\"],[1.0,\"#f0f921\"]],\"type\":\"heatmapgl\"}],\"histogram\":[{\"marker\":{\"pattern\":{\"fillmode\":\"overlay\",\"size\":10,\"solidity\":0.2}},\"type\":\"histogram\"}],\"histogram2d\":[{\"colorbar\":{\"outlinewidth\":0,\"ticks\":\"\"},\"colorscale\":[[0.0,\"#0d0887\"],[0.1111111111111111,\"#46039f\"],[0.2222222222222222,\"#7201a8\"],[0.3333333333333333,\"#9c179e\"],[0.4444444444444444,\"#bd3786\"],[0.5555555555555556,\"#d8576b\"],[0.6666666666666666,\"#ed7953\"],[0.7777777777777778,\"#fb9f3a\"],[0.8888888888888888,\"#fdca26\"],[1.0,\"#f0f921\"]],\"type\":\"histogram2d\"}],\"histogram2dcontour\":[{\"colorbar\":{\"outlinewidth\":0,\"ticks\":\"\"},\"colorscale\":[[0.0,\"#0d0887\"],[0.1111111111111111,\"#46039f\"],[0.2222222222222222,\"#7201a8\"],[0.3333333333333333,\"#9c179e\"],[0.4444444444444444,\"#bd3786\"],[0.5555555555555556,\"#d8576b\"],[0.6666666666666666,\"#ed7953\"],[0.7777777777777778,\"#fb9f3a\"],[0.8888888888888888,\"#fdca26\"],[1.0,\"#f0f921\"]],\"type\":\"histogram2dcontour\"}],\"mesh3d\":[{\"colorbar\":{\"outlinewidth\":0,\"ticks\":\"\"},\"type\":\"mesh3d\"}],\"parcoords\":[{\"line\":{\"colorbar\":{\"outlinewidth\":0,\"ticks\":\"\"}},\"type\":\"parcoords\"}],\"pie\":[{\"automargin\":true,\"type\":\"pie\"}],\"scatter\":[{\"marker\":{\"colorbar\":{\"outlinewidth\":0,\"ticks\":\"\"}},\"type\":\"scatter\"}],\"scatter3d\":[{\"line\":{\"colorbar\":{\"outlinewidth\":0,\"ticks\":\"\"}},\"marker\":{\"colorbar\":{\"outlinewidth\":0,\"ticks\":\"\"}},\"type\":\"scatter3d\"}],\"scattercarpet\":[{\"marker\":{\"colorbar\":{\"outlinewidth\":0,\"ticks\":\"\"}},\"type\":\"scattercarpet\"}],\"scattergeo\":[{\"marker\":{\"colorbar\":{\"outlinewidth\":0,\"ticks\":\"\"}},\"type\":\"scattergeo\"}],\"scattergl\":[{\"marker\":{\"colorbar\":{\"outlinewidth\":0,\"ticks\":\"\"}},\"type\":\"scattergl\"}],\"scattermapbox\":[{\"marker\":{\"colorbar\":{\"outlinewidth\":0,\"ticks\":\"\"}},\"type\":\"scattermapbox\"}],\"scatterpolar\":[{\"marker\":{\"colorbar\":{\"outlinewidth\":0,\"ticks\":\"\"}},\"type\":\"scatterpolar\"}],\"scatterpolargl\":[{\"marker\":{\"colorbar\":{\"outlinewidth\":0,\"ticks\":\"\"}},\"type\":\"scatterpolargl\"}],\"scatterternary\":[{\"marker\":{\"colorbar\":{\"outlinewidth\":0,\"ticks\":\"\"}},\"type\":\"scatterternary\"}],\"surface\":[{\"colorbar\":{\"outlinewidth\":0,\"ticks\":\"\"},\"colorscale\":[[0.0,\"#0d0887\"],[0.1111111111111111,\"#46039f\"],[0.2222222222222222,\"#7201a8\"],[0.3333333333333333,\"#9c179e\"],[0.4444444444444444,\"#bd3786\"],[0.5555555555555556,\"#d8576b\"],[0.6666666666666666,\"#ed7953\"],[0.7777777777777778,\"#fb9f3a\"],[0.8888888888888888,\"#fdca26\"],[1.0,\"#f0f921\"]],\"type\":\"surface\"}],\"table\":[{\"cells\":{\"fill\":{\"color\":\"#EBF0F8\"},\"line\":{\"color\":\"white\"}},\"header\":{\"fill\":{\"color\":\"#C8D4E3\"},\"line\":{\"color\":\"white\"}},\"type\":\"table\"}]},\"layout\":{\"annotationdefaults\":{\"arrowcolor\":\"#2a3f5f\",\"arrowhead\":0,\"arrowwidth\":1},\"autotypenumbers\":\"strict\",\"coloraxis\":{\"colorbar\":{\"outlinewidth\":0,\"ticks\":\"\"}},\"colorscale\":{\"diverging\":[[0,\"#8e0152\"],[0.1,\"#c51b7d\"],[0.2,\"#de77ae\"],[0.3,\"#f1b6da\"],[0.4,\"#fde0ef\"],[0.5,\"#f7f7f7\"],[0.6,\"#e6f5d0\"],[0.7,\"#b8e186\"],[0.8,\"#7fbc41\"],[0.9,\"#4d9221\"],[1,\"#276419\"]],\"sequential\":[[0.0,\"#0d0887\"],[0.1111111111111111,\"#46039f\"],[0.2222222222222222,\"#7201a8\"],[0.3333333333333333,\"#9c179e\"],[0.4444444444444444,\"#bd3786\"],[0.5555555555555556,\"#d8576b\"],[0.6666666666666666,\"#ed7953\"],[0.7777777777777778,\"#fb9f3a\"],[0.8888888888888888,\"#fdca26\"],[1.0,\"#f0f921\"]],\"sequentialminus\":[[0.0,\"#0d0887\"],[0.1111111111111111,\"#46039f\"],[0.2222222222222222,\"#7201a8\"],[0.3333333333333333,\"#9c179e\"],[0.4444444444444444,\"#bd3786\"],[0.5555555555555556,\"#d8576b\"],[0.6666666666666666,\"#ed7953\"],[0.7777777777777778,\"#fb9f3a\"],[0.8888888888888888,\"#fdca26\"],[1.0,\"#f0f921\"]]},\"colorway\":[\"#636efa\",\"#EF553B\",\"#00cc96\",\"#ab63fa\",\"#FFA15A\",\"#19d3f3\",\"#FF6692\",\"#B6E880\",\"#FF97FF\",\"#FECB52\"],\"font\":{\"color\":\"#2a3f5f\"},\"geo\":{\"bgcolor\":\"white\",\"lakecolor\":\"white\",\"landcolor\":\"#E5ECF6\",\"showlakes\":true,\"showland\":true,\"subunitcolor\":\"white\"},\"hoverlabel\":{\"align\":\"left\"},\"hovermode\":\"closest\",\"mapbox\":{\"style\":\"light\"},\"paper_bgcolor\":\"white\",\"plot_bgcolor\":\"#E5ECF6\",\"polar\":{\"angularaxis\":{\"gridcolor\":\"white\",\"linecolor\":\"white\",\"ticks\":\"\"},\"bgcolor\":\"#E5ECF6\",\"radialaxis\":{\"gridcolor\":\"white\",\"linecolor\":\"white\",\"ticks\":\"\"}},\"scene\":{\"xaxis\":{\"backgroundcolor\":\"#E5ECF6\",\"gridcolor\":\"white\",\"gridwidth\":2,\"linecolor\":\"white\",\"showbackground\":true,\"ticks\":\"\",\"zerolinecolor\":\"white\"},\"yaxis\":{\"backgroundcolor\":\"#E5ECF6\",\"gridcolor\":\"white\",\"gridwidth\":2,\"linecolor\":\"white\",\"showbackground\":true,\"ticks\":\"\",\"zerolinecolor\":\"white\"},\"zaxis\":{\"backgroundcolor\":\"#E5ECF6\",\"gridcolor\":\"white\",\"gridwidth\":2,\"linecolor\":\"white\",\"showbackground\":true,\"ticks\":\"\",\"zerolinecolor\":\"white\"}},\"shapedefaults\":{\"line\":{\"color\":\"#2a3f5f\"}},\"ternary\":{\"aaxis\":{\"gridcolor\":\"white\",\"linecolor\":\"white\",\"ticks\":\"\"},\"baxis\":{\"gridcolor\":\"white\",\"linecolor\":\"white\",\"ticks\":\"\"},\"bgcolor\":\"#E5ECF6\",\"caxis\":{\"gridcolor\":\"white\",\"linecolor\":\"white\",\"ticks\":\"\"}},\"title\":{\"x\":0.05},\"xaxis\":{\"automargin\":true,\"gridcolor\":\"white\",\"linecolor\":\"white\",\"ticks\":\"\",\"title\":{\"standoff\":15},\"zerolinecolor\":\"white\",\"zerolinewidth\":2},\"yaxis\":{\"automargin\":true,\"gridcolor\":\"white\",\"linecolor\":\"white\",\"ticks\":\"\",\"title\":{\"standoff\":15},\"zerolinecolor\":\"white\",\"zerolinewidth\":2}}}},                        {\"responsive\": true}                    ).then(function(){\n",
       "                            \n",
       "var gd = document.getElementById('c62aa193-8544-4bf8-a1e3-c4a803d1737f');\n",
       "var x = new MutationObserver(function (mutations, observer) {{\n",
       "        var display = window.getComputedStyle(gd).display;\n",
       "        if (!display || display === 'none') {{\n",
       "            console.log([gd, 'removed!']);\n",
       "            Plotly.purge(gd);\n",
       "            observer.disconnect();\n",
       "        }}\n",
       "}});\n",
       "\n",
       "// Listen for the removal of the full notebook cells\n",
       "var notebookContainer = gd.closest('#notebook-container');\n",
       "if (notebookContainer) {{\n",
       "    x.observe(notebookContainer, {childList: true});\n",
       "}}\n",
       "\n",
       "// Listen for the clearing of the current output cell\n",
       "var outputEl = gd.closest('.output');\n",
       "if (outputEl) {{\n",
       "    x.observe(outputEl, {childList: true});\n",
       "}}\n",
       "\n",
       "                        })                };                });            </script>        </div>"
      ]
     },
     "metadata": {},
     "output_type": "display_data"
    }
   ],
   "source": [
    "IBOV.sort_values(by=['Código','Sector'],inplace=True)\n",
    "\n",
    "fig = px.treemap(IBOV, \n",
    "                 path=[px.Constant('Stocks'), 'Sector',  'Código'],\n",
    "                 values='Part. (%)', color='PcChangeDay',\n",
    "                 color_continuous_scale=[ 'Red', \"#8b0000\", 'Green'])\n",
    "\n",
    "fig.data[0].customdata = IBOV['PcChangeDay']\n",
    "fig.data[0].texttemplate = \"%{label}<br>%{customdata}\"\n",
    "fig.update_traces(textposition=\"middle center\", \n",
    "                  selector=dict(type='treemap'))\n",
    "\n",
    "fig.update_layout(margin = dict(t=30, l=10, r=10, b=10))\n",
    "fig.update(layout_coloraxis_showscale=False)\n",
    "fig.show()"
   ]
  },
  {
   "cell_type": "code",
   "execution_count": null,
   "id": "2158fa8a-d22b-44eb-af58-95bfde0b54df",
   "metadata": {},
   "outputs": [],
   "source": []
  },
  {
   "cell_type": "code",
   "execution_count": null,
   "id": "d03194f2-80bf-4217-a026-ce61cbfe872e",
   "metadata": {},
   "outputs": [],
   "source": []
  },
  {
   "cell_type": "code",
   "execution_count": null,
   "id": "fa3de1d1-335a-42b7-80a7-c78c79aa82b9",
   "metadata": {},
   "outputs": [],
   "source": [
    "IBOV.sort_values(by=['Código','Sector'],inplace=True)\n",
    "\n",
    "fig = px.treemap(IBOV, \n",
    "                 path=[px.Constant('Stocks'), 'Sector',  'Código'],\n",
    "                 values='Part. (%)', color='PcChangeDay',\n",
    "                 color_continuous_scale=[ 'Red', \"#8b0000\", 'Green'])\n",
    "\n",
    "fig.data[0].customdata = IBOV['PcChangeDay']\n",
    "fig.data[0].texttemplate = \"%{label}<br>%{customdata}\"\n",
    "fig.update_traces(textposition=\"middle center\", \n",
    "                  selector=dict(type='treemap'))\n",
    "\n",
    "fig.update_layout(margin = dict(t=30, l=10, r=10, b=10))\n",
    "fig.update(layout_coloraxis_showscale=False)\n",
    "fig.show()"
   ]
  }
 ],
 "metadata": {
  "kernelspec": {
   "display_name": "Python 3 (ipykernel)",
   "language": "python",
   "name": "python3"
  },
  "language_info": {
   "codemirror_mode": {
    "name": "ipython",
    "version": 3
   },
   "file_extension": ".py",
   "mimetype": "text/x-python",
   "name": "python",
   "nbconvert_exporter": "python",
   "pygments_lexer": "ipython3",
   "version": "3.9.12"
  }
 },
 "nbformat": 4,
 "nbformat_minor": 5
}
