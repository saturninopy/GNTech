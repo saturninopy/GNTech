{
 "cells": [
  {
   "cell_type": "code",
   "execution_count": null,
   "id": "f4074119-3f2e-4fba-a606-169012f759ce",
   "metadata": {},
   "outputs": [],
   "source": [
    "# EXEMPLO YAHOO FINANCE - BUSCA DE MULTIPLOS (MESMO PORTE, MESMO SETOR)"
   ]
  }
 ],
 "metadata": {
  "kernelspec": {
   "display_name": "Python 3 (ipykernel)",
   "language": "python",
   "name": "python3"
  },
  "language_info": {
   "codemirror_mode": {
    "name": "ipython",
    "version": 3
   },
   "file_extension": ".py",
   "mimetype": "text/x-python",
   "name": "python",
   "nbconvert_exporter": "python",
   "pygments_lexer": "ipython3",
   "version": "3.9.7"
  }
 },
 "nbformat": 4,
 "nbformat_minor": 5
}
