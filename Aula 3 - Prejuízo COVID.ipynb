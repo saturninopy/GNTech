{
 "cells": [
  {
   "cell_type": "code",
   "execution_count": 1,
   "id": "1be36967-13ec-46db-b281-4db9122e4a67",
   "metadata": {},
   "outputs": [],
   "source": [
    "# Importação das bibliotecas \n",
    "\n",
    "!pip install pandas\n",
    "!pip install kaggle\n",
    "!pip install mitosheet"
   ]
  },
  {
   "cell_type": "code",
   "execution_count": 63,
   "id": "ae9c81c8-1dcc-42ff-80b3-d7b8b3ffa7b7",
   "metadata": {},
   "outputs": [],
   "source": [
    "# KAGGLE DATASET DOWNLOAD\n",
    "\n",
    "import kaggle\n",
    "import mitosheet\n",
    "import pandas as pd\n",
    " \n",
    "from kaggle.api.kaggle_api_extended import KaggleApi\n",
    "\n",
    "api = KaggleApi()\n",
    "api.authenticate()\n",
    "\n",
    "api.dataset_download_file('ramirobentes/flights-in-brazil',file_name='BrFlights2.csv')\n",
    "\n",
    "df = pd.read_csv('BrFlights2.csv', encoding = 'latin1')"
   ]
  },
  {
   "cell_type": "code",
   "execution_count": 64,
   "id": "788fb1bf-5d63-40aa-857a-4ed94154f98e",
   "metadata": {},
   "outputs": [
    {
     "data": {
      "text/html": [
       "<div>\n",
       "<style scoped>\n",
       "    .dataframe tbody tr th:only-of-type {\n",
       "        vertical-align: middle;\n",
       "    }\n",
       "\n",
       "    .dataframe tbody tr th {\n",
       "        vertical-align: top;\n",
       "    }\n",
       "\n",
       "    .dataframe thead th {\n",
       "        text-align: right;\n",
       "    }\n",
       "</style>\n",
       "<table border=\"1\" class=\"dataframe\">\n",
       "  <thead>\n",
       "    <tr style=\"text-align: right;\">\n",
       "      <th></th>\n",
       "      <th>Voos</th>\n",
       "      <th>Companhia.Aerea</th>\n",
       "      <th>Codigo.Tipo.Linha</th>\n",
       "      <th>Partida.Prevista</th>\n",
       "      <th>Partida.Real</th>\n",
       "      <th>Chegada.Prevista</th>\n",
       "      <th>Chegada.Real</th>\n",
       "      <th>Situacao.Voo</th>\n",
       "      <th>Codigo.Justificativa</th>\n",
       "      <th>Aeroporto.Origem</th>\n",
       "      <th>...</th>\n",
       "      <th>Estado.Origem</th>\n",
       "      <th>Pais.Origem</th>\n",
       "      <th>Aeroporto.Destino</th>\n",
       "      <th>Cidade.Destino</th>\n",
       "      <th>Estado.Destino</th>\n",
       "      <th>Pais.Destino</th>\n",
       "      <th>LongDest</th>\n",
       "      <th>LatDest</th>\n",
       "      <th>LongOrig</th>\n",
       "      <th>LatOrig</th>\n",
       "    </tr>\n",
       "  </thead>\n",
       "  <tbody>\n",
       "    <tr>\n",
       "      <th>0</th>\n",
       "      <td>AAL - 203</td>\n",
       "      <td>AMERICAN AIRLINES INC</td>\n",
       "      <td>Internacional</td>\n",
       "      <td>2016-01-30T08:58:00Z</td>\n",
       "      <td>2016-01-30T08:58:00Z</td>\n",
       "      <td>2016-01-30T10:35:00Z</td>\n",
       "      <td>2016-01-30T10:35:00Z</td>\n",
       "      <td>Realizado</td>\n",
       "      <td>NaN</td>\n",
       "      <td>Afonso Pena</td>\n",
       "      <td>...</td>\n",
       "      <td>PR</td>\n",
       "      <td>Brasil</td>\n",
       "      <td>Salgado Filho</td>\n",
       "      <td>Porto Alegre</td>\n",
       "      <td>RS</td>\n",
       "      <td>Brasil</td>\n",
       "      <td>-51.175381</td>\n",
       "      <td>-29.993473</td>\n",
       "      <td>-49.172481</td>\n",
       "      <td>-25.532713</td>\n",
       "    </tr>\n",
       "    <tr>\n",
       "      <th>1</th>\n",
       "      <td>AAL - 203</td>\n",
       "      <td>AMERICAN AIRLINES INC</td>\n",
       "      <td>Internacional</td>\n",
       "      <td>2016-01-13T12:13:00Z</td>\n",
       "      <td>2016-01-13T12:13:00Z</td>\n",
       "      <td>2016-01-13T21:30:00Z</td>\n",
       "      <td>2016-01-13T21:30:00Z</td>\n",
       "      <td>Realizado</td>\n",
       "      <td>NaN</td>\n",
       "      <td>Salgado Filho</td>\n",
       "      <td>...</td>\n",
       "      <td>RS</td>\n",
       "      <td>Brasil</td>\n",
       "      <td>Miami</td>\n",
       "      <td>Miami</td>\n",
       "      <td>N/I</td>\n",
       "      <td>Estados Unidos</td>\n",
       "      <td>-80.287046</td>\n",
       "      <td>25.795865</td>\n",
       "      <td>-51.175381</td>\n",
       "      <td>-29.993473</td>\n",
       "    </tr>\n",
       "    <tr>\n",
       "      <th>2</th>\n",
       "      <td>AAL - 203</td>\n",
       "      <td>AMERICAN AIRLINES INC</td>\n",
       "      <td>Internacional</td>\n",
       "      <td>2016-01-29T12:13:00Z</td>\n",
       "      <td>2016-01-29T12:13:00Z</td>\n",
       "      <td>2016-01-29T21:30:00Z</td>\n",
       "      <td>2016-01-29T21:30:00Z</td>\n",
       "      <td>Realizado</td>\n",
       "      <td>NaN</td>\n",
       "      <td>Salgado Filho</td>\n",
       "      <td>...</td>\n",
       "      <td>RS</td>\n",
       "      <td>Brasil</td>\n",
       "      <td>Miami</td>\n",
       "      <td>Miami</td>\n",
       "      <td>N/I</td>\n",
       "      <td>Estados Unidos</td>\n",
       "      <td>-80.287046</td>\n",
       "      <td>25.795865</td>\n",
       "      <td>-51.175381</td>\n",
       "      <td>-29.993473</td>\n",
       "    </tr>\n",
       "    <tr>\n",
       "      <th>3</th>\n",
       "      <td>AAL - 203</td>\n",
       "      <td>AMERICAN AIRLINES INC</td>\n",
       "      <td>Internacional</td>\n",
       "      <td>2016-01-19T12:13:00Z</td>\n",
       "      <td>2016-01-18T12:03:00Z</td>\n",
       "      <td>2016-01-19T21:30:00Z</td>\n",
       "      <td>2016-01-18T20:41:00Z</td>\n",
       "      <td>Realizado</td>\n",
       "      <td>LIBERACAO SERV. TRAFEGO AEREO/ANTECIPACAO</td>\n",
       "      <td>Salgado Filho</td>\n",
       "      <td>...</td>\n",
       "      <td>RS</td>\n",
       "      <td>Brasil</td>\n",
       "      <td>Miami</td>\n",
       "      <td>Miami</td>\n",
       "      <td>N/I</td>\n",
       "      <td>Estados Unidos</td>\n",
       "      <td>-80.287046</td>\n",
       "      <td>25.795865</td>\n",
       "      <td>-51.175381</td>\n",
       "      <td>-29.993473</td>\n",
       "    </tr>\n",
       "    <tr>\n",
       "      <th>4</th>\n",
       "      <td>AAL - 203</td>\n",
       "      <td>AMERICAN AIRLINES INC</td>\n",
       "      <td>Internacional</td>\n",
       "      <td>2016-01-30T12:13:00Z</td>\n",
       "      <td>2016-01-30T12:13:00Z</td>\n",
       "      <td>2016-01-30T21:30:00Z</td>\n",
       "      <td>2016-01-30T21:30:00Z</td>\n",
       "      <td>Realizado</td>\n",
       "      <td>NaN</td>\n",
       "      <td>Salgado Filho</td>\n",
       "      <td>...</td>\n",
       "      <td>RS</td>\n",
       "      <td>Brasil</td>\n",
       "      <td>Miami</td>\n",
       "      <td>Miami</td>\n",
       "      <td>N/I</td>\n",
       "      <td>Estados Unidos</td>\n",
       "      <td>-80.287046</td>\n",
       "      <td>25.795865</td>\n",
       "      <td>-51.175381</td>\n",
       "      <td>-29.993473</td>\n",
       "    </tr>\n",
       "  </tbody>\n",
       "</table>\n",
       "<p>5 rows × 21 columns</p>\n",
       "</div>"
      ],
      "text/plain": [
       "        Voos        Companhia.Aerea Codigo.Tipo.Linha      Partida.Prevista  \\\n",
       "0  AAL - 203  AMERICAN AIRLINES INC     Internacional  2016-01-30T08:58:00Z   \n",
       "1  AAL - 203  AMERICAN AIRLINES INC     Internacional  2016-01-13T12:13:00Z   \n",
       "2  AAL - 203  AMERICAN AIRLINES INC     Internacional  2016-01-29T12:13:00Z   \n",
       "3  AAL - 203  AMERICAN AIRLINES INC     Internacional  2016-01-19T12:13:00Z   \n",
       "4  AAL - 203  AMERICAN AIRLINES INC     Internacional  2016-01-30T12:13:00Z   \n",
       "\n",
       "           Partida.Real      Chegada.Prevista          Chegada.Real  \\\n",
       "0  2016-01-30T08:58:00Z  2016-01-30T10:35:00Z  2016-01-30T10:35:00Z   \n",
       "1  2016-01-13T12:13:00Z  2016-01-13T21:30:00Z  2016-01-13T21:30:00Z   \n",
       "2  2016-01-29T12:13:00Z  2016-01-29T21:30:00Z  2016-01-29T21:30:00Z   \n",
       "3  2016-01-18T12:03:00Z  2016-01-19T21:30:00Z  2016-01-18T20:41:00Z   \n",
       "4  2016-01-30T12:13:00Z  2016-01-30T21:30:00Z  2016-01-30T21:30:00Z   \n",
       "\n",
       "  Situacao.Voo                       Codigo.Justificativa Aeroporto.Origem  \\\n",
       "0    Realizado                                        NaN      Afonso Pena   \n",
       "1    Realizado                                        NaN    Salgado Filho   \n",
       "2    Realizado                                        NaN    Salgado Filho   \n",
       "3    Realizado  LIBERACAO SERV. TRAFEGO AEREO/ANTECIPACAO    Salgado Filho   \n",
       "4    Realizado                                        NaN    Salgado Filho   \n",
       "\n",
       "   ... Estado.Origem Pais.Origem Aeroporto.Destino Cidade.Destino  \\\n",
       "0  ...            PR      Brasil     Salgado Filho   Porto Alegre   \n",
       "1  ...            RS      Brasil             Miami          Miami   \n",
       "2  ...            RS      Brasil             Miami          Miami   \n",
       "3  ...            RS      Brasil             Miami          Miami   \n",
       "4  ...            RS      Brasil             Miami          Miami   \n",
       "\n",
       "  Estado.Destino    Pais.Destino   LongDest    LatDest   LongOrig    LatOrig  \n",
       "0             RS          Brasil -51.175381 -29.993473 -49.172481 -25.532713  \n",
       "1            N/I  Estados Unidos -80.287046  25.795865 -51.175381 -29.993473  \n",
       "2            N/I  Estados Unidos -80.287046  25.795865 -51.175381 -29.993473  \n",
       "3            N/I  Estados Unidos -80.287046  25.795865 -51.175381 -29.993473  \n",
       "4            N/I  Estados Unidos -80.287046  25.795865 -51.175381 -29.993473  \n",
       "\n",
       "[5 rows x 21 columns]"
      ]
     },
     "execution_count": 64,
     "metadata": {},
     "output_type": "execute_result"
    }
   ],
   "source": [
    "df.head()"
   ]
  },
  {
   "cell_type": "code",
   "execution_count": 65,
   "id": "49fad419-9530-4a98-82bb-3f5f8bd4178f",
   "metadata": {},
   "outputs": [],
   "source": [
    "# Deleted column LatOrig from df\n",
    "df.drop(['LatOrig',\n",
    "         'LongOrig',\n",
    "         'LatDest',\n",
    "         'LongDest',\n",
    "         'Pais.Destino',\n",
    "         'Estado.Destino',\n",
    "         'Cidade.Destino',\n",
    "         'Aeroporto.Destino',\n",
    "         'Pais.Origem',\n",
    "         'Estado.Origem',\n",
    "         'Cidade.Origem',\n",
    "         'Aeroporto.Origem',\n",
    "         'Codigo.Justificativa',\n",
    "        # 'Partida.Prevista',\n",
    "        # 'Partida.Real',\n",
    "        # 'Chegada.Prevista',\n",
    "         'Voos'],\n",
    "         axis=1, inplace=True)\n",
    "\n",
    "# Filtered Situacao.Voo in df\n",
    "df = df[df['Situacao.Voo'] == 'Realizado']"
   ]
  },
  {
   "cell_type": "code",
   "execution_count": 66,
   "id": "f3e89abd-fa32-46ab-915d-899f7da97c1c",
   "metadata": {},
   "outputs": [
    {
     "data": {
      "text/html": [
       "<div>\n",
       "<style scoped>\n",
       "    .dataframe tbody tr th:only-of-type {\n",
       "        vertical-align: middle;\n",
       "    }\n",
       "\n",
       "    .dataframe tbody tr th {\n",
       "        vertical-align: top;\n",
       "    }\n",
       "\n",
       "    .dataframe thead th {\n",
       "        text-align: right;\n",
       "    }\n",
       "</style>\n",
       "<table border=\"1\" class=\"dataframe\">\n",
       "  <thead>\n",
       "    <tr style=\"text-align: right;\">\n",
       "      <th></th>\n",
       "      <th>Companhia.Aerea</th>\n",
       "      <th>Codigo.Tipo.Linha</th>\n",
       "      <th>Partida.Prevista</th>\n",
       "      <th>Partida.Real</th>\n",
       "      <th>Chegada.Prevista</th>\n",
       "      <th>Chegada.Real</th>\n",
       "      <th>Situacao.Voo</th>\n",
       "    </tr>\n",
       "  </thead>\n",
       "  <tbody>\n",
       "    <tr>\n",
       "      <th>0</th>\n",
       "      <td>AMERICAN AIRLINES INC</td>\n",
       "      <td>Internacional</td>\n",
       "      <td>2016-01-30T08:58:00Z</td>\n",
       "      <td>2016-01-30T08:58:00Z</td>\n",
       "      <td>2016-01-30T10:35:00Z</td>\n",
       "      <td>2016-01-30T10:35:00Z</td>\n",
       "      <td>Realizado</td>\n",
       "    </tr>\n",
       "    <tr>\n",
       "      <th>1</th>\n",
       "      <td>AMERICAN AIRLINES INC</td>\n",
       "      <td>Internacional</td>\n",
       "      <td>2016-01-13T12:13:00Z</td>\n",
       "      <td>2016-01-13T12:13:00Z</td>\n",
       "      <td>2016-01-13T21:30:00Z</td>\n",
       "      <td>2016-01-13T21:30:00Z</td>\n",
       "      <td>Realizado</td>\n",
       "    </tr>\n",
       "    <tr>\n",
       "      <th>2</th>\n",
       "      <td>AMERICAN AIRLINES INC</td>\n",
       "      <td>Internacional</td>\n",
       "      <td>2016-01-29T12:13:00Z</td>\n",
       "      <td>2016-01-29T12:13:00Z</td>\n",
       "      <td>2016-01-29T21:30:00Z</td>\n",
       "      <td>2016-01-29T21:30:00Z</td>\n",
       "      <td>Realizado</td>\n",
       "    </tr>\n",
       "    <tr>\n",
       "      <th>3</th>\n",
       "      <td>AMERICAN AIRLINES INC</td>\n",
       "      <td>Internacional</td>\n",
       "      <td>2016-01-19T12:13:00Z</td>\n",
       "      <td>2016-01-18T12:03:00Z</td>\n",
       "      <td>2016-01-19T21:30:00Z</td>\n",
       "      <td>2016-01-18T20:41:00Z</td>\n",
       "      <td>Realizado</td>\n",
       "    </tr>\n",
       "    <tr>\n",
       "      <th>4</th>\n",
       "      <td>AMERICAN AIRLINES INC</td>\n",
       "      <td>Internacional</td>\n",
       "      <td>2016-01-30T12:13:00Z</td>\n",
       "      <td>2016-01-30T12:13:00Z</td>\n",
       "      <td>2016-01-30T21:30:00Z</td>\n",
       "      <td>2016-01-30T21:30:00Z</td>\n",
       "      <td>Realizado</td>\n",
       "    </tr>\n",
       "  </tbody>\n",
       "</table>\n",
       "</div>"
      ],
      "text/plain": [
       "         Companhia.Aerea Codigo.Tipo.Linha      Partida.Prevista  \\\n",
       "0  AMERICAN AIRLINES INC     Internacional  2016-01-30T08:58:00Z   \n",
       "1  AMERICAN AIRLINES INC     Internacional  2016-01-13T12:13:00Z   \n",
       "2  AMERICAN AIRLINES INC     Internacional  2016-01-29T12:13:00Z   \n",
       "3  AMERICAN AIRLINES INC     Internacional  2016-01-19T12:13:00Z   \n",
       "4  AMERICAN AIRLINES INC     Internacional  2016-01-30T12:13:00Z   \n",
       "\n",
       "           Partida.Real      Chegada.Prevista          Chegada.Real  \\\n",
       "0  2016-01-30T08:58:00Z  2016-01-30T10:35:00Z  2016-01-30T10:35:00Z   \n",
       "1  2016-01-13T12:13:00Z  2016-01-13T21:30:00Z  2016-01-13T21:30:00Z   \n",
       "2  2016-01-29T12:13:00Z  2016-01-29T21:30:00Z  2016-01-29T21:30:00Z   \n",
       "3  2016-01-18T12:03:00Z  2016-01-19T21:30:00Z  2016-01-18T20:41:00Z   \n",
       "4  2016-01-30T12:13:00Z  2016-01-30T21:30:00Z  2016-01-30T21:30:00Z   \n",
       "\n",
       "  Situacao.Voo  \n",
       "0    Realizado  \n",
       "1    Realizado  \n",
       "2    Realizado  \n",
       "3    Realizado  \n",
       "4    Realizado  "
      ]
     },
     "execution_count": 66,
     "metadata": {},
     "output_type": "execute_result"
    }
   ],
   "source": [
    "df[:5]"
   ]
  },
  {
   "cell_type": "code",
   "execution_count": 91,
   "id": "1c395682-a51f-497f-b473-da014149a4c6",
   "metadata": {},
   "outputs": [
    {
     "data": {
      "text/html": [
       "<div>\n",
       "<style scoped>\n",
       "    .dataframe tbody tr th:only-of-type {\n",
       "        vertical-align: middle;\n",
       "    }\n",
       "\n",
       "    .dataframe tbody tr th {\n",
       "        vertical-align: top;\n",
       "    }\n",
       "\n",
       "    .dataframe thead th {\n",
       "        text-align: right;\n",
       "    }\n",
       "</style>\n",
       "<table border=\"1\" class=\"dataframe\">\n",
       "  <thead>\n",
       "    <tr style=\"text-align: right;\">\n",
       "      <th></th>\n",
       "      <th>Companhia.Aerea</th>\n",
       "      <th>Codigo.Tipo.Linha</th>\n",
       "      <th>Data.Completa</th>\n",
       "      <th>Ano</th>\n",
       "      <th>Mes</th>\n",
       "    </tr>\n",
       "  </thead>\n",
       "  <tbody>\n",
       "    <tr>\n",
       "      <th>0</th>\n",
       "      <td>AMERICAN AIRLINES INC</td>\n",
       "      <td>Internacional</td>\n",
       "      <td>2016-01-30</td>\n",
       "      <td>2016</td>\n",
       "      <td>1</td>\n",
       "    </tr>\n",
       "    <tr>\n",
       "      <th>1</th>\n",
       "      <td>AMERICAN AIRLINES INC</td>\n",
       "      <td>Internacional</td>\n",
       "      <td>2016-01-13</td>\n",
       "      <td>2016</td>\n",
       "      <td>1</td>\n",
       "    </tr>\n",
       "    <tr>\n",
       "      <th>2</th>\n",
       "      <td>AMERICAN AIRLINES INC</td>\n",
       "      <td>Internacional</td>\n",
       "      <td>2016-01-29</td>\n",
       "      <td>2016</td>\n",
       "      <td>1</td>\n",
       "    </tr>\n",
       "    <tr>\n",
       "      <th>3</th>\n",
       "      <td>AMERICAN AIRLINES INC</td>\n",
       "      <td>Internacional</td>\n",
       "      <td>2016-01-18</td>\n",
       "      <td>2016</td>\n",
       "      <td>1</td>\n",
       "    </tr>\n",
       "    <tr>\n",
       "      <th>4</th>\n",
       "      <td>AMERICAN AIRLINES INC</td>\n",
       "      <td>Internacional</td>\n",
       "      <td>2016-01-30</td>\n",
       "      <td>2016</td>\n",
       "      <td>1</td>\n",
       "    </tr>\n",
       "  </tbody>\n",
       "</table>\n",
       "</div>"
      ],
      "text/plain": [
       "         Companhia.Aerea Codigo.Tipo.Linha Data.Completa   Ano  Mes\n",
       "0  AMERICAN AIRLINES INC     Internacional    2016-01-30  2016    1\n",
       "1  AMERICAN AIRLINES INC     Internacional    2016-01-13  2016    1\n",
       "2  AMERICAN AIRLINES INC     Internacional    2016-01-29  2016    1\n",
       "3  AMERICAN AIRLINES INC     Internacional    2016-01-18  2016    1\n",
       "4  AMERICAN AIRLINES INC     Internacional    2016-01-30  2016    1"
      ]
     },
     "execution_count": 91,
     "metadata": {},
     "output_type": "execute_result"
    }
   ],
   "source": [
    "Data = pd.to_datetime(df['Chegada.Real']).dt.date\n",
    "Ano = pd.to_datetime(df['Chegada.Real']).dt.year\n",
    "Mes = pd.to_datetime(df['Chegada.Real']).dt.month\n",
    "\n",
    "# df.rename(columns={\"A\": \"a\", \"B\": \"c\"},axis='columns')\n",
    "df1 = pd.DataFrame({'Companhia.Aerea': df['Companhia.Aerea'],'Codigo.Tipo.Linha': df['Codigo.Tipo.Linha'], 'Data.Completa': Data, 'Ano': Ano, 'Mes': Mes})\n",
    "df1.head()"
   ]
  },
  {
   "cell_type": "code",
   "execution_count": 92,
   "id": "bb38f88c-639e-4011-879c-daf90ad92707",
   "metadata": {},
   "outputs": [
    {
     "name": "stdout",
     "output_type": "stream",
     "text": [
      "2\n"
     ]
    }
   ],
   "source": [
    "print(df1['Mes'][95404])"
   ]
  },
  {
   "cell_type": "code",
   "execution_count": 93,
   "id": "71e969f2-2167-4c3a-afb6-6761ab4f4fa2",
   "metadata": {},
   "outputs": [
    {
     "data": {
      "text/plain": [
       "array(['AMERICAN AIRLINES INC', 'AIR CANADA', 'AIR EUROPA S/A',\n",
       "       'AIR FRANCE', 'AIRES - LAN COLOMBIA', 'AEROLINEAS ARGENTINAS',\n",
       "       'AUSTRAL LINEAS A\\x90REAS CIELOS DEL SUR S.A', 'AVIANCA',\n",
       "       'ALITALIA', 'AZUL', 'BRITISH AIRWAYS PLC', 'BOLIVIANA DE AVIACION',\n",
       "       'AIR CHINA', 'CONDOR FLUGDINST',\n",
       "       'COPA -COMPANIA PANAMENA DE AVIACION', 'DELTA AIRLINES',\n",
       "       'LUFTHANSA', 'LAN ARGENTINA S/A', 'TAAG LINHAS AEREAS DE ANGOLA',\n",
       "       'ETIHAD', 'ETHIOPIAN', 'GOL', 'IBERIA', 'INSELAIR', 'MERIDIANA',\n",
       "       'KOREAN AIRLINES', 'KLM ROYAL DUTCH AIRLINES', 'LAN CHILE',\n",
       "       'TAM TRANSP. AR. DEL. MERCOS', 'LAN PERU S/A', 'AVIANCA BRASIL',\n",
       "       'MAP LINHAS AEREAS', 'PASSAREDO', 'QATAR AIRWAYS',\n",
       "       'ROYAL AIR MAROC', 'SOUTH µFRICAN AIRWAYS', 'SINGAPORE AIRLINES',\n",
       "       'SURINAM AIRWAYS', 'SWISSAIR', 'NAO INFORMADO', 'TAM',\n",
       "       'TAP AIR PORTUGAL',\n",
       "       'EMPRESA DE TRANSPORTES AEREOS DE CABO VERDE S.A.',\n",
       "       'TURKISH AIRLINES INC.', 'TRASAMERICA  AIRLINES-TACAPERU', 'TOTAL',\n",
       "       'EMIRATES', 'UNITED AIRLINES', 'FLYWAYS', 'EDELWEISS',\n",
       "       'LINEAS AE.COSTARRICENCES S/A', 'SETE', 'US AIRWAYS INC.', 'TRIP',\n",
       "       'AEROMEXICO'], dtype=object)"
      ]
     },
     "execution_count": 93,
     "metadata": {},
     "output_type": "execute_result"
    }
   ],
   "source": [
    "df1['Companhia.Aerea'].unique()"
   ]
  },
  {
   "cell_type": "code",
   "execution_count": 94,
   "id": "b7a59a3c-ddde-4ca0-95cb-76702c025d4e",
   "metadata": {},
   "outputs": [
    {
     "data": {
      "text/plain": [
       "Nacional         1607202\n",
       "Regional          339077\n",
       "Internacional     307044\n",
       "Name: Codigo.Tipo.Linha, dtype: int64"
      ]
     },
     "execution_count": 94,
     "metadata": {},
     "output_type": "execute_result"
    }
   ],
   "source": [
    "df1['Codigo.Tipo.Linha'].value_counts()"
   ]
  },
  {
   "cell_type": "code",
   "execution_count": 95,
   "id": "8642c9b6-fddf-41b0-96ce-e5acf068931d",
   "metadata": {},
   "outputs": [
    {
     "data": {
      "text/html": [
       "<div>\n",
       "<style scoped>\n",
       "    .dataframe tbody tr th:only-of-type {\n",
       "        vertical-align: middle;\n",
       "    }\n",
       "\n",
       "    .dataframe tbody tr th {\n",
       "        vertical-align: top;\n",
       "    }\n",
       "\n",
       "    .dataframe thead th {\n",
       "        text-align: right;\n",
       "    }\n",
       "</style>\n",
       "<table border=\"1\" class=\"dataframe\">\n",
       "  <thead>\n",
       "    <tr style=\"text-align: right;\">\n",
       "      <th></th>\n",
       "      <th>Companhia.Aerea</th>\n",
       "      <th>Codigo.Tipo.Linha</th>\n",
       "      <th>Ano</th>\n",
       "      <th>Mes</th>\n",
       "    </tr>\n",
       "  </thead>\n",
       "  <tbody>\n",
       "    <tr>\n",
       "      <th>90745</th>\n",
       "      <td>AMERICAN AIRLINES INC</td>\n",
       "      <td>Internacional</td>\n",
       "      <td>2016</td>\n",
       "      <td>3</td>\n",
       "    </tr>\n",
       "    <tr>\n",
       "      <th>90774</th>\n",
       "      <td>AMERICAN AIRLINES INC</td>\n",
       "      <td>Internacional</td>\n",
       "      <td>2016</td>\n",
       "      <td>3</td>\n",
       "    </tr>\n",
       "    <tr>\n",
       "      <th>90788</th>\n",
       "      <td>AMERICAN AIRLINES INC</td>\n",
       "      <td>Internacional</td>\n",
       "      <td>2016</td>\n",
       "      <td>3</td>\n",
       "    </tr>\n",
       "    <tr>\n",
       "      <th>90822</th>\n",
       "      <td>AMERICAN AIRLINES INC</td>\n",
       "      <td>Internacional</td>\n",
       "      <td>2016</td>\n",
       "      <td>3</td>\n",
       "    </tr>\n",
       "    <tr>\n",
       "      <th>90876</th>\n",
       "      <td>AMERICAN AIRLINES INC</td>\n",
       "      <td>Internacional</td>\n",
       "      <td>2016</td>\n",
       "      <td>3</td>\n",
       "    </tr>\n",
       "  </tbody>\n",
       "</table>\n",
       "</div>"
      ],
      "text/plain": [
       "             Companhia.Aerea Codigo.Tipo.Linha   Ano  Mes\n",
       "90745  AMERICAN AIRLINES INC     Internacional  2016    3\n",
       "90774  AMERICAN AIRLINES INC     Internacional  2016    3\n",
       "90788  AMERICAN AIRLINES INC     Internacional  2016    3\n",
       "90822  AMERICAN AIRLINES INC     Internacional  2016    3\n",
       "90876  AMERICAN AIRLINES INC     Internacional  2016    3"
      ]
     },
     "execution_count": 95,
     "metadata": {},
     "output_type": "execute_result"
    }
   ],
   "source": [
    "# df1['Mes'] = df1['Mes'].map(lambda x: str(x)[:-2])\n",
    "# df1['Ano'] = df1['Ano'].map(lambda x: str(x)[:-2])\n",
    "\n",
    "df1 = df1.loc[df1['Mes'] == 3]\n",
    "df1.drop(['Data.Completa'], axis=1, inplace=True)\n",
    "\n",
    "df1[:5]"
   ]
  },
  {
   "cell_type": "code",
   "execution_count": 96,
   "id": "bb2aa151-4391-4b5a-80e3-3b75383d9fd1",
   "metadata": {},
   "outputs": [
    {
     "data": {
      "text/plain": [
       "Nacional         157978\n",
       "Regional          34336\n",
       "Internacional     29348\n",
       "Name: Codigo.Tipo.Linha, dtype: int64"
      ]
     },
     "execution_count": 96,
     "metadata": {},
     "output_type": "execute_result"
    }
   ],
   "source": [
    "df1['Codigo.Tipo.Linha'].value_counts()"
   ]
  },
  {
   "cell_type": "code",
   "execution_count": 26,
   "id": "deba748f-a653-4e99-8f18-01fb5a1a6e54",
   "metadata": {},
   "outputs": [
    {
     "data": {
      "text/plain": [
       "Nacional         1780319\n",
       "Regional          441240\n",
       "Internacional     320960\n",
       "Name: Codigo.Tipo.Linha, dtype: int64"
      ]
     },
     "execution_count": 26,
     "metadata": {},
     "output_type": "execute_result"
    }
   ],
   "source": [
    "df1['Codigo.Tipo.Linha'].value_counts()"
   ]
  },
  {
   "cell_type": "code",
   "execution_count": 97,
   "id": "e316e2bf-b26f-426f-a0b6-063264f2ef23",
   "metadata": {},
   "outputs": [
    {
     "data": {
      "text/plain": [
       "2015    80407\n",
       "2017    72019\n",
       "2016    69236\n",
       "Name: Ano, dtype: int64"
      ]
     },
     "execution_count": 97,
     "metadata": {},
     "output_type": "execute_result"
    }
   ],
   "source": [
    "df1['Ano'].value_counts()"
   ]
  },
  {
   "cell_type": "code",
   "execution_count": 98,
   "id": "754ca278-2da3-4260-8a87-4762be5248d4",
   "metadata": {},
   "outputs": [
    {
     "data": {
      "text/plain": [
       "AZUL                                                66049\n",
       "GOL                                                 61537\n",
       "TAM                                                 49850\n",
       "AVIANCA BRASIL                                      17245\n",
       "PASSAREDO                                            5664\n",
       "AMERICAN AIRLINES INC                                2145\n",
       "COPA -COMPANIA PANAMENA DE AVIACION                  2004\n",
       "AEROLINEAS ARGENTINAS                                1576\n",
       "TAP AIR PORTUGAL                                     1550\n",
       "MAP LINHAS AEREAS                                    1248\n",
       "LAN CHILE                                             931\n",
       "DELTA AIRLINES                                        898\n",
       "UNITED AIRLINES                                       872\n",
       "AUSTRAL LINEAS AREAS CIELOS DEL SUR S.A              786\n",
       "AIR FRANCE                                            602\n",
       "AVIANCA                                               556\n",
       "TRASAMERICA  AIRLINES-TACAPERU                        553\n",
       "SETE                                                  548\n",
       "EMIRATES                                              542\n",
       "LUFTHANSA                                             445\n",
       "IBERIA                                                385\n",
       "BRITISH AIRWAYS PLC                                   369\n",
       "ALITALIA                                              361\n",
       "LAN PERU S/A                                          353\n",
       "TURKISH AIRLINES INC.                                 331\n",
       "QATAR AIRWAYS                                         322\n",
       "TAM TRANSP. AR. DEL. MERCOS                           319\n",
       "KLM ROYAL DUTCH AIRLINES                              317\n",
       "LAN ARGENTINA S/A                                     309\n",
       "SOUTH µFRICAN AIRWAYS                                 252\n",
       "AIR EUROPA S/A                                        249\n",
       "AIR CANADA                                            239\n",
       "AEROMEXICO                                            225\n",
       "BOLIVIANA DE AVIACION                                 212\n",
       "SWISSAIR                                              206\n",
       "ETIHAD                                                187\n",
       "TAAG LINHAS AEREAS DE ANGOLA                          182\n",
       "NAO INFORMADO                                         160\n",
       "AIRES - LAN COLOMBIA                                  120\n",
       "TOTAL                                                 108\n",
       "CONDOR FLUGDINST                                       94\n",
       "SURINAM AIRWAYS                                        92\n",
       "FLYWAYS                                                91\n",
       "KOREAN AIRLINES                                        89\n",
       "EMPRESA DE TRANSPORTES AEREOS DE CABO VERDE S.A.       89\n",
       "ETHIOPIAN                                              82\n",
       "ROYAL AIR MAROC                                        79\n",
       "US AIRWAYS INC.                                        62\n",
       "AIR CHINA                                              53\n",
       "SINGAPORE AIRLINES                                     52\n",
       "MERIDIANA                                              29\n",
       "INSELAIR                                               26\n",
       "EDELWEISS                                              17\n",
       "Name: Companhia.Aerea, dtype: int64"
      ]
     },
     "execution_count": 98,
     "metadata": {},
     "output_type": "execute_result"
    }
   ],
   "source": [
    "df1['Companhia.Aerea'].value_counts()"
   ]
  },
  {
   "cell_type": "code",
   "execution_count": 99,
   "id": "315f0dbe-9f43-48df-824b-2cad0ee04940",
   "metadata": {},
   "outputs": [
    {
     "name": "stdout",
     "output_type": "stream",
     "text": [
      "[('GOL', 'Nacional', 2015, 3), ('AZUL', 'Nacional', 2016, 3), ('AZUL', 'Nacional', 2017, 3), ('GOL', 'Nacional', 2016, 3), ('AZUL', 'Nacional', 2015, 3)]\n",
      "169\n",
      "[21340, 18968, 18440, 16748, 15972]\n",
      "169\n"
     ]
    }
   ],
   "source": [
    "values = df1.value_counts().keys().tolist()\n",
    "counts = df1.value_counts().tolist()\n",
    "\n",
    "print(values[:5])\n",
    "\n",
    "print(len(values))\n",
    "\n",
    "print(counts[:5])\n",
    "\n",
    "print(len(counts))"
   ]
  },
  {
   "cell_type": "code",
   "execution_count": 100,
   "id": "94022228-9870-4554-b65f-93b81b930099",
   "metadata": {},
   "outputs": [
    {
     "data": {
      "text/html": [
       "<div>\n",
       "<style scoped>\n",
       "    .dataframe tbody tr th:only-of-type {\n",
       "        vertical-align: middle;\n",
       "    }\n",
       "\n",
       "    .dataframe tbody tr th {\n",
       "        vertical-align: top;\n",
       "    }\n",
       "\n",
       "    .dataframe thead th {\n",
       "        text-align: right;\n",
       "    }\n",
       "</style>\n",
       "<table border=\"1\" class=\"dataframe\">\n",
       "  <thead>\n",
       "    <tr style=\"text-align: right;\">\n",
       "      <th></th>\n",
       "      <th>Companhia.Aerea</th>\n",
       "      <th>Codigo.Tipo.Linha</th>\n",
       "      <th>Ano</th>\n",
       "      <th>Quantidade</th>\n",
       "    </tr>\n",
       "  </thead>\n",
       "  <tbody>\n",
       "    <tr>\n",
       "      <th>0</th>\n",
       "      <td>GOL</td>\n",
       "      <td>Nacional</td>\n",
       "      <td>2015</td>\n",
       "      <td>21340</td>\n",
       "    </tr>\n",
       "    <tr>\n",
       "      <th>1</th>\n",
       "      <td>AZUL</td>\n",
       "      <td>Nacional</td>\n",
       "      <td>2016</td>\n",
       "      <td>18968</td>\n",
       "    </tr>\n",
       "    <tr>\n",
       "      <th>2</th>\n",
       "      <td>AZUL</td>\n",
       "      <td>Nacional</td>\n",
       "      <td>2017</td>\n",
       "      <td>18440</td>\n",
       "    </tr>\n",
       "    <tr>\n",
       "      <th>3</th>\n",
       "      <td>GOL</td>\n",
       "      <td>Nacional</td>\n",
       "      <td>2016</td>\n",
       "      <td>16748</td>\n",
       "    </tr>\n",
       "    <tr>\n",
       "      <th>4</th>\n",
       "      <td>AZUL</td>\n",
       "      <td>Nacional</td>\n",
       "      <td>2015</td>\n",
       "      <td>15972</td>\n",
       "    </tr>\n",
       "    <tr>\n",
       "      <th>...</th>\n",
       "      <td>...</td>\n",
       "      <td>...</td>\n",
       "      <td>...</td>\n",
       "      <td>...</td>\n",
       "    </tr>\n",
       "    <tr>\n",
       "      <th>164</th>\n",
       "      <td>MERIDIANA</td>\n",
       "      <td>Internacional</td>\n",
       "      <td>2016</td>\n",
       "      <td>14</td>\n",
       "    </tr>\n",
       "    <tr>\n",
       "      <th>165</th>\n",
       "      <td>AVIANCA BRASIL</td>\n",
       "      <td>Internacional</td>\n",
       "      <td>2016</td>\n",
       "      <td>13</td>\n",
       "    </tr>\n",
       "    <tr>\n",
       "      <th>166</th>\n",
       "      <td>AVIANCA BRASIL</td>\n",
       "      <td>Internacional</td>\n",
       "      <td>2015</td>\n",
       "      <td>9</td>\n",
       "    </tr>\n",
       "    <tr>\n",
       "      <th>167</th>\n",
       "      <td>EMPRESA DE TRANSPORTES AEREOS DE CABO VERDE S.A.</td>\n",
       "      <td>Internacional</td>\n",
       "      <td>2015</td>\n",
       "      <td>8</td>\n",
       "    </tr>\n",
       "    <tr>\n",
       "      <th>168</th>\n",
       "      <td>AVIANCA BRASIL</td>\n",
       "      <td>Internacional</td>\n",
       "      <td>2017</td>\n",
       "      <td>8</td>\n",
       "    </tr>\n",
       "  </tbody>\n",
       "</table>\n",
       "<p>169 rows × 4 columns</p>\n",
       "</div>"
      ],
      "text/plain": [
       "                                      Companhia.Aerea Codigo.Tipo.Linha   Ano  \\\n",
       "0                                                 GOL          Nacional  2015   \n",
       "1                                                AZUL          Nacional  2016   \n",
       "2                                                AZUL          Nacional  2017   \n",
       "3                                                 GOL          Nacional  2016   \n",
       "4                                                AZUL          Nacional  2015   \n",
       "..                                                ...               ...   ...   \n",
       "164                                         MERIDIANA     Internacional  2016   \n",
       "165                                    AVIANCA BRASIL     Internacional  2016   \n",
       "166                                    AVIANCA BRASIL     Internacional  2015   \n",
       "167  EMPRESA DE TRANSPORTES AEREOS DE CABO VERDE S.A.     Internacional  2015   \n",
       "168                                    AVIANCA BRASIL     Internacional  2017   \n",
       "\n",
       "     Quantidade  \n",
       "0         21340  \n",
       "1         18968  \n",
       "2         18440  \n",
       "3         16748  \n",
       "4         15972  \n",
       "..          ...  \n",
       "164          14  \n",
       "165          13  \n",
       "166           9  \n",
       "167           8  \n",
       "168           8  \n",
       "\n",
       "[169 rows x 4 columns]"
      ]
     },
     "execution_count": 100,
     "metadata": {},
     "output_type": "execute_result"
    }
   ],
   "source": [
    "flights_df = pd.DataFrame(values,columns = ['Companhia.Aerea','Codigo.Tipo.Linha','Ano','Mes'])\n",
    "\n",
    "flights_df.insert(4, 'Quantidade', counts, True)\n",
    "\n",
    "flights_df.drop('Mes', axis=1, inplace=True)\n",
    "\n",
    "flights_df.groupby(['Companhia.Aerea'])\n",
    "\n",
    "# flights_df = flights_df.sort_values('Ano', ascending=True)\n",
    "\n",
    "# flights_df.groupby(['Companhia.Aerea','Ano','Quantidade'])\n",
    "\n",
    "flights_df\n",
    "\n",
    "# counts.to_excel('company_flights.xlsx', index=False)"
   ]
  },
  {
   "cell_type": "code",
   "execution_count": 101,
   "id": "78f0e1d0-8a35-476a-b408-e556e09fa7b4",
   "metadata": {},
   "outputs": [
    {
     "data": {
      "text/html": [
       "<div>\n",
       "<style scoped>\n",
       "    .dataframe tbody tr th:only-of-type {\n",
       "        vertical-align: middle;\n",
       "    }\n",
       "\n",
       "    .dataframe tbody tr th {\n",
       "        vertical-align: top;\n",
       "    }\n",
       "\n",
       "    .dataframe thead th {\n",
       "        text-align: right;\n",
       "    }\n",
       "</style>\n",
       "<table border=\"1\" class=\"dataframe\">\n",
       "  <thead>\n",
       "    <tr style=\"text-align: right;\">\n",
       "      <th></th>\n",
       "      <th>Companhia.Aerea</th>\n",
       "      <th>Codigo.Tipo.Linha</th>\n",
       "      <th>Ano</th>\n",
       "      <th>Quantidade.total</th>\n",
       "    </tr>\n",
       "  </thead>\n",
       "  <tbody>\n",
       "    <tr>\n",
       "      <th>0</th>\n",
       "      <td>AEROLINEAS ARGENTINAS</td>\n",
       "      <td>Internacional</td>\n",
       "      <td>2015</td>\n",
       "      <td>352</td>\n",
       "    </tr>\n",
       "    <tr>\n",
       "      <th>1</th>\n",
       "      <td>NAO INFORMADO</td>\n",
       "      <td>Internacional</td>\n",
       "      <td>2016</td>\n",
       "      <td>38</td>\n",
       "    </tr>\n",
       "    <tr>\n",
       "      <th>2</th>\n",
       "      <td>MAP LINHAS AEREAS</td>\n",
       "      <td>Nacional</td>\n",
       "      <td>2016</td>\n",
       "      <td>55</td>\n",
       "    </tr>\n",
       "    <tr>\n",
       "      <th>3</th>\n",
       "      <td>MAP LINHAS AEREAS</td>\n",
       "      <td>Nacional</td>\n",
       "      <td>2017</td>\n",
       "      <td>261</td>\n",
       "    </tr>\n",
       "    <tr>\n",
       "      <th>4</th>\n",
       "      <td>MAP LINHAS AEREAS</td>\n",
       "      <td>Regional</td>\n",
       "      <td>2015</td>\n",
       "      <td>401</td>\n",
       "    </tr>\n",
       "    <tr>\n",
       "      <th>...</th>\n",
       "      <td>...</td>\n",
       "      <td>...</td>\n",
       "      <td>...</td>\n",
       "      <td>...</td>\n",
       "    </tr>\n",
       "    <tr>\n",
       "      <th>164</th>\n",
       "      <td>COPA -COMPANIA PANAMENA DE AVIACION</td>\n",
       "      <td>Internacional</td>\n",
       "      <td>2017</td>\n",
       "      <td>667</td>\n",
       "    </tr>\n",
       "    <tr>\n",
       "      <th>165</th>\n",
       "      <td>DELTA AIRLINES</td>\n",
       "      <td>Internacional</td>\n",
       "      <td>2015</td>\n",
       "      <td>364</td>\n",
       "    </tr>\n",
       "    <tr>\n",
       "      <th>166</th>\n",
       "      <td>DELTA AIRLINES</td>\n",
       "      <td>Internacional</td>\n",
       "      <td>2016</td>\n",
       "      <td>262</td>\n",
       "    </tr>\n",
       "    <tr>\n",
       "      <th>167</th>\n",
       "      <td>DELTA AIRLINES</td>\n",
       "      <td>Internacional</td>\n",
       "      <td>2017</td>\n",
       "      <td>272</td>\n",
       "    </tr>\n",
       "    <tr>\n",
       "      <th>168</th>\n",
       "      <td>US AIRWAYS INC.</td>\n",
       "      <td>Internacional</td>\n",
       "      <td>2015</td>\n",
       "      <td>62</td>\n",
       "    </tr>\n",
       "  </tbody>\n",
       "</table>\n",
       "<p>169 rows × 4 columns</p>\n",
       "</div>"
      ],
      "text/plain": [
       "                         Companhia.Aerea Codigo.Tipo.Linha   Ano  \\\n",
       "0                  AEROLINEAS ARGENTINAS     Internacional  2015   \n",
       "1                          NAO INFORMADO     Internacional  2016   \n",
       "2                      MAP LINHAS AEREAS          Nacional  2016   \n",
       "3                      MAP LINHAS AEREAS          Nacional  2017   \n",
       "4                      MAP LINHAS AEREAS          Regional  2015   \n",
       "..                                   ...               ...   ...   \n",
       "164  COPA -COMPANIA PANAMENA DE AVIACION     Internacional  2017   \n",
       "165                       DELTA AIRLINES     Internacional  2015   \n",
       "166                       DELTA AIRLINES     Internacional  2016   \n",
       "167                       DELTA AIRLINES     Internacional  2017   \n",
       "168                      US AIRWAYS INC.     Internacional  2015   \n",
       "\n",
       "     Quantidade.total  \n",
       "0                 352  \n",
       "1                  38  \n",
       "2                  55  \n",
       "3                 261  \n",
       "4                 401  \n",
       "..                ...  \n",
       "164               667  \n",
       "165               364  \n",
       "166               262  \n",
       "167               272  \n",
       "168                62  \n",
       "\n",
       "[169 rows x 4 columns]"
      ]
     },
     "execution_count": 101,
     "metadata": {},
     "output_type": "execute_result"
    }
   ],
   "source": [
    "# df.agg({'A' : ['sum', 'min'], 'B' : ['min', 'max']})\n",
    "\n",
    "grouped = flights_df.groupby(['Companhia.Aerea'])\n",
    "\n",
    "values = flights_df.value_counts().keys().tolist()\n",
    "counts = flights_df.value_counts().tolist()\n",
    "\n",
    "df_final = pd.DataFrame(values,columns = ['Companhia.Aerea','Codigo.Tipo.Linha','Ano','Quantidade.total'])\n",
    "#final_df.to_excel('Base_Voos.xlsx',index=False)\n",
    "\n",
    "df_final"
   ]
  },
  {
   "cell_type": "code",
   "execution_count": 102,
   "id": "0afd7bc1-8b3c-4fe5-a74e-122f6e4b8ddb",
   "metadata": {},
   "outputs": [
    {
     "data": {
      "text/html": [
       "<div>\n",
       "<style scoped>\n",
       "    .dataframe tbody tr th:only-of-type {\n",
       "        vertical-align: middle;\n",
       "    }\n",
       "\n",
       "    .dataframe tbody tr th {\n",
       "        vertical-align: top;\n",
       "    }\n",
       "\n",
       "    .dataframe thead th {\n",
       "        text-align: right;\n",
       "    }\n",
       "</style>\n",
       "<table border=\"1\" class=\"dataframe\">\n",
       "  <thead>\n",
       "    <tr style=\"text-align: right;\">\n",
       "      <th></th>\n",
       "      <th>Companhia.Aerea</th>\n",
       "      <th>Codigo.Tipo.Linha</th>\n",
       "      <th>Ano</th>\n",
       "      <th>Quantidade.total</th>\n",
       "      <th>Prejuizo.anual</th>\n",
       "    </tr>\n",
       "  </thead>\n",
       "  <tbody>\n",
       "    <tr>\n",
       "      <th>0</th>\n",
       "      <td>AEROLINEAS ARGENTINAS</td>\n",
       "      <td>Internacional</td>\n",
       "      <td>2015</td>\n",
       "      <td>352</td>\n",
       "      <td>228228000</td>\n",
       "    </tr>\n",
       "    <tr>\n",
       "      <th>1</th>\n",
       "      <td>NAO INFORMADO</td>\n",
       "      <td>Internacional</td>\n",
       "      <td>2016</td>\n",
       "      <td>38</td>\n",
       "      <td>24638250</td>\n",
       "    </tr>\n",
       "    <tr>\n",
       "      <th>2</th>\n",
       "      <td>MAP LINHAS AEREAS</td>\n",
       "      <td>Nacional</td>\n",
       "      <td>2016</td>\n",
       "      <td>55</td>\n",
       "      <td>8229375</td>\n",
       "    </tr>\n",
       "    <tr>\n",
       "      <th>3</th>\n",
       "      <td>MAP LINHAS AEREAS</td>\n",
       "      <td>Nacional</td>\n",
       "      <td>2017</td>\n",
       "      <td>261</td>\n",
       "      <td>39052125</td>\n",
       "    </tr>\n",
       "    <tr>\n",
       "      <th>4</th>\n",
       "      <td>MAP LINHAS AEREAS</td>\n",
       "      <td>Regional</td>\n",
       "      <td>2015</td>\n",
       "      <td>401</td>\n",
       "      <td>33894525</td>\n",
       "    </tr>\n",
       "    <tr>\n",
       "      <th>...</th>\n",
       "      <td>...</td>\n",
       "      <td>...</td>\n",
       "      <td>...</td>\n",
       "      <td>...</td>\n",
       "      <td>...</td>\n",
       "    </tr>\n",
       "    <tr>\n",
       "      <th>164</th>\n",
       "      <td>COPA -COMPANIA PANAMENA DE AVIACION</td>\n",
       "      <td>Internacional</td>\n",
       "      <td>2017</td>\n",
       "      <td>667</td>\n",
       "      <td>432466125</td>\n",
       "    </tr>\n",
       "    <tr>\n",
       "      <th>165</th>\n",
       "      <td>DELTA AIRLINES</td>\n",
       "      <td>Internacional</td>\n",
       "      <td>2015</td>\n",
       "      <td>364</td>\n",
       "      <td>236008500</td>\n",
       "    </tr>\n",
       "    <tr>\n",
       "      <th>166</th>\n",
       "      <td>DELTA AIRLINES</td>\n",
       "      <td>Internacional</td>\n",
       "      <td>2016</td>\n",
       "      <td>262</td>\n",
       "      <td>169874250</td>\n",
       "    </tr>\n",
       "    <tr>\n",
       "      <th>167</th>\n",
       "      <td>DELTA AIRLINES</td>\n",
       "      <td>Internacional</td>\n",
       "      <td>2017</td>\n",
       "      <td>272</td>\n",
       "      <td>176358000</td>\n",
       "    </tr>\n",
       "    <tr>\n",
       "      <th>168</th>\n",
       "      <td>US AIRWAYS INC.</td>\n",
       "      <td>Internacional</td>\n",
       "      <td>2015</td>\n",
       "      <td>62</td>\n",
       "      <td>40199250</td>\n",
       "    </tr>\n",
       "  </tbody>\n",
       "</table>\n",
       "<p>169 rows × 5 columns</p>\n",
       "</div>"
      ],
      "text/plain": [
       "                         Companhia.Aerea Codigo.Tipo.Linha   Ano  \\\n",
       "0                  AEROLINEAS ARGENTINAS     Internacional  2015   \n",
       "1                          NAO INFORMADO     Internacional  2016   \n",
       "2                      MAP LINHAS AEREAS          Nacional  2016   \n",
       "3                      MAP LINHAS AEREAS          Nacional  2017   \n",
       "4                      MAP LINHAS AEREAS          Regional  2015   \n",
       "..                                   ...               ...   ...   \n",
       "164  COPA -COMPANIA PANAMENA DE AVIACION     Internacional  2017   \n",
       "165                       DELTA AIRLINES     Internacional  2015   \n",
       "166                       DELTA AIRLINES     Internacional  2016   \n",
       "167                       DELTA AIRLINES     Internacional  2017   \n",
       "168                      US AIRWAYS INC.     Internacional  2015   \n",
       "\n",
       "     Quantidade.total  Prejuizo.anual  \n",
       "0                 352       228228000  \n",
       "1                  38        24638250  \n",
       "2                  55         8229375  \n",
       "3                 261        39052125  \n",
       "4                 401        33894525  \n",
       "..                ...             ...  \n",
       "164               667       432466125  \n",
       "165               364       236008500  \n",
       "166               262       169874250  \n",
       "167               272       176358000  \n",
       "168                62        40199250  \n",
       "\n",
       "[169 rows x 5 columns]"
      ]
     },
     "execution_count": 102,
     "metadata": {},
     "output_type": "execute_result"
    }
   ],
   "source": [
    "def calcula_preju_unitário():\n",
    "    # CÁLCULO DO PREJUIZO UNITÁRIO COM BASE NO TICKET MÉDIO (ANAC) E PORCENTAGEM DE VOOS ATIVOS (PUC-RIO) - df_final\n",
    "    Prejuizo_unit = []\n",
    "    for i in range(len(df_final)):\n",
    "        if df_final['Codigo.Tipo.Linha'][i] == 'Regional':\n",
    "            Preju = round(((df_final['Quantidade.total'][i]*425) - 0.05*(df_final['Quantidade.total'][i]*450))*210)\n",
    "        elif df_final['Codigo.Tipo.Linha'][i] == 'Nacional':\n",
    "            Preju = round(((df_final['Quantidade.total'][i]*750) - 0.05*(df_final['Quantidade.total'][i]*750))*210)\n",
    "        else:\n",
    "            Preju = round(((df_final['Quantidade.total'][i]*3250) - 0.05*(df_final['Quantidade.total'][i]*3250))*210)\n",
    "        Prejuizo_unit.append(Preju)\n",
    "    df_final.insert(4, 'Prejuizo.anual', Prejuizo_unit, True)\n",
    "    df_final.sort_values(['Ano','Quantidade.total'],ascending=True,ignore_index=True).groupby('Companhia.Aerea')\n",
    "    return df_final\n",
    "\n",
    "calcula_preju_unitário()\n",
    "\n",
    "df_final"
   ]
  },
  {
   "cell_type": "code",
   "execution_count": 103,
   "id": "d1b19a60-88bd-4812-9aa2-d7822c550404",
   "metadata": {},
   "outputs": [],
   "source": [
    "df_final.to_excel('Prejuizo_Setor_Aereo.xlsx', index=False)"
   ]
  },
  {
   "cell_type": "code",
   "execution_count": 140,
   "id": "04231436-a9bf-48b5-afd3-8a601eceec6f",
   "metadata": {},
   "outputs": [
    {
     "data": {
      "text/html": [
       "<div>\n",
       "<style scoped>\n",
       "    .dataframe tbody tr th:only-of-type {\n",
       "        vertical-align: middle;\n",
       "    }\n",
       "\n",
       "    .dataframe tbody tr th {\n",
       "        vertical-align: top;\n",
       "    }\n",
       "\n",
       "    .dataframe thead th {\n",
       "        text-align: right;\n",
       "    }\n",
       "</style>\n",
       "<table border=\"1\" class=\"dataframe\">\n",
       "  <thead>\n",
       "    <tr style=\"text-align: right;\">\n",
       "      <th></th>\n",
       "      <th>Empresa</th>\n",
       "      <th>Prejuizo.medio</th>\n",
       "      <th>Quantidade.total</th>\n",
       "    </tr>\n",
       "  </thead>\n",
       "  <tbody>\n",
       "    <tr>\n",
       "      <th>0</th>\n",
       "      <td>GOL</td>\n",
       "      <td>1.169097e+09</td>\n",
       "      <td>61537.0</td>\n",
       "    </tr>\n",
       "    <tr>\n",
       "      <th>1</th>\n",
       "      <td>TAM</td>\n",
       "      <td>1.093077e+09</td>\n",
       "      <td>49850.0</td>\n",
       "    </tr>\n",
       "    <tr>\n",
       "      <th>2</th>\n",
       "      <td>AZUL</td>\n",
       "      <td>1.044955e+09</td>\n",
       "      <td>66049.0</td>\n",
       "    </tr>\n",
       "    <tr>\n",
       "      <th>3</th>\n",
       "      <td>AMERICAN AIRLINES INC</td>\n",
       "      <td>4.635881e+08</td>\n",
       "      <td>2145.0</td>\n",
       "    </tr>\n",
       "    <tr>\n",
       "      <th>4</th>\n",
       "      <td>COPA -COMPANIA PANAMENA DE AVIACION</td>\n",
       "      <td>4.331145e+08</td>\n",
       "      <td>2004.0</td>\n",
       "    </tr>\n",
       "    <tr>\n",
       "      <th>5</th>\n",
       "      <td>AVIANCA BRASIL</td>\n",
       "      <td>4.325409e+08</td>\n",
       "      <td>17245.0</td>\n",
       "    </tr>\n",
       "  </tbody>\n",
       "</table>\n",
       "</div>"
      ],
      "text/plain": [
       "                               Empresa  Prejuizo.medio  Quantidade.total\n",
       "0                                  GOL    1.169097e+09           61537.0\n",
       "1                                  TAM    1.093077e+09           49850.0\n",
       "2                                 AZUL    1.044955e+09           66049.0\n",
       "3                AMERICAN AIRLINES INC    4.635881e+08            2145.0\n",
       "4  COPA -COMPANIA PANAMENA DE AVIACION    4.331145e+08            2004.0\n",
       "5                       AVIANCA BRASIL    4.325409e+08           17245.0"
      ]
     },
     "execution_count": 140,
     "metadata": {},
     "output_type": "execute_result"
    }
   ],
   "source": [
    "import warnings\n",
    "warnings.filterwarnings(\"ignore\")\n",
    "\n",
    "Empresas = df_final['Companhia.Aerea'].unique().tolist()\n",
    "\n",
    "df_prejuizos = pd.DataFrame({'Empresa':[],'Prejuizo.medio':[],'Quantidade.total':[]})\n",
    "\n",
    "for i in range(len(Empresas)):\n",
    "    Valores = []\n",
    "    Quantidade = []\n",
    "    for j in range(len(df_final)):\n",
    "        if Empresas[i] == df_final['Companhia.Aerea'][j]:\n",
    "            Anual = df_final['Prejuizo.anual'][j]\n",
    "            Valores.append(Anual)\n",
    "            Qtd = df_final['Quantidade.total'][j]\n",
    "            Quantidade.append(Qtd)\n",
    "    Media = round((sum(Valores)/len(Valores)))\n",
    "    Quantidade = sum(Quantidade)\n",
    "    line = {'Empresa': Empresas[i],'Prejuizo.medio': int(Media),'Quantidade.total': int(Quantidade)}\n",
    "    df_prejuizos = df_prejuizos.append(line, ignore_index = True).sort_values('Prejuizo.medio', ascending = False)\n",
    "\n",
    "df_prejuizos[:6]"
   ]
  },
  {
   "cell_type": "code",
   "execution_count": 108,
   "id": "8c2ce764-d4aa-48ba-a1c6-27a9b8c59a93",
   "metadata": {},
   "outputs": [
    {
     "data": {
      "text/html": [
       "<iframe\n",
       "    scrolling=\"no\"\n",
       "    width=\"100%\"\n",
       "    height=\"545px\"\n",
       "    src=\"iframe_figures/figure_16.html\"\n",
       "    frameborder=\"0\"\n",
       "    allowfullscreen\n",
       "></iframe>\n"
      ]
     },
     "metadata": {},
     "output_type": "display_data"
    }
   ],
   "source": [
    "import plotly.express as px\n",
    "# Construct the graph and style it. Further customize your graph by editing this code.\n",
    "# See Plotly Documentation for help: https://plotly.com/python/plotly-express/\n",
    "fig = px.bar(df_prejuizos, x='Empresa', y='Prejuizo.medio', color='Prejuizo.medio')\n",
    "fig.update_layout(autosize = True,\n",
    "    title='Empresa, Prejuizo.medio bar chart', \n",
    "    xaxis = dict(\n",
    "        rangeslider = dict(\n",
    "            visible=True, \n",
    "            thickness=0.05\n",
    "        )\n",
    "    ), \n",
    "    yaxis = dict(\n",
    "    ), \n",
    "    barmode='group', \n",
    "    paper_bgcolor='#FFFFFF', \n",
    "    showlegend=True\n",
    ")\n",
    "fig.show(renderer=\"iframe\")"
   ]
  },
  {
   "cell_type": "code",
   "execution_count": 151,
   "id": "398cc2c7-9c63-45c1-ba40-7d2119ff0624",
   "metadata": {},
   "outputs": [
    {
     "data": {
      "text/html": [
       "<div>\n",
       "<style scoped>\n",
       "    .dataframe tbody tr th:only-of-type {\n",
       "        vertical-align: middle;\n",
       "    }\n",
       "\n",
       "    .dataframe tbody tr th {\n",
       "        vertical-align: top;\n",
       "    }\n",
       "\n",
       "    .dataframe thead th {\n",
       "        text-align: right;\n",
       "    }\n",
       "</style>\n",
       "<table border=\"1\" class=\"dataframe\">\n",
       "  <thead>\n",
       "    <tr style=\"text-align: right;\">\n",
       "      <th></th>\n",
       "      <th>Empresa</th>\n",
       "      <th>Prejuizo.medio</th>\n",
       "      <th>Quantidade.total</th>\n",
       "    </tr>\n",
       "  </thead>\n",
       "  <tbody>\n",
       "    <tr>\n",
       "      <th>0</th>\n",
       "      <td>GOL</td>\n",
       "      <td>1.169097</td>\n",
       "      <td>61537.0</td>\n",
       "    </tr>\n",
       "    <tr>\n",
       "      <th>1</th>\n",
       "      <td>TAM</td>\n",
       "      <td>1.093077</td>\n",
       "      <td>49850.0</td>\n",
       "    </tr>\n",
       "    <tr>\n",
       "      <th>2</th>\n",
       "      <td>AZUL</td>\n",
       "      <td>1.044955</td>\n",
       "      <td>66049.0</td>\n",
       "    </tr>\n",
       "    <tr>\n",
       "      <th>3</th>\n",
       "      <td>AMERICAN AIRLINES INC</td>\n",
       "      <td>0.463588</td>\n",
       "      <td>2145.0</td>\n",
       "    </tr>\n",
       "    <tr>\n",
       "      <th>4</th>\n",
       "      <td>COPA -COMPANIA PANAMENA DE AVIACION</td>\n",
       "      <td>0.433115</td>\n",
       "      <td>2004.0</td>\n",
       "    </tr>\n",
       "  </tbody>\n",
       "</table>\n",
       "</div>"
      ],
      "text/plain": [
       "                               Empresa  Prejuizo.medio  Quantidade.total\n",
       "0                                  GOL        1.169097           61537.0\n",
       "1                                  TAM        1.093077           49850.0\n",
       "2                                 AZUL        1.044955           66049.0\n",
       "3                AMERICAN AIRLINES INC        0.463588            2145.0\n",
       "4  COPA -COMPANIA PANAMENA DE AVIACION        0.433115            2004.0"
      ]
     },
     "execution_count": 151,
     "metadata": {},
     "output_type": "execute_result"
    }
   ],
   "source": [
    "df_chart = df_prejuizos.copy()\n",
    "df_chart['Prejuizo.medio'] = df_chart['Prejuizo.medio'].apply(lambda x: x/1000000000)\n",
    "df_chart.head()"
   ]
  },
  {
   "cell_type": "code",
   "execution_count": 154,
   "id": "db80acd2-55af-478e-8de1-04138716f432",
   "metadata": {},
   "outputs": [
    {
     "data": {
      "application/vnd.plotly.v1+json": {
       "config": {
        "plotlyServerURL": "https://plot.ly"
       },
       "data": [
        {
         "branchvalues": "total",
         "customdata": [
          0.340613,
          0.048628125,
          0.051653875,
          0.011454625,
          0.053815125,
          0.13010725,
          0.0389025,
          0.078021125,
          0.463588125,
          0.16987425,
          0.1201655,
          0.432540938,
          1.044955275,
          0.0458185,
          0.079750125,
          0.02031575,
          0.4331145,
          0.19408025,
          0.011022375,
          0.11713975,
          0.019235125,
          0.01772225,
          0.040415375,
          0.006807938,
          1.169097008,
          0.083208125,
          0.01685775,
          0.068511625,
          0.019235125,
          0.066782625,
          0.201212375,
          0.076292125,
          0.096175625,
          0.02521176,
          0.009401438,
          0.03458,
          0.1595832,
          0.06959225,
          0.025610812,
          0.0463197,
          0.01685775,
          0.0544635,
          0.0198835,
          0.04452175,
          0.03933475,
          1.093077417,
          0.068943875,
          0.33499375,
          0.0053865,
          0.119517125,
          0.071537375,
          0.188461,
          0.04019925
         ],
         "domain": {
          "x": [
           0,
           1
          ],
          "y": [
           0,
           1
          ]
         },
         "hovertemplate": "labels=%{label}<br>Quantidade.total=%{value}<br>parent=%{parent}<br>id=%{id}<br>Prejuizo.medio=%{color}<extra></extra>",
         "ids": [
          "Prejuizo das Companhias no pico da COVID19 (03/20) em bi/AEROLINEAS ARGENTINAS",
          "Prejuizo das Companhias no pico da COVID19 (03/20) em bi/AEROMEXICO",
          "Prejuizo das Companhias no pico da COVID19 (03/20) em bi/AIR CANADA",
          "Prejuizo das Companhias no pico da COVID19 (03/20) em bi/AIR CHINA",
          "Prejuizo das Companhias no pico da COVID19 (03/20) em bi/AIR EUROPA S/A",
          "Prejuizo das Companhias no pico da COVID19 (03/20) em bi/AIR FRANCE",
          "Prejuizo das Companhias no pico da COVID19 (03/20) em bi/AIRES - LAN COLOMBIA",
          "Prejuizo das Companhias no pico da COVID19 (03/20) em bi/ALITALIA",
          "Prejuizo das Companhias no pico da COVID19 (03/20) em bi/AMERICAN AIRLINES INC",
          "Prejuizo das Companhias no pico da COVID19 (03/20) em bi/AUSTRAL LINEAS AREAS CIELOS DEL SUR S.A",
          "Prejuizo das Companhias no pico da COVID19 (03/20) em bi/AVIANCA",
          "Prejuizo das Companhias no pico da COVID19 (03/20) em bi/AVIANCA BRASIL",
          "Prejuizo das Companhias no pico da COVID19 (03/20) em bi/AZUL",
          "Prejuizo das Companhias no pico da COVID19 (03/20) em bi/BOLIVIANA DE AVIACION",
          "Prejuizo das Companhias no pico da COVID19 (03/20) em bi/BRITISH AIRWAYS PLC",
          "Prejuizo das Companhias no pico da COVID19 (03/20) em bi/CONDOR FLUGDINST",
          "Prejuizo das Companhias no pico da COVID19 (03/20) em bi/COPA -COMPANIA PANAMENA DE AVIACION",
          "Prejuizo das Companhias no pico da COVID19 (03/20) em bi/DELTA AIRLINES",
          "Prejuizo das Companhias no pico da COVID19 (03/20) em bi/EDELWEISS",
          "Prejuizo das Companhias no pico da COVID19 (03/20) em bi/EMIRATES",
          "Prejuizo das Companhias no pico da COVID19 (03/20) em bi/EMPRESA DE TRANSPORTES AEREOS DE CABO VERDE S.A.",
          "Prejuizo das Companhias no pico da COVID19 (03/20) em bi/ETHIOPIAN",
          "Prejuizo das Companhias no pico da COVID19 (03/20) em bi/ETIHAD",
          "Prejuizo das Companhias no pico da COVID19 (03/20) em bi/FLYWAYS",
          "Prejuizo das Companhias no pico da COVID19 (03/20) em bi/GOL",
          "Prejuizo das Companhias no pico da COVID19 (03/20) em bi/IBERIA",
          "Prejuizo das Companhias no pico da COVID19 (03/20) em bi/INSELAIR",
          "Prejuizo das Companhias no pico da COVID19 (03/20) em bi/KLM ROYAL DUTCH AIRLINES",
          "Prejuizo das Companhias no pico da COVID19 (03/20) em bi/KOREAN AIRLINES",
          "Prejuizo das Companhias no pico da COVID19 (03/20) em bi/LAN ARGENTINA S/A",
          "Prejuizo das Companhias no pico da COVID19 (03/20) em bi/LAN CHILE",
          "Prejuizo das Companhias no pico da COVID19 (03/20) em bi/LAN PERU S/A",
          "Prejuizo das Companhias no pico da COVID19 (03/20) em bi/LUFTHANSA",
          "Prejuizo das Companhias no pico da COVID19 (03/20) em bi/MAP LINHAS AEREAS",
          "Prejuizo das Companhias no pico da COVID19 (03/20) em bi/MERIDIANA",
          "Prejuizo das Companhias no pico da COVID19 (03/20) em bi/NAO INFORMADO",
          "Prejuizo das Companhias no pico da COVID19 (03/20) em bi/PASSAREDO",
          "Prejuizo das Companhias no pico da COVID19 (03/20) em bi/QATAR AIRWAYS",
          "Prejuizo das Companhias no pico da COVID19 (03/20) em bi/ROYAL AIR MAROC",
          "Prejuizo das Companhias no pico da COVID19 (03/20) em bi/SETE",
          "Prejuizo das Companhias no pico da COVID19 (03/20) em bi/SINGAPORE AIRLINES",
          "Prejuizo das Companhias no pico da COVID19 (03/20) em bi/SOUTH µFRICAN AIRWAYS",
          "Prejuizo das Companhias no pico da COVID19 (03/20) em bi/SURINAM AIRWAYS",
          "Prejuizo das Companhias no pico da COVID19 (03/20) em bi/SWISSAIR",
          "Prejuizo das Companhias no pico da COVID19 (03/20) em bi/TAAG LINHAS AEREAS DE ANGOLA",
          "Prejuizo das Companhias no pico da COVID19 (03/20) em bi/TAM",
          "Prejuizo das Companhias no pico da COVID19 (03/20) em bi/TAM TRANSP. AR. DEL. MERCOS",
          "Prejuizo das Companhias no pico da COVID19 (03/20) em bi/TAP AIR PORTUGAL",
          "Prejuizo das Companhias no pico da COVID19 (03/20) em bi/TOTAL",
          "Prejuizo das Companhias no pico da COVID19 (03/20) em bi/TRASAMERICA  AIRLINES-TACAPERU",
          "Prejuizo das Companhias no pico da COVID19 (03/20) em bi/TURKISH AIRLINES INC.",
          "Prejuizo das Companhias no pico da COVID19 (03/20) em bi/UNITED AIRLINES",
          "Prejuizo das Companhias no pico da COVID19 (03/20) em bi/US AIRWAYS INC.",
          "Prejuizo das Companhias no pico da COVID19 (03/20) em bi"
         ],
         "labels": [
          "AEROLINEAS ARGENTINAS",
          "AEROMEXICO",
          "AIR CANADA",
          "AIR CHINA",
          "AIR EUROPA S/A",
          "AIR FRANCE",
          "AIRES - LAN COLOMBIA",
          "ALITALIA",
          "AMERICAN AIRLINES INC",
          "AUSTRAL LINEAS AREAS CIELOS DEL SUR S.A",
          "AVIANCA",
          "AVIANCA BRASIL",
          "AZUL",
          "BOLIVIANA DE AVIACION",
          "BRITISH AIRWAYS PLC",
          "CONDOR FLUGDINST",
          "COPA -COMPANIA PANAMENA DE AVIACION",
          "DELTA AIRLINES",
          "EDELWEISS",
          "EMIRATES",
          "EMPRESA DE TRANSPORTES AEREOS DE CABO VERDE S.A.",
          "ETHIOPIAN",
          "ETIHAD",
          "FLYWAYS",
          "GOL",
          "IBERIA",
          "INSELAIR",
          "KLM ROYAL DUTCH AIRLINES",
          "KOREAN AIRLINES",
          "LAN ARGENTINA S/A",
          "LAN CHILE",
          "LAN PERU S/A",
          "LUFTHANSA",
          "MAP LINHAS AEREAS",
          "MERIDIANA",
          "NAO INFORMADO",
          "PASSAREDO",
          "QATAR AIRWAYS",
          "ROYAL AIR MAROC",
          "SETE",
          "SINGAPORE AIRLINES",
          "SOUTH µFRICAN AIRWAYS",
          "SURINAM AIRWAYS",
          "SWISSAIR",
          "TAAG LINHAS AEREAS DE ANGOLA",
          "TAM",
          "TAM TRANSP. AR. DEL. MERCOS",
          "TAP AIR PORTUGAL",
          "TOTAL",
          "TRASAMERICA  AIRLINES-TACAPERU",
          "TURKISH AIRLINES INC.",
          "UNITED AIRLINES",
          "US AIRWAYS INC.",
          "Prejuizo das Companhias no pico da COVID19 (03/20) em bi"
         ],
         "level": "Prejuizo das Companhias no pico da COVID19 (03/20) em bi",
         "marker": {
          "coloraxis": "coloraxis",
          "colors": [
           0.34061300000000005,
           0.048628125,
           0.051653875,
           0.011454625,
           0.053815125,
           0.13010725,
           0.0389025,
           0.078021125,
           0.463588125,
           0.16987425,
           0.1201655,
           0.432540938,
           1.044955275,
           0.0458185,
           0.079750125,
           0.02031575,
           0.4331145,
           0.19408025,
           0.011022375,
           0.11713975,
           0.019235125,
           0.01772225,
           0.040415375,
           0.006807938,
           1.169097008,
           0.083208125,
           0.01685775,
           0.068511625,
           0.019235125,
           0.066782625,
           0.201212375,
           0.076292125,
           0.096175625,
           0.02521176,
           0.009401438,
           0.03458,
           0.1595832,
           0.06959225,
           0.025610812,
           0.0463197,
           0.01685775,
           0.054463500000000005,
           0.0198835,
           0.04452175,
           0.03933475,
           1.093077417,
           0.068943875,
           0.33499375,
           0.0053865,
           0.11951712500000002,
           0.071537375,
           0.188461,
           0.04019925,
           0.9388352316178192
          ]
         },
         "name": "",
         "parents": [
          "Prejuizo das Companhias no pico da COVID19 (03/20) em bi",
          "Prejuizo das Companhias no pico da COVID19 (03/20) em bi",
          "Prejuizo das Companhias no pico da COVID19 (03/20) em bi",
          "Prejuizo das Companhias no pico da COVID19 (03/20) em bi",
          "Prejuizo das Companhias no pico da COVID19 (03/20) em bi",
          "Prejuizo das Companhias no pico da COVID19 (03/20) em bi",
          "Prejuizo das Companhias no pico da COVID19 (03/20) em bi",
          "Prejuizo das Companhias no pico da COVID19 (03/20) em bi",
          "Prejuizo das Companhias no pico da COVID19 (03/20) em bi",
          "Prejuizo das Companhias no pico da COVID19 (03/20) em bi",
          "Prejuizo das Companhias no pico da COVID19 (03/20) em bi",
          "Prejuizo das Companhias no pico da COVID19 (03/20) em bi",
          "Prejuizo das Companhias no pico da COVID19 (03/20) em bi",
          "Prejuizo das Companhias no pico da COVID19 (03/20) em bi",
          "Prejuizo das Companhias no pico da COVID19 (03/20) em bi",
          "Prejuizo das Companhias no pico da COVID19 (03/20) em bi",
          "Prejuizo das Companhias no pico da COVID19 (03/20) em bi",
          "Prejuizo das Companhias no pico da COVID19 (03/20) em bi",
          "Prejuizo das Companhias no pico da COVID19 (03/20) em bi",
          "Prejuizo das Companhias no pico da COVID19 (03/20) em bi",
          "Prejuizo das Companhias no pico da COVID19 (03/20) em bi",
          "Prejuizo das Companhias no pico da COVID19 (03/20) em bi",
          "Prejuizo das Companhias no pico da COVID19 (03/20) em bi",
          "Prejuizo das Companhias no pico da COVID19 (03/20) em bi",
          "Prejuizo das Companhias no pico da COVID19 (03/20) em bi",
          "Prejuizo das Companhias no pico da COVID19 (03/20) em bi",
          "Prejuizo das Companhias no pico da COVID19 (03/20) em bi",
          "Prejuizo das Companhias no pico da COVID19 (03/20) em bi",
          "Prejuizo das Companhias no pico da COVID19 (03/20) em bi",
          "Prejuizo das Companhias no pico da COVID19 (03/20) em bi",
          "Prejuizo das Companhias no pico da COVID19 (03/20) em bi",
          "Prejuizo das Companhias no pico da COVID19 (03/20) em bi",
          "Prejuizo das Companhias no pico da COVID19 (03/20) em bi",
          "Prejuizo das Companhias no pico da COVID19 (03/20) em bi",
          "Prejuizo das Companhias no pico da COVID19 (03/20) em bi",
          "Prejuizo das Companhias no pico da COVID19 (03/20) em bi",
          "Prejuizo das Companhias no pico da COVID19 (03/20) em bi",
          "Prejuizo das Companhias no pico da COVID19 (03/20) em bi",
          "Prejuizo das Companhias no pico da COVID19 (03/20) em bi",
          "Prejuizo das Companhias no pico da COVID19 (03/20) em bi",
          "Prejuizo das Companhias no pico da COVID19 (03/20) em bi",
          "Prejuizo das Companhias no pico da COVID19 (03/20) em bi",
          "Prejuizo das Companhias no pico da COVID19 (03/20) em bi",
          "Prejuizo das Companhias no pico da COVID19 (03/20) em bi",
          "Prejuizo das Companhias no pico da COVID19 (03/20) em bi",
          "Prejuizo das Companhias no pico da COVID19 (03/20) em bi",
          "Prejuizo das Companhias no pico da COVID19 (03/20) em bi",
          "Prejuizo das Companhias no pico da COVID19 (03/20) em bi",
          "Prejuizo das Companhias no pico da COVID19 (03/20) em bi",
          "Prejuizo das Companhias no pico da COVID19 (03/20) em bi",
          "Prejuizo das Companhias no pico da COVID19 (03/20) em bi",
          "Prejuizo das Companhias no pico da COVID19 (03/20) em bi",
          "Prejuizo das Companhias no pico da COVID19 (03/20) em bi",
          ""
         ],
         "textposition": "middle center",
         "texttemplate": "%{label}<br>%{customdata}",
         "type": "treemap",
         "values": [
          1576,
          225,
          239,
          53,
          249,
          602,
          120,
          361,
          2145,
          786,
          556,
          17245,
          66049,
          212,
          369,
          94,
          2004,
          898,
          17,
          542,
          89,
          82,
          187,
          91,
          61537,
          385,
          26,
          317,
          89,
          309,
          931,
          353,
          445,
          1248,
          29,
          160,
          5664,
          322,
          79,
          548,
          52,
          252,
          92,
          206,
          182,
          49850,
          319,
          1550,
          108,
          553,
          331,
          872,
          62,
          221662
         ]
        }
       ],
       "layout": {
        "autosize": true,
        "coloraxis": {
         "colorbar": {
          "title": {
           "text": "Prejuizo.medio"
          }
         },
         "colorscale": [
          [
           0,
           "Green"
          ],
          [
           0.5,
           "#8b0000"
          ],
          [
           1,
           "Red"
          ]
         ],
         "showscale": false
        },
        "legend": {
         "tracegroupgap": 0
        },
        "margin": {
         "b": 10,
         "l": 10,
         "r": 10,
         "t": 30
        },
        "template": {
         "data": {
          "bar": [
           {
            "error_x": {
             "color": "#2a3f5f"
            },
            "error_y": {
             "color": "#2a3f5f"
            },
            "marker": {
             "line": {
              "color": "#E5ECF6",
              "width": 0.5
             },
             "pattern": {
              "fillmode": "overlay",
              "size": 10,
              "solidity": 0.2
             }
            },
            "type": "bar"
           }
          ],
          "barpolar": [
           {
            "marker": {
             "line": {
              "color": "#E5ECF6",
              "width": 0.5
             },
             "pattern": {
              "fillmode": "overlay",
              "size": 10,
              "solidity": 0.2
             }
            },
            "type": "barpolar"
           }
          ],
          "carpet": [
           {
            "aaxis": {
             "endlinecolor": "#2a3f5f",
             "gridcolor": "white",
             "linecolor": "white",
             "minorgridcolor": "white",
             "startlinecolor": "#2a3f5f"
            },
            "baxis": {
             "endlinecolor": "#2a3f5f",
             "gridcolor": "white",
             "linecolor": "white",
             "minorgridcolor": "white",
             "startlinecolor": "#2a3f5f"
            },
            "type": "carpet"
           }
          ],
          "choropleth": [
           {
            "colorbar": {
             "outlinewidth": 0,
             "ticks": ""
            },
            "type": "choropleth"
           }
          ],
          "contour": [
           {
            "colorbar": {
             "outlinewidth": 0,
             "ticks": ""
            },
            "colorscale": [
             [
              0,
              "#0d0887"
             ],
             [
              0.1111111111111111,
              "#46039f"
             ],
             [
              0.2222222222222222,
              "#7201a8"
             ],
             [
              0.3333333333333333,
              "#9c179e"
             ],
             [
              0.4444444444444444,
              "#bd3786"
             ],
             [
              0.5555555555555556,
              "#d8576b"
             ],
             [
              0.6666666666666666,
              "#ed7953"
             ],
             [
              0.7777777777777778,
              "#fb9f3a"
             ],
             [
              0.8888888888888888,
              "#fdca26"
             ],
             [
              1,
              "#f0f921"
             ]
            ],
            "type": "contour"
           }
          ],
          "contourcarpet": [
           {
            "colorbar": {
             "outlinewidth": 0,
             "ticks": ""
            },
            "type": "contourcarpet"
           }
          ],
          "heatmap": [
           {
            "colorbar": {
             "outlinewidth": 0,
             "ticks": ""
            },
            "colorscale": [
             [
              0,
              "#0d0887"
             ],
             [
              0.1111111111111111,
              "#46039f"
             ],
             [
              0.2222222222222222,
              "#7201a8"
             ],
             [
              0.3333333333333333,
              "#9c179e"
             ],
             [
              0.4444444444444444,
              "#bd3786"
             ],
             [
              0.5555555555555556,
              "#d8576b"
             ],
             [
              0.6666666666666666,
              "#ed7953"
             ],
             [
              0.7777777777777778,
              "#fb9f3a"
             ],
             [
              0.8888888888888888,
              "#fdca26"
             ],
             [
              1,
              "#f0f921"
             ]
            ],
            "type": "heatmap"
           }
          ],
          "heatmapgl": [
           {
            "colorbar": {
             "outlinewidth": 0,
             "ticks": ""
            },
            "colorscale": [
             [
              0,
              "#0d0887"
             ],
             [
              0.1111111111111111,
              "#46039f"
             ],
             [
              0.2222222222222222,
              "#7201a8"
             ],
             [
              0.3333333333333333,
              "#9c179e"
             ],
             [
              0.4444444444444444,
              "#bd3786"
             ],
             [
              0.5555555555555556,
              "#d8576b"
             ],
             [
              0.6666666666666666,
              "#ed7953"
             ],
             [
              0.7777777777777778,
              "#fb9f3a"
             ],
             [
              0.8888888888888888,
              "#fdca26"
             ],
             [
              1,
              "#f0f921"
             ]
            ],
            "type": "heatmapgl"
           }
          ],
          "histogram": [
           {
            "marker": {
             "pattern": {
              "fillmode": "overlay",
              "size": 10,
              "solidity": 0.2
             }
            },
            "type": "histogram"
           }
          ],
          "histogram2d": [
           {
            "colorbar": {
             "outlinewidth": 0,
             "ticks": ""
            },
            "colorscale": [
             [
              0,
              "#0d0887"
             ],
             [
              0.1111111111111111,
              "#46039f"
             ],
             [
              0.2222222222222222,
              "#7201a8"
             ],
             [
              0.3333333333333333,
              "#9c179e"
             ],
             [
              0.4444444444444444,
              "#bd3786"
             ],
             [
              0.5555555555555556,
              "#d8576b"
             ],
             [
              0.6666666666666666,
              "#ed7953"
             ],
             [
              0.7777777777777778,
              "#fb9f3a"
             ],
             [
              0.8888888888888888,
              "#fdca26"
             ],
             [
              1,
              "#f0f921"
             ]
            ],
            "type": "histogram2d"
           }
          ],
          "histogram2dcontour": [
           {
            "colorbar": {
             "outlinewidth": 0,
             "ticks": ""
            },
            "colorscale": [
             [
              0,
              "#0d0887"
             ],
             [
              0.1111111111111111,
              "#46039f"
             ],
             [
              0.2222222222222222,
              "#7201a8"
             ],
             [
              0.3333333333333333,
              "#9c179e"
             ],
             [
              0.4444444444444444,
              "#bd3786"
             ],
             [
              0.5555555555555556,
              "#d8576b"
             ],
             [
              0.6666666666666666,
              "#ed7953"
             ],
             [
              0.7777777777777778,
              "#fb9f3a"
             ],
             [
              0.8888888888888888,
              "#fdca26"
             ],
             [
              1,
              "#f0f921"
             ]
            ],
            "type": "histogram2dcontour"
           }
          ],
          "mesh3d": [
           {
            "colorbar": {
             "outlinewidth": 0,
             "ticks": ""
            },
            "type": "mesh3d"
           }
          ],
          "parcoords": [
           {
            "line": {
             "colorbar": {
              "outlinewidth": 0,
              "ticks": ""
             }
            },
            "type": "parcoords"
           }
          ],
          "pie": [
           {
            "automargin": true,
            "type": "pie"
           }
          ],
          "scatter": [
           {
            "marker": {
             "colorbar": {
              "outlinewidth": 0,
              "ticks": ""
             }
            },
            "type": "scatter"
           }
          ],
          "scatter3d": [
           {
            "line": {
             "colorbar": {
              "outlinewidth": 0,
              "ticks": ""
             }
            },
            "marker": {
             "colorbar": {
              "outlinewidth": 0,
              "ticks": ""
             }
            },
            "type": "scatter3d"
           }
          ],
          "scattercarpet": [
           {
            "marker": {
             "colorbar": {
              "outlinewidth": 0,
              "ticks": ""
             }
            },
            "type": "scattercarpet"
           }
          ],
          "scattergeo": [
           {
            "marker": {
             "colorbar": {
              "outlinewidth": 0,
              "ticks": ""
             }
            },
            "type": "scattergeo"
           }
          ],
          "scattergl": [
           {
            "marker": {
             "colorbar": {
              "outlinewidth": 0,
              "ticks": ""
             }
            },
            "type": "scattergl"
           }
          ],
          "scattermapbox": [
           {
            "marker": {
             "colorbar": {
              "outlinewidth": 0,
              "ticks": ""
             }
            },
            "type": "scattermapbox"
           }
          ],
          "scatterpolar": [
           {
            "marker": {
             "colorbar": {
              "outlinewidth": 0,
              "ticks": ""
             }
            },
            "type": "scatterpolar"
           }
          ],
          "scatterpolargl": [
           {
            "marker": {
             "colorbar": {
              "outlinewidth": 0,
              "ticks": ""
             }
            },
            "type": "scatterpolargl"
           }
          ],
          "scatterternary": [
           {
            "marker": {
             "colorbar": {
              "outlinewidth": 0,
              "ticks": ""
             }
            },
            "type": "scatterternary"
           }
          ],
          "surface": [
           {
            "colorbar": {
             "outlinewidth": 0,
             "ticks": ""
            },
            "colorscale": [
             [
              0,
              "#0d0887"
             ],
             [
              0.1111111111111111,
              "#46039f"
             ],
             [
              0.2222222222222222,
              "#7201a8"
             ],
             [
              0.3333333333333333,
              "#9c179e"
             ],
             [
              0.4444444444444444,
              "#bd3786"
             ],
             [
              0.5555555555555556,
              "#d8576b"
             ],
             [
              0.6666666666666666,
              "#ed7953"
             ],
             [
              0.7777777777777778,
              "#fb9f3a"
             ],
             [
              0.8888888888888888,
              "#fdca26"
             ],
             [
              1,
              "#f0f921"
             ]
            ],
            "type": "surface"
           }
          ],
          "table": [
           {
            "cells": {
             "fill": {
              "color": "#EBF0F8"
             },
             "line": {
              "color": "white"
             }
            },
            "header": {
             "fill": {
              "color": "#C8D4E3"
             },
             "line": {
              "color": "white"
             }
            },
            "type": "table"
           }
          ]
         },
         "layout": {
          "annotationdefaults": {
           "arrowcolor": "#2a3f5f",
           "arrowhead": 0,
           "arrowwidth": 1
          },
          "autotypenumbers": "strict",
          "coloraxis": {
           "colorbar": {
            "outlinewidth": 0,
            "ticks": ""
           }
          },
          "colorscale": {
           "diverging": [
            [
             0,
             "#8e0152"
            ],
            [
             0.1,
             "#c51b7d"
            ],
            [
             0.2,
             "#de77ae"
            ],
            [
             0.3,
             "#f1b6da"
            ],
            [
             0.4,
             "#fde0ef"
            ],
            [
             0.5,
             "#f7f7f7"
            ],
            [
             0.6,
             "#e6f5d0"
            ],
            [
             0.7,
             "#b8e186"
            ],
            [
             0.8,
             "#7fbc41"
            ],
            [
             0.9,
             "#4d9221"
            ],
            [
             1,
             "#276419"
            ]
           ],
           "sequential": [
            [
             0,
             "#0d0887"
            ],
            [
             0.1111111111111111,
             "#46039f"
            ],
            [
             0.2222222222222222,
             "#7201a8"
            ],
            [
             0.3333333333333333,
             "#9c179e"
            ],
            [
             0.4444444444444444,
             "#bd3786"
            ],
            [
             0.5555555555555556,
             "#d8576b"
            ],
            [
             0.6666666666666666,
             "#ed7953"
            ],
            [
             0.7777777777777778,
             "#fb9f3a"
            ],
            [
             0.8888888888888888,
             "#fdca26"
            ],
            [
             1,
             "#f0f921"
            ]
           ],
           "sequentialminus": [
            [
             0,
             "#0d0887"
            ],
            [
             0.1111111111111111,
             "#46039f"
            ],
            [
             0.2222222222222222,
             "#7201a8"
            ],
            [
             0.3333333333333333,
             "#9c179e"
            ],
            [
             0.4444444444444444,
             "#bd3786"
            ],
            [
             0.5555555555555556,
             "#d8576b"
            ],
            [
             0.6666666666666666,
             "#ed7953"
            ],
            [
             0.7777777777777778,
             "#fb9f3a"
            ],
            [
             0.8888888888888888,
             "#fdca26"
            ],
            [
             1,
             "#f0f921"
            ]
           ]
          },
          "colorway": [
           "#636efa",
           "#EF553B",
           "#00cc96",
           "#ab63fa",
           "#FFA15A",
           "#19d3f3",
           "#FF6692",
           "#B6E880",
           "#FF97FF",
           "#FECB52"
          ],
          "font": {
           "color": "#2a3f5f"
          },
          "geo": {
           "bgcolor": "white",
           "lakecolor": "white",
           "landcolor": "#E5ECF6",
           "showlakes": true,
           "showland": true,
           "subunitcolor": "white"
          },
          "hoverlabel": {
           "align": "left"
          },
          "hovermode": "closest",
          "mapbox": {
           "style": "light"
          },
          "paper_bgcolor": "white",
          "plot_bgcolor": "#E5ECF6",
          "polar": {
           "angularaxis": {
            "gridcolor": "white",
            "linecolor": "white",
            "ticks": ""
           },
           "bgcolor": "#E5ECF6",
           "radialaxis": {
            "gridcolor": "white",
            "linecolor": "white",
            "ticks": ""
           }
          },
          "scene": {
           "xaxis": {
            "backgroundcolor": "#E5ECF6",
            "gridcolor": "white",
            "gridwidth": 2,
            "linecolor": "white",
            "showbackground": true,
            "ticks": "",
            "zerolinecolor": "white"
           },
           "yaxis": {
            "backgroundcolor": "#E5ECF6",
            "gridcolor": "white",
            "gridwidth": 2,
            "linecolor": "white",
            "showbackground": true,
            "ticks": "",
            "zerolinecolor": "white"
           },
           "zaxis": {
            "backgroundcolor": "#E5ECF6",
            "gridcolor": "white",
            "gridwidth": 2,
            "linecolor": "white",
            "showbackground": true,
            "ticks": "",
            "zerolinecolor": "white"
           }
          },
          "shapedefaults": {
           "line": {
            "color": "#2a3f5f"
           }
          },
          "ternary": {
           "aaxis": {
            "gridcolor": "white",
            "linecolor": "white",
            "ticks": ""
           },
           "baxis": {
            "gridcolor": "white",
            "linecolor": "white",
            "ticks": ""
           },
           "bgcolor": "#E5ECF6",
           "caxis": {
            "gridcolor": "white",
            "linecolor": "white",
            "ticks": ""
           }
          },
          "title": {
           "x": 0.05
          },
          "xaxis": {
           "automargin": true,
           "gridcolor": "white",
           "linecolor": "white",
           "ticks": "",
           "title": {
            "standoff": 15
           },
           "zerolinecolor": "white",
           "zerolinewidth": 2
          },
          "yaxis": {
           "automargin": true,
           "gridcolor": "white",
           "linecolor": "white",
           "ticks": "",
           "title": {
            "standoff": 15
           },
           "zerolinecolor": "white",
           "zerolinewidth": 2
          }
         }
        }
       }
      },
      "image/png": "[encoded data removed]",
      "text/html": [
       "<div>                            <div id=\"20709c4d-c450-42e3-93e8-d4257087a87d\" class=\"plotly-graph-div\" style=\"height:525px; width:100%;\"></div>            <script type=\"text/javascript\">                require([\"plotly\"], function(Plotly) {                    window.PLOTLYENV=window.PLOTLYENV || {};                                    if (document.getElementById(\"20709c4d-c450-42e3-93e8-d4257087a87d\")) {                    Plotly.newPlot(                        \"20709c4d-c450-42e3-93e8-d4257087a87d\",                        [{\"branchvalues\":\"total\",\"customdata\":[0.340613,0.048628125,0.051653875,0.011454625,0.053815125,0.13010725,0.0389025,0.078021125,0.463588125,0.16987425,0.1201655,0.432540938,1.044955275,0.0458185,0.079750125,0.02031575,0.4331145,0.19408025,0.011022375,0.11713975,0.019235125,0.01772225,0.040415375,0.006807938,1.169097008,0.083208125,0.01685775,0.068511625,0.019235125,0.066782625,0.201212375,0.076292125,0.096175625,0.02521176,0.009401438,0.03458,0.1595832,0.06959225,0.025610812,0.0463197,0.01685775,0.0544635,0.0198835,0.04452175,0.03933475,1.093077417,0.068943875,0.33499375,0.0053865,0.119517125,0.071537375,0.188461,0.04019925],\"domain\":{\"x\":[0.0,1.0],\"y\":[0.0,1.0]},\"hovertemplate\":\"labels=%{label}<br>Quantidade.total=%{value}<br>parent=%{parent}<br>id=%{id}<br>Prejuizo.medio=%{color}<extra></extra>\",\"ids\":[\"Prejuizo das Companhias no pico da COVID19 (03/20) em bi/AEROLINEAS ARGENTINAS\",\"Prejuizo das Companhias no pico da COVID19 (03/20) em bi/AEROMEXICO\",\"Prejuizo das Companhias no pico da COVID19 (03/20) em bi/AIR CANADA\",\"Prejuizo das Companhias no pico da COVID19 (03/20) em bi/AIR CHINA\",\"Prejuizo das Companhias no pico da COVID19 (03/20) em bi/AIR EUROPA S/A\",\"Prejuizo das Companhias no pico da COVID19 (03/20) em bi/AIR FRANCE\",\"Prejuizo das Companhias no pico da COVID19 (03/20) em bi/AIRES - LAN COLOMBIA\",\"Prejuizo das Companhias no pico da COVID19 (03/20) em bi/ALITALIA\",\"Prejuizo das Companhias no pico da COVID19 (03/20) em bi/AMERICAN AIRLINES INC\",\"Prejuizo das Companhias no pico da COVID19 (03/20) em bi/AUSTRAL LINEAS A\\u0090REAS CIELOS DEL SUR S.A\",\"Prejuizo das Companhias no pico da COVID19 (03/20) em bi/AVIANCA\",\"Prejuizo das Companhias no pico da COVID19 (03/20) em bi/AVIANCA BRASIL\",\"Prejuizo das Companhias no pico da COVID19 (03/20) em bi/AZUL\",\"Prejuizo das Companhias no pico da COVID19 (03/20) em bi/BOLIVIANA DE AVIACION\",\"Prejuizo das Companhias no pico da COVID19 (03/20) em bi/BRITISH AIRWAYS PLC\",\"Prejuizo das Companhias no pico da COVID19 (03/20) em bi/CONDOR FLUGDINST\",\"Prejuizo das Companhias no pico da COVID19 (03/20) em bi/COPA -COMPANIA PANAMENA DE AVIACION\",\"Prejuizo das Companhias no pico da COVID19 (03/20) em bi/DELTA AIRLINES\",\"Prejuizo das Companhias no pico da COVID19 (03/20) em bi/EDELWEISS\",\"Prejuizo das Companhias no pico da COVID19 (03/20) em bi/EMIRATES\",\"Prejuizo das Companhias no pico da COVID19 (03/20) em bi/EMPRESA DE TRANSPORTES AEREOS DE CABO VERDE S.A.\",\"Prejuizo das Companhias no pico da COVID19 (03/20) em bi/ETHIOPIAN\",\"Prejuizo das Companhias no pico da COVID19 (03/20) em bi/ETIHAD\",\"Prejuizo das Companhias no pico da COVID19 (03/20) em bi/FLYWAYS\",\"Prejuizo das Companhias no pico da COVID19 (03/20) em bi/GOL\",\"Prejuizo das Companhias no pico da COVID19 (03/20) em bi/IBERIA\",\"Prejuizo das Companhias no pico da COVID19 (03/20) em bi/INSELAIR\",\"Prejuizo das Companhias no pico da COVID19 (03/20) em bi/KLM ROYAL DUTCH AIRLINES\",\"Prejuizo das Companhias no pico da COVID19 (03/20) em bi/KOREAN AIRLINES\",\"Prejuizo das Companhias no pico da COVID19 (03/20) em bi/LAN ARGENTINA S/A\",\"Prejuizo das Companhias no pico da COVID19 (03/20) em bi/LAN CHILE\",\"Prejuizo das Companhias no pico da COVID19 (03/20) em bi/LAN PERU S/A\",\"Prejuizo das Companhias no pico da COVID19 (03/20) em bi/LUFTHANSA\",\"Prejuizo das Companhias no pico da COVID19 (03/20) em bi/MAP LINHAS AEREAS\",\"Prejuizo das Companhias no pico da COVID19 (03/20) em bi/MERIDIANA\",\"Prejuizo das Companhias no pico da COVID19 (03/20) em bi/NAO INFORMADO\",\"Prejuizo das Companhias no pico da COVID19 (03/20) em bi/PASSAREDO\",\"Prejuizo das Companhias no pico da COVID19 (03/20) em bi/QATAR AIRWAYS\",\"Prejuizo das Companhias no pico da COVID19 (03/20) em bi/ROYAL AIR MAROC\",\"Prejuizo das Companhias no pico da COVID19 (03/20) em bi/SETE\",\"Prejuizo das Companhias no pico da COVID19 (03/20) em bi/SINGAPORE AIRLINES\",\"Prejuizo das Companhias no pico da COVID19 (03/20) em bi/SOUTH \\u00b5FRICAN AIRWAYS\",\"Prejuizo das Companhias no pico da COVID19 (03/20) em bi/SURINAM AIRWAYS\",\"Prejuizo das Companhias no pico da COVID19 (03/20) em bi/SWISSAIR\",\"Prejuizo das Companhias no pico da COVID19 (03/20) em bi/TAAG LINHAS AEREAS DE ANGOLA\",\"Prejuizo das Companhias no pico da COVID19 (03/20) em bi/TAM\",\"Prejuizo das Companhias no pico da COVID19 (03/20) em bi/TAM TRANSP. AR. DEL. MERCOS\",\"Prejuizo das Companhias no pico da COVID19 (03/20) em bi/TAP AIR PORTUGAL\",\"Prejuizo das Companhias no pico da COVID19 (03/20) em bi/TOTAL\",\"Prejuizo das Companhias no pico da COVID19 (03/20) em bi/TRASAMERICA  AIRLINES-TACAPERU\",\"Prejuizo das Companhias no pico da COVID19 (03/20) em bi/TURKISH AIRLINES INC.\",\"Prejuizo das Companhias no pico da COVID19 (03/20) em bi/UNITED AIRLINES\",\"Prejuizo das Companhias no pico da COVID19 (03/20) em bi/US AIRWAYS INC.\",\"Prejuizo das Companhias no pico da COVID19 (03/20) em bi\"],\"labels\":[\"AEROLINEAS ARGENTINAS\",\"AEROMEXICO\",\"AIR CANADA\",\"AIR CHINA\",\"AIR EUROPA S/A\",\"AIR FRANCE\",\"AIRES - LAN COLOMBIA\",\"ALITALIA\",\"AMERICAN AIRLINES INC\",\"AUSTRAL LINEAS A\\u0090REAS CIELOS DEL SUR S.A\",\"AVIANCA\",\"AVIANCA BRASIL\",\"AZUL\",\"BOLIVIANA DE AVIACION\",\"BRITISH AIRWAYS PLC\",\"CONDOR FLUGDINST\",\"COPA -COMPANIA PANAMENA DE AVIACION\",\"DELTA AIRLINES\",\"EDELWEISS\",\"EMIRATES\",\"EMPRESA DE TRANSPORTES AEREOS DE CABO VERDE S.A.\",\"ETHIOPIAN\",\"ETIHAD\",\"FLYWAYS\",\"GOL\",\"IBERIA\",\"INSELAIR\",\"KLM ROYAL DUTCH AIRLINES\",\"KOREAN AIRLINES\",\"LAN ARGENTINA S/A\",\"LAN CHILE\",\"LAN PERU S/A\",\"LUFTHANSA\",\"MAP LINHAS AEREAS\",\"MERIDIANA\",\"NAO INFORMADO\",\"PASSAREDO\",\"QATAR AIRWAYS\",\"ROYAL AIR MAROC\",\"SETE\",\"SINGAPORE AIRLINES\",\"SOUTH \\u00b5FRICAN AIRWAYS\",\"SURINAM AIRWAYS\",\"SWISSAIR\",\"TAAG LINHAS AEREAS DE ANGOLA\",\"TAM\",\"TAM TRANSP. AR. DEL. MERCOS\",\"TAP AIR PORTUGAL\",\"TOTAL\",\"TRASAMERICA  AIRLINES-TACAPERU\",\"TURKISH AIRLINES INC.\",\"UNITED AIRLINES\",\"US AIRWAYS INC.\",\"Prejuizo das Companhias no pico da COVID19 (03/20) em bi\"],\"marker\":{\"coloraxis\":\"coloraxis\",\"colors\":[0.34061300000000005,0.048628125,0.051653875,0.011454625,0.053815125,0.13010725,0.0389025,0.078021125,0.463588125,0.16987425,0.1201655,0.432540938,1.044955275,0.0458185,0.079750125,0.02031575,0.4331145,0.19408025,0.011022375,0.11713975,0.019235125,0.01772225,0.040415375,0.006807938,1.169097008,0.083208125,0.01685775,0.068511625,0.019235125,0.066782625,0.201212375,0.076292125,0.096175625,0.02521176,0.009401438,0.03458,0.1595832,0.06959225,0.025610812,0.0463197,0.01685775,0.054463500000000005,0.0198835,0.04452175,0.03933475,1.093077417,0.068943875,0.33499375,0.0053865,0.11951712500000002,0.071537375,0.188461,0.04019925,0.9388352316178192]},\"name\":\"\",\"parents\":[\"Prejuizo das Companhias no pico da COVID19 (03/20) em bi\",\"Prejuizo das Companhias no pico da COVID19 (03/20) em bi\",\"Prejuizo das Companhias no pico da COVID19 (03/20) em bi\",\"Prejuizo das Companhias no pico da COVID19 (03/20) em bi\",\"Prejuizo das Companhias no pico da COVID19 (03/20) em bi\",\"Prejuizo das Companhias no pico da COVID19 (03/20) em bi\",\"Prejuizo das Companhias no pico da COVID19 (03/20) em bi\",\"Prejuizo das Companhias no pico da COVID19 (03/20) em bi\",\"Prejuizo das Companhias no pico da COVID19 (03/20) em bi\",\"Prejuizo das Companhias no pico da COVID19 (03/20) em bi\",\"Prejuizo das Companhias no pico da COVID19 (03/20) em bi\",\"Prejuizo das Companhias no pico da COVID19 (03/20) em bi\",\"Prejuizo das Companhias no pico da COVID19 (03/20) em bi\",\"Prejuizo das Companhias no pico da COVID19 (03/20) em bi\",\"Prejuizo das Companhias no pico da COVID19 (03/20) em bi\",\"Prejuizo das Companhias no pico da COVID19 (03/20) em bi\",\"Prejuizo das Companhias no pico da COVID19 (03/20) em bi\",\"Prejuizo das Companhias no pico da COVID19 (03/20) em bi\",\"Prejuizo das Companhias no pico da COVID19 (03/20) em bi\",\"Prejuizo das Companhias no pico da COVID19 (03/20) em bi\",\"Prejuizo das Companhias no pico da COVID19 (03/20) em bi\",\"Prejuizo das Companhias no pico da COVID19 (03/20) em bi\",\"Prejuizo das Companhias no pico da COVID19 (03/20) em bi\",\"Prejuizo das Companhias no pico da COVID19 (03/20) em bi\",\"Prejuizo das Companhias no pico da COVID19 (03/20) em bi\",\"Prejuizo das Companhias no pico da COVID19 (03/20) em bi\",\"Prejuizo das Companhias no pico da COVID19 (03/20) em bi\",\"Prejuizo das Companhias no pico da COVID19 (03/20) em bi\",\"Prejuizo das Companhias no pico da COVID19 (03/20) em bi\",\"Prejuizo das Companhias no pico da COVID19 (03/20) em bi\",\"Prejuizo das Companhias no pico da COVID19 (03/20) em bi\",\"Prejuizo das Companhias no pico da COVID19 (03/20) em bi\",\"Prejuizo das Companhias no pico da COVID19 (03/20) em bi\",\"Prejuizo das Companhias no pico da COVID19 (03/20) em bi\",\"Prejuizo das Companhias no pico da COVID19 (03/20) em bi\",\"Prejuizo das Companhias no pico da COVID19 (03/20) em bi\",\"Prejuizo das Companhias no pico da COVID19 (03/20) em bi\",\"Prejuizo das Companhias no pico da COVID19 (03/20) em bi\",\"Prejuizo das Companhias no pico da COVID19 (03/20) em bi\",\"Prejuizo das Companhias no pico da COVID19 (03/20) em bi\",\"Prejuizo das Companhias no pico da COVID19 (03/20) em bi\",\"Prejuizo das Companhias no pico da COVID19 (03/20) em bi\",\"Prejuizo das Companhias no pico da COVID19 (03/20) em bi\",\"Prejuizo das Companhias no pico da COVID19 (03/20) em bi\",\"Prejuizo das Companhias no pico da COVID19 (03/20) em bi\",\"Prejuizo das Companhias no pico da COVID19 (03/20) em bi\",\"Prejuizo das Companhias no pico da COVID19 (03/20) em bi\",\"Prejuizo das Companhias no pico da COVID19 (03/20) em bi\",\"Prejuizo das Companhias no pico da COVID19 (03/20) em bi\",\"Prejuizo das Companhias no pico da COVID19 (03/20) em bi\",\"Prejuizo das Companhias no pico da COVID19 (03/20) em bi\",\"Prejuizo das Companhias no pico da COVID19 (03/20) em bi\",\"Prejuizo das Companhias no pico da COVID19 (03/20) em bi\",\"\"],\"textposition\":\"middle center\",\"texttemplate\":\"%{label}<br>%{customdata}\",\"type\":\"treemap\",\"values\":[1576.0,225.0,239.0,53.0,249.0,602.0,120.0,361.0,2145.0,786.0,556.0,17245.0,66049.0,212.0,369.0,94.0,2004.0,898.0,17.0,542.0,89.0,82.0,187.0,91.0,61537.0,385.0,26.0,317.0,89.0,309.0,931.0,353.0,445.0,1248.0,29.0,160.0,5664.0,322.0,79.0,548.0,52.0,252.0,92.0,206.0,182.0,49850.0,319.0,1550.0,108.0,553.0,331.0,872.0,62.0,221662.0]}],                        {\"coloraxis\":{\"colorbar\":{\"title\":{\"text\":\"Prejuizo.medio\"}},\"colorscale\":[[0.0,\"Green\"],[0.5,\"#8b0000\"],[1.0,\"Red\"]],\"showscale\":false},\"legend\":{\"tracegroupgap\":0},\"margin\":{\"b\":10,\"l\":10,\"r\":10,\"t\":30},\"template\":{\"data\":{\"bar\":[{\"error_x\":{\"color\":\"#2a3f5f\"},\"error_y\":{\"color\":\"#2a3f5f\"},\"marker\":{\"line\":{\"color\":\"#E5ECF6\",\"width\":0.5},\"pattern\":{\"fillmode\":\"overlay\",\"size\":10,\"solidity\":0.2}},\"type\":\"bar\"}],\"barpolar\":[{\"marker\":{\"line\":{\"color\":\"#E5ECF6\",\"width\":0.5},\"pattern\":{\"fillmode\":\"overlay\",\"size\":10,\"solidity\":0.2}},\"type\":\"barpolar\"}],\"carpet\":[{\"aaxis\":{\"endlinecolor\":\"#2a3f5f\",\"gridcolor\":\"white\",\"linecolor\":\"white\",\"minorgridcolor\":\"white\",\"startlinecolor\":\"#2a3f5f\"},\"baxis\":{\"endlinecolor\":\"#2a3f5f\",\"gridcolor\":\"white\",\"linecolor\":\"white\",\"minorgridcolor\":\"white\",\"startlinecolor\":\"#2a3f5f\"},\"type\":\"carpet\"}],\"choropleth\":[{\"colorbar\":{\"outlinewidth\":0,\"ticks\":\"\"},\"type\":\"choropleth\"}],\"contour\":[{\"colorbar\":{\"outlinewidth\":0,\"ticks\":\"\"},\"colorscale\":[[0.0,\"#0d0887\"],[0.1111111111111111,\"#46039f\"],[0.2222222222222222,\"#7201a8\"],[0.3333333333333333,\"#9c179e\"],[0.4444444444444444,\"#bd3786\"],[0.5555555555555556,\"#d8576b\"],[0.6666666666666666,\"#ed7953\"],[0.7777777777777778,\"#fb9f3a\"],[0.8888888888888888,\"#fdca26\"],[1.0,\"#f0f921\"]],\"type\":\"contour\"}],\"contourcarpet\":[{\"colorbar\":{\"outlinewidth\":0,\"ticks\":\"\"},\"type\":\"contourcarpet\"}],\"heatmap\":[{\"colorbar\":{\"outlinewidth\":0,\"ticks\":\"\"},\"colorscale\":[[0.0,\"#0d0887\"],[0.1111111111111111,\"#46039f\"],[0.2222222222222222,\"#7201a8\"],[0.3333333333333333,\"#9c179e\"],[0.4444444444444444,\"#bd3786\"],[0.5555555555555556,\"#d8576b\"],[0.6666666666666666,\"#ed7953\"],[0.7777777777777778,\"#fb9f3a\"],[0.8888888888888888,\"#fdca26\"],[1.0,\"#f0f921\"]],\"type\":\"heatmap\"}],\"heatmapgl\":[{\"colorbar\":{\"outlinewidth\":0,\"ticks\":\"\"},\"colorscale\":[[0.0,\"#0d0887\"],[0.1111111111111111,\"#46039f\"],[0.2222222222222222,\"#7201a8\"],[0.3333333333333333,\"#9c179e\"],[0.4444444444444444,\"#bd3786\"],[0.5555555555555556,\"#d8576b\"],[0.6666666666666666,\"#ed7953\"],[0.7777777777777778,\"#fb9f3a\"],[0.8888888888888888,\"#fdca26\"],[1.0,\"#f0f921\"]],\"type\":\"heatmapgl\"}],\"histogram\":[{\"marker\":{\"pattern\":{\"fillmode\":\"overlay\",\"size\":10,\"solidity\":0.2}},\"type\":\"histogram\"}],\"histogram2d\":[{\"colorbar\":{\"outlinewidth\":0,\"ticks\":\"\"},\"colorscale\":[[0.0,\"#0d0887\"],[0.1111111111111111,\"#46039f\"],[0.2222222222222222,\"#7201a8\"],[0.3333333333333333,\"#9c179e\"],[0.4444444444444444,\"#bd3786\"],[0.5555555555555556,\"#d8576b\"],[0.6666666666666666,\"#ed7953\"],[0.7777777777777778,\"#fb9f3a\"],[0.8888888888888888,\"#fdca26\"],[1.0,\"#f0f921\"]],\"type\":\"histogram2d\"}],\"histogram2dcontour\":[{\"colorbar\":{\"outlinewidth\":0,\"ticks\":\"\"},\"colorscale\":[[0.0,\"#0d0887\"],[0.1111111111111111,\"#46039f\"],[0.2222222222222222,\"#7201a8\"],[0.3333333333333333,\"#9c179e\"],[0.4444444444444444,\"#bd3786\"],[0.5555555555555556,\"#d8576b\"],[0.6666666666666666,\"#ed7953\"],[0.7777777777777778,\"#fb9f3a\"],[0.8888888888888888,\"#fdca26\"],[1.0,\"#f0f921\"]],\"type\":\"histogram2dcontour\"}],\"mesh3d\":[{\"colorbar\":{\"outlinewidth\":0,\"ticks\":\"\"},\"type\":\"mesh3d\"}],\"parcoords\":[{\"line\":{\"colorbar\":{\"outlinewidth\":0,\"ticks\":\"\"}},\"type\":\"parcoords\"}],\"pie\":[{\"automargin\":true,\"type\":\"pie\"}],\"scatter\":[{\"marker\":{\"colorbar\":{\"outlinewidth\":0,\"ticks\":\"\"}},\"type\":\"scatter\"}],\"scatter3d\":[{\"line\":{\"colorbar\":{\"outlinewidth\":0,\"ticks\":\"\"}},\"marker\":{\"colorbar\":{\"outlinewidth\":0,\"ticks\":\"\"}},\"type\":\"scatter3d\"}],\"scattercarpet\":[{\"marker\":{\"colorbar\":{\"outlinewidth\":0,\"ticks\":\"\"}},\"type\":\"scattercarpet\"}],\"scattergeo\":[{\"marker\":{\"colorbar\":{\"outlinewidth\":0,\"ticks\":\"\"}},\"type\":\"scattergeo\"}],\"scattergl\":[{\"marker\":{\"colorbar\":{\"outlinewidth\":0,\"ticks\":\"\"}},\"type\":\"scattergl\"}],\"scattermapbox\":[{\"marker\":{\"colorbar\":{\"outlinewidth\":0,\"ticks\":\"\"}},\"type\":\"scattermapbox\"}],\"scatterpolar\":[{\"marker\":{\"colorbar\":{\"outlinewidth\":0,\"ticks\":\"\"}},\"type\":\"scatterpolar\"}],\"scatterpolargl\":[{\"marker\":{\"colorbar\":{\"outlinewidth\":0,\"ticks\":\"\"}},\"type\":\"scatterpolargl\"}],\"scatterternary\":[{\"marker\":{\"colorbar\":{\"outlinewidth\":0,\"ticks\":\"\"}},\"type\":\"scatterternary\"}],\"surface\":[{\"colorbar\":{\"outlinewidth\":0,\"ticks\":\"\"},\"colorscale\":[[0.0,\"#0d0887\"],[0.1111111111111111,\"#46039f\"],[0.2222222222222222,\"#7201a8\"],[0.3333333333333333,\"#9c179e\"],[0.4444444444444444,\"#bd3786\"],[0.5555555555555556,\"#d8576b\"],[0.6666666666666666,\"#ed7953\"],[0.7777777777777778,\"#fb9f3a\"],[0.8888888888888888,\"#fdca26\"],[1.0,\"#f0f921\"]],\"type\":\"surface\"}],\"table\":[{\"cells\":{\"fill\":{\"color\":\"#EBF0F8\"},\"line\":{\"color\":\"white\"}},\"header\":{\"fill\":{\"color\":\"#C8D4E3\"},\"line\":{\"color\":\"white\"}},\"type\":\"table\"}]},\"layout\":{\"annotationdefaults\":{\"arrowcolor\":\"#2a3f5f\",\"arrowhead\":0,\"arrowwidth\":1},\"autotypenumbers\":\"strict\",\"coloraxis\":{\"colorbar\":{\"outlinewidth\":0,\"ticks\":\"\"}},\"colorscale\":{\"diverging\":[[0,\"#8e0152\"],[0.1,\"#c51b7d\"],[0.2,\"#de77ae\"],[0.3,\"#f1b6da\"],[0.4,\"#fde0ef\"],[0.5,\"#f7f7f7\"],[0.6,\"#e6f5d0\"],[0.7,\"#b8e186\"],[0.8,\"#7fbc41\"],[0.9,\"#4d9221\"],[1,\"#276419\"]],\"sequential\":[[0.0,\"#0d0887\"],[0.1111111111111111,\"#46039f\"],[0.2222222222222222,\"#7201a8\"],[0.3333333333333333,\"#9c179e\"],[0.4444444444444444,\"#bd3786\"],[0.5555555555555556,\"#d8576b\"],[0.6666666666666666,\"#ed7953\"],[0.7777777777777778,\"#fb9f3a\"],[0.8888888888888888,\"#fdca26\"],[1.0,\"#f0f921\"]],\"sequentialminus\":[[0.0,\"#0d0887\"],[0.1111111111111111,\"#46039f\"],[0.2222222222222222,\"#7201a8\"],[0.3333333333333333,\"#9c179e\"],[0.4444444444444444,\"#bd3786\"],[0.5555555555555556,\"#d8576b\"],[0.6666666666666666,\"#ed7953\"],[0.7777777777777778,\"#fb9f3a\"],[0.8888888888888888,\"#fdca26\"],[1.0,\"#f0f921\"]]},\"colorway\":[\"#636efa\",\"#EF553B\",\"#00cc96\",\"#ab63fa\",\"#FFA15A\",\"#19d3f3\",\"#FF6692\",\"#B6E880\",\"#FF97FF\",\"#FECB52\"],\"font\":{\"color\":\"#2a3f5f\"},\"geo\":{\"bgcolor\":\"white\",\"lakecolor\":\"white\",\"landcolor\":\"#E5ECF6\",\"showlakes\":true,\"showland\":true,\"subunitcolor\":\"white\"},\"hoverlabel\":{\"align\":\"left\"},\"hovermode\":\"closest\",\"mapbox\":{\"style\":\"light\"},\"paper_bgcolor\":\"white\",\"plot_bgcolor\":\"#E5ECF6\",\"polar\":{\"angularaxis\":{\"gridcolor\":\"white\",\"linecolor\":\"white\",\"ticks\":\"\"},\"bgcolor\":\"#E5ECF6\",\"radialaxis\":{\"gridcolor\":\"white\",\"linecolor\":\"white\",\"ticks\":\"\"}},\"scene\":{\"xaxis\":{\"backgroundcolor\":\"#E5ECF6\",\"gridcolor\":\"white\",\"gridwidth\":2,\"linecolor\":\"white\",\"showbackground\":true,\"ticks\":\"\",\"zerolinecolor\":\"white\"},\"yaxis\":{\"backgroundcolor\":\"#E5ECF6\",\"gridcolor\":\"white\",\"gridwidth\":2,\"linecolor\":\"white\",\"showbackground\":true,\"ticks\":\"\",\"zerolinecolor\":\"white\"},\"zaxis\":{\"backgroundcolor\":\"#E5ECF6\",\"gridcolor\":\"white\",\"gridwidth\":2,\"linecolor\":\"white\",\"showbackground\":true,\"ticks\":\"\",\"zerolinecolor\":\"white\"}},\"shapedefaults\":{\"line\":{\"color\":\"#2a3f5f\"}},\"ternary\":{\"aaxis\":{\"gridcolor\":\"white\",\"linecolor\":\"white\",\"ticks\":\"\"},\"baxis\":{\"gridcolor\":\"white\",\"linecolor\":\"white\",\"ticks\":\"\"},\"bgcolor\":\"#E5ECF6\",\"caxis\":{\"gridcolor\":\"white\",\"linecolor\":\"white\",\"ticks\":\"\"}},\"title\":{\"x\":0.05},\"xaxis\":{\"automargin\":true,\"gridcolor\":\"white\",\"linecolor\":\"white\",\"ticks\":\"\",\"title\":{\"standoff\":15},\"zerolinecolor\":\"white\",\"zerolinewidth\":2},\"yaxis\":{\"automargin\":true,\"gridcolor\":\"white\",\"linecolor\":\"white\",\"ticks\":\"\",\"title\":{\"standoff\":15},\"zerolinecolor\":\"white\",\"zerolinewidth\":2}}}},                        {\"responsive\": true}                    ).then(function(){\n",
       "                            \n",
       "var gd = document.getElementById('20709c4d-c450-42e3-93e8-d4257087a87d');\n",
       "var x = new MutationObserver(function (mutations, observer) {{\n",
       "        var display = window.getComputedStyle(gd).display;\n",
       "        if (!display || display === 'none') {{\n",
       "            console.log([gd, 'removed!']);\n",
       "            Plotly.purge(gd);\n",
       "            observer.disconnect();\n",
       "        }}\n",
       "}});\n",
       "\n",
       "// Listen for the removal of the full notebook cells\n",
       "var notebookContainer = gd.closest('#notebook-container');\n",
       "if (notebookContainer) {{\n",
       "    x.observe(notebookContainer, {childList: true});\n",
       "}}\n",
       "\n",
       "// Listen for the clearing of the current output cell\n",
       "var outputEl = gd.closest('.output');\n",
       "if (outputEl) {{\n",
       "    x.observe(outputEl, {childList: true});\n",
       "}}\n",
       "\n",
       "                        })                };                });            </script>        </div>"
      ]
     },
     "metadata": {},
     "output_type": "display_data"
    }
   ],
   "source": [
    "df_chart.sort_values(by=['Empresa'],inplace=True)\n",
    "\n",
    "fig = px.treemap(df_chart, \n",
    "                 path=[px.Constant('Prejuizo das Companhias no pico da COVID19 (03/20) em bi'), 'Empresa'],\n",
    "                 values='Quantidade.total', color='Prejuizo.medio',\n",
    "                 color_continuous_scale=[ 'Green', \"#8b0000\", 'Red'])\n",
    "\n",
    "fig.data[0].customdata = df_chart['Prejuizo.medio']\n",
    "fig.data[0].texttemplate = \"%{label}<br>%{customdata}\"\n",
    "fig.update_traces(textposition=\"middle center\", \n",
    "                  selector=dict(type='treemap'))\n",
    "\n",
    "fig.update_layout(margin = dict(t=30, l=10, r=10, b=10))\n",
    "fig.update(layout_coloraxis_showscale=False)\n",
    "fig.show()"
   ]
  },
  {
   "cell_type": "code",
   "execution_count": null,
   "id": "d60515ca-bea4-4713-95c5-97e53fc48606",
   "metadata": {},
   "outputs": [],
   "source": []
  }
 ],
 "metadata": {
  "kernelspec": {
   "display_name": "Python 3 (ipykernel)",
   "language": "python",
   "name": "python3"
  },
  "language_info": {
   "codemirror_mode": {
    "name": "ipython",
    "version": 3
   },
   "file_extension": ".py",
   "mimetype": "text/x-python",
   "name": "python",
   "nbconvert_exporter": "python",
   "pygments_lexer": "ipython3",
   "version": "3.9.12"
  }
 },
 "nbformat": 4,
 "nbformat_minor": 5
}
